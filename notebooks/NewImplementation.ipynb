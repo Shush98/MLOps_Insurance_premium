{
 "cells": [
  {
   "cell_type": "code",
   "execution_count": 1,
   "id": "9bafa909-2c5c-4dbd-b9cb-1fd0cbe32d74",
   "metadata": {},
   "outputs": [],
   "source": [
    "import os\n",
    "import json\n",
    "import numpy as np\n",
    "import pandas as pd\n",
    "import matplotlib.pyplot as plt\n",
    "pd.options.display.max_rows = 100\n",
    "pd.options.display.max_columns = 100\n",
    "pd.set_option('display.max_colwidth', None)\n",
    "from scipy.spatial.distance import cdist\n",
    "import warnings\n",
    "warnings.filterwarnings('ignore')"
   ]
  },
  {
   "cell_type": "code",
   "execution_count": 82,
   "id": "d3f4db58-ec09-4484-b51a-13058459d7b3",
   "metadata": {},
   "outputs": [],
   "source": [
    "df = pd.read_csv('insurancePrediction.csv')"
   ]
  },
  {
   "cell_type": "code",
   "execution_count": 46,
   "id": "3bc459af-2ab5-4097-9201-775b823f2c27",
   "metadata": {},
   "outputs": [
    {
     "data": {
      "text/plain": [
       "(278860, 20)"
      ]
     },
     "execution_count": 46,
     "metadata": {},
     "output_type": "execute_result"
    }
   ],
   "source": [
    "df.shape"
   ]
  },
  {
   "cell_type": "code",
   "execution_count": 47,
   "id": "321c970a-30eb-44b0-9823-d397e39b65f9",
   "metadata": {
    "scrolled": true
   },
   "outputs": [
    {
     "data": {
      "text/plain": [
       "Age                      4685\n",
       "Gender                      0\n",
       "Annual Income           13955\n",
       "Marital Status           5019\n",
       "Number of Dependents    27886\n",
       "Education Level             0\n",
       "Occupation              81288\n",
       "Health Score            10597\n",
       "Location                    0\n",
       "Policy Type                 0\n",
       "Previous Claims         81288\n",
       "Vehicle Age                 0\n",
       "Credit Score            27886\n",
       "Insurance Duration          0\n",
       "Premium Amount           1841\n",
       "Policy Start Date           0\n",
       "Customer Feedback       18349\n",
       "Smoking Status              0\n",
       "Exercise Frequency          0\n",
       "Property Type               0\n",
       "dtype: int64"
      ]
     },
     "execution_count": 47,
     "metadata": {},
     "output_type": "execute_result"
    }
   ],
   "source": [
    "df.isna().sum()"
   ]
  },
  {
   "cell_type": "code",
   "execution_count": 48,
   "id": "b4495b18-413b-4c4e-9eeb-1886b7d85b99",
   "metadata": {},
   "outputs": [
    {
     "data": {
      "text/plain": [
       "Previous Claims\n",
       "1.0    72925\n",
       "0.0    72793\n",
       "2.0    35983\n",
       "3.0    12065\n",
       "4.0     3063\n",
       "5.0      625\n",
       "6.0       94\n",
       "7.0       21\n",
       "9.0        2\n",
       "8.0        1\n",
       "Name: count, dtype: int64"
      ]
     },
     "execution_count": 48,
     "metadata": {},
     "output_type": "execute_result"
    }
   ],
   "source": [
    "df['Previous Claims'].value_counts()"
   ]
  },
  {
   "cell_type": "code",
   "execution_count": 43,
   "id": "dfcc34bc-7657-4577-bd58-f85e4118c842",
   "metadata": {},
   "outputs": [
    {
     "data": {
      "text/plain": [
       "81288"
      ]
     },
     "execution_count": 43,
     "metadata": {},
     "output_type": "execute_result"
    }
   ],
   "source": [
    "df['Previous Claims'].isna().sum()"
   ]
  },
  {
   "cell_type": "code",
   "execution_count": null,
   "id": "35bc50a7-dcce-4322-aa57-c1321c123a7b",
   "metadata": {},
   "outputs": [],
   "source": []
  },
  {
   "cell_type": "code",
   "execution_count": null,
   "id": "5d3be909-b50d-4731-be32-81b1a69a7331",
   "metadata": {},
   "outputs": [],
   "source": []
  },
  {
   "cell_type": "code",
   "execution_count": null,
   "id": "f6dc6275-fc59-43ac-b4d7-1145fab5982b",
   "metadata": {},
   "outputs": [],
   "source": []
  },
  {
   "cell_type": "code",
   "execution_count": 44,
   "id": "1078a3e5-40a6-425f-9ce5-3732ce0bbd9b",
   "metadata": {},
   "outputs": [
    {
     "data": {
      "text/plain": [
       "278860"
      ]
     },
     "execution_count": 44,
     "metadata": {},
     "output_type": "execute_result"
    }
   ],
   "source": [
    "df.shape[0]"
   ]
  },
  {
   "cell_type": "code",
   "execution_count": 15,
   "id": "0e4fe57a-1c8f-43ff-8442-4a2ef2d31a36",
   "metadata": {},
   "outputs": [
    {
     "data": {
      "text/plain": [
       "0.2892857142857143"
      ]
     },
     "execution_count": 15,
     "metadata": {},
     "output_type": "execute_result"
    }
   ],
   "source": [
    "81/280"
   ]
  },
  {
   "cell_type": "code",
   "execution_count": null,
   "id": "aa511ea2-3d75-49d7-bcab-7f4026a55465",
   "metadata": {},
   "outputs": [],
   "source": [
    "# Age                      4685\n",
    "# Annual Income           13955\n",
    "# Marital Status           5019\n",
    "# Number of Dependents    27886\n",
    "# Occupation              81288\n",
    "# Health Score            10597\n",
    "# Previous Claims         81288\n",
    "# Credit Score            27886\n",
    "# Premium Amount           1841---------------------------------------\n",
    "# Customer Feedback       18349"
   ]
  },
  {
   "cell_type": "code",
   "execution_count": 39,
   "id": "5688dacf-32d3-436a-93cd-ba14e31f3f15",
   "metadata": {},
   "outputs": [
    {
     "data": {
      "text/html": [
       "<div>\n",
       "<style scoped>\n",
       "    .dataframe tbody tr th:only-of-type {\n",
       "        vertical-align: middle;\n",
       "    }\n",
       "\n",
       "    .dataframe tbody tr th {\n",
       "        vertical-align: top;\n",
       "    }\n",
       "\n",
       "    .dataframe thead th {\n",
       "        text-align: right;\n",
       "    }\n",
       "</style>\n",
       "<table border=\"1\" class=\"dataframe\">\n",
       "  <thead>\n",
       "    <tr style=\"text-align: right;\">\n",
       "      <th></th>\n",
       "      <th>Age</th>\n",
       "      <th>Gender</th>\n",
       "      <th>Annual Income</th>\n",
       "      <th>Marital Status</th>\n",
       "      <th>Number of Dependents</th>\n",
       "      <th>Education Level</th>\n",
       "      <th>Occupation</th>\n",
       "      <th>Health Score</th>\n",
       "      <th>Location</th>\n",
       "      <th>Policy Type</th>\n",
       "      <th>Previous Claims</th>\n",
       "      <th>Vehicle Age</th>\n",
       "      <th>Credit Score</th>\n",
       "      <th>Insurance Duration</th>\n",
       "      <th>Premium Amount</th>\n",
       "      <th>Policy Start Date</th>\n",
       "      <th>Customer Feedback</th>\n",
       "      <th>Smoking Status</th>\n",
       "      <th>Exercise Frequency</th>\n",
       "      <th>Property Type</th>\n",
       "    </tr>\n",
       "  </thead>\n",
       "  <tbody>\n",
       "    <tr>\n",
       "      <th>0</th>\n",
       "      <td>56.0</td>\n",
       "      <td>Male</td>\n",
       "      <td>99990.0</td>\n",
       "      <td>Married</td>\n",
       "      <td>1.0</td>\n",
       "      <td>Master's</td>\n",
       "      <td>NaN</td>\n",
       "      <td>31.074627</td>\n",
       "      <td>Urban</td>\n",
       "      <td>Comprehensive</td>\n",
       "      <td>NaN</td>\n",
       "      <td>13</td>\n",
       "      <td>320.0</td>\n",
       "      <td>5</td>\n",
       "      <td>308.0</td>\n",
       "      <td>2022-12-10 15:21:39.078837</td>\n",
       "      <td>Poor</td>\n",
       "      <td>Yes</td>\n",
       "      <td>Daily</td>\n",
       "      <td>Condo</td>\n",
       "    </tr>\n",
       "    <tr>\n",
       "      <th>1</th>\n",
       "      <td>46.0</td>\n",
       "      <td>Male</td>\n",
       "      <td>2867.0</td>\n",
       "      <td>Single</td>\n",
       "      <td>1.0</td>\n",
       "      <td>Bachelor's</td>\n",
       "      <td>NaN</td>\n",
       "      <td>50.271335</td>\n",
       "      <td>Urban</td>\n",
       "      <td>Comprehensive</td>\n",
       "      <td>NaN</td>\n",
       "      <td>3</td>\n",
       "      <td>694.0</td>\n",
       "      <td>4</td>\n",
       "      <td>517.0</td>\n",
       "      <td>2023-01-31 15:21:39.078837</td>\n",
       "      <td>Good</td>\n",
       "      <td>Yes</td>\n",
       "      <td>Monthly</td>\n",
       "      <td>House</td>\n",
       "    </tr>\n",
       "    <tr>\n",
       "      <th>2</th>\n",
       "      <td>32.0</td>\n",
       "      <td>Female</td>\n",
       "      <td>30154.0</td>\n",
       "      <td>Divorced</td>\n",
       "      <td>3.0</td>\n",
       "      <td>Bachelor's</td>\n",
       "      <td>NaN</td>\n",
       "      <td>14.714909</td>\n",
       "      <td>Suburban</td>\n",
       "      <td>Comprehensive</td>\n",
       "      <td>2.0</td>\n",
       "      <td>16</td>\n",
       "      <td>652.0</td>\n",
       "      <td>8</td>\n",
       "      <td>849.0</td>\n",
       "      <td>2023-11-26 15:21:39.078837</td>\n",
       "      <td>Poor</td>\n",
       "      <td>No</td>\n",
       "      <td>Monthly</td>\n",
       "      <td>House</td>\n",
       "    </tr>\n",
       "    <tr>\n",
       "      <th>3</th>\n",
       "      <td>60.0</td>\n",
       "      <td>Female</td>\n",
       "      <td>48371.0</td>\n",
       "      <td>Divorced</td>\n",
       "      <td>0.0</td>\n",
       "      <td>PhD</td>\n",
       "      <td>Self-Employed</td>\n",
       "      <td>25.346926</td>\n",
       "      <td>Rural</td>\n",
       "      <td>Comprehensive</td>\n",
       "      <td>1.0</td>\n",
       "      <td>11</td>\n",
       "      <td>330.0</td>\n",
       "      <td>7</td>\n",
       "      <td>927.0</td>\n",
       "      <td>2023-02-27 15:21:39.078837</td>\n",
       "      <td>Poor</td>\n",
       "      <td>No</td>\n",
       "      <td>Rarely</td>\n",
       "      <td>Condo</td>\n",
       "    </tr>\n",
       "    <tr>\n",
       "      <th>4</th>\n",
       "      <td>25.0</td>\n",
       "      <td>Female</td>\n",
       "      <td>54174.0</td>\n",
       "      <td>Divorced</td>\n",
       "      <td>0.0</td>\n",
       "      <td>High School</td>\n",
       "      <td>Self-Employed</td>\n",
       "      <td>6.659499</td>\n",
       "      <td>Urban</td>\n",
       "      <td>Comprehensive</td>\n",
       "      <td>NaN</td>\n",
       "      <td>9</td>\n",
       "      <td>NaN</td>\n",
       "      <td>8</td>\n",
       "      <td>303.0</td>\n",
       "      <td>2020-11-25 15:21:39.078837</td>\n",
       "      <td>Poor</td>\n",
       "      <td>No</td>\n",
       "      <td>Rarely</td>\n",
       "      <td>Condo</td>\n",
       "    </tr>\n",
       "  </tbody>\n",
       "</table>\n",
       "</div>"
      ],
      "text/plain": [
       "    Age  Gender  Annual Income Marital Status Number of Dependents  \\\n",
       "0  56.0    Male        99990.0        Married                  1.0   \n",
       "1  46.0    Male         2867.0         Single                  1.0   \n",
       "2  32.0  Female        30154.0       Divorced                  3.0   \n",
       "3  60.0  Female        48371.0       Divorced                  0.0   \n",
       "4  25.0  Female        54174.0       Divorced                  0.0   \n",
       "\n",
       "  Education Level     Occupation  Health Score  Location    Policy Type  \\\n",
       "0        Master's            NaN     31.074627     Urban  Comprehensive   \n",
       "1      Bachelor's            NaN     50.271335     Urban  Comprehensive   \n",
       "2      Bachelor's            NaN     14.714909  Suburban  Comprehensive   \n",
       "3             PhD  Self-Employed     25.346926     Rural  Comprehensive   \n",
       "4     High School  Self-Employed      6.659499     Urban  Comprehensive   \n",
       "\n",
       "   Previous Claims  Vehicle Age  Credit Score  Insurance Duration  \\\n",
       "0              NaN           13         320.0                   5   \n",
       "1              NaN            3         694.0                   4   \n",
       "2              2.0           16         652.0                   8   \n",
       "3              1.0           11         330.0                   7   \n",
       "4              NaN            9           NaN                   8   \n",
       "\n",
       "   Premium Amount          Policy Start Date Customer Feedback Smoking Status  \\\n",
       "0           308.0 2022-12-10 15:21:39.078837              Poor            Yes   \n",
       "1           517.0 2023-01-31 15:21:39.078837              Good            Yes   \n",
       "2           849.0 2023-11-26 15:21:39.078837              Poor             No   \n",
       "3           927.0 2023-02-27 15:21:39.078837              Poor             No   \n",
       "4           303.0 2020-11-25 15:21:39.078837              Poor             No   \n",
       "\n",
       "  Exercise Frequency Property Type  \n",
       "0              Daily         Condo  \n",
       "1            Monthly         House  \n",
       "2            Monthly         House  \n",
       "3             Rarely         Condo  \n",
       "4             Rarely         Condo  "
      ]
     },
     "execution_count": 39,
     "metadata": {},
     "output_type": "execute_result"
    }
   ],
   "source": [
    "df.head()"
   ]
  },
  {
   "cell_type": "code",
   "execution_count": 58,
   "id": "f08f7ae1-a5c3-4a4f-8edd-9660cb1d8035",
   "metadata": {},
   "outputs": [
    {
     "name": "stdout",
     "output_type": "stream",
     "text": [
      "<class 'pandas.core.frame.DataFrame'>\n",
      "Index: 196271 entries, 3 to 278859\n",
      "Data columns (total 20 columns):\n",
      " #   Column                Non-Null Count   Dtype  \n",
      "---  ------                --------------   -----  \n",
      " 0   Age                   192986 non-null  float64\n",
      " 1   Gender                196271 non-null  object \n",
      " 2   Annual Income         186421 non-null  float64\n",
      " 3   Marital Status        192712 non-null  object \n",
      " 4   Number of Dependents  176719 non-null  float64\n",
      " 5   Education Level       196271 non-null  object \n",
      " 6   Occupation            196271 non-null  object \n",
      " 7   Health Score          188839 non-null  float64\n",
      " 8   Location              196271 non-null  object \n",
      " 9   Policy Type           196271 non-null  object \n",
      " 10  Previous Claims       139068 non-null  float64\n",
      " 11  Vehicle Age           196271 non-null  int64  \n",
      " 12  Credit Score          176602 non-null  float64\n",
      " 13  Insurance Duration    196271 non-null  int64  \n",
      " 14  Premium Amount        196271 non-null  float64\n",
      " 15  Policy Start Date     196271 non-null  object \n",
      " 16  Customer Feedback     183345 non-null  object \n",
      " 17  Smoking Status        196271 non-null  object \n",
      " 18  Exercise Frequency    196271 non-null  object \n",
      " 19  Property Type         196271 non-null  object \n",
      "dtypes: float64(7), int64(2), object(11)\n",
      "memory usage: 31.4+ MB\n"
     ]
    }
   ],
   "source": [
    "df.info()"
   ]
  },
  {
   "cell_type": "code",
   "execution_count": 83,
   "id": "84cde072-0b30-4de9-839d-e3d7ca3a5a2b",
   "metadata": {},
   "outputs": [],
   "source": [
    "class InsuranceDataCleaning:\n",
    "    def __init__(self,df):\n",
    "        self.df = df.copy()\n",
    "        self.target = 'Premium Amount'\n",
    "\n",
    "    def remove_nulls(self, column_name):\n",
    "        self.df.dropna(subset=column_name, inplace=True)\n",
    "        self.df.reset_index(drop=True, inplace = True)\n",
    "\n",
    "    def convert_datetime(self, column):\n",
    "        self.df[column] = pd.to_datetime(self.df[column])\n",
    "        \n",
    "    def to_categorical(self, column_list):\n",
    "        for col_name in column_list:\n",
    "            self.df[col_name] = self.df[col_name].astype('category')\n",
    "            \n",
    "    def handle_missing(self):\n",
    "        categorical_cols = self.df.select_dtypes(include=['category']).columns.tolist()\n",
    "        numerical_cols = self.df.select_dtypes(include=['int64','float64']).columns.tolist()\n",
    "\n",
    "        remove_col = []\n",
    "        remove_rows = []\n",
    "        for col_name in numerical_cols:\n",
    "            missing_count = self.df[col_name].isna().sum()\n",
    "            total_count = self.df.shape[0]\n",
    "            if (missing_count/total_count) >= 0.35:\n",
    "                remove_col.append(col_name)\n",
    "            elif (missing_count/total_count) <=0.05:\n",
    "                remove_rows.append(col_name)\n",
    "            else:\n",
    "                self.df[col_name].fillna(value=self.df[col_name].mean(), inplace=True) \n",
    "\n",
    "        for col_name in categorical_cols:\n",
    "            missing_count = self.df[col_name].isna().sum()\n",
    "            total_count = self.df.shape[0]\n",
    "            if (missing_count/total_count) >= 0.35:\n",
    "                remove_col.append(col_name)\n",
    "            elif (missing_count/total_count) <=0.05:\n",
    "                remove_rows.append(col_name)\n",
    "            else:\n",
    "                self.df[col_name].fillna(value=self.df[col_name].value_counts().keys()[0], inplace=True)\n",
    "\n",
    "        self.remove_nulls(remove_rows)\n",
    "        self.df.drop(remove_col, axis=1, inplace=True)\n",
    "        self.df.reset_index(drop=True)\n",
    "\n",
    "    def preprocess(self):\n",
    "        self.remove_nulls([self.target])\n",
    "        self.convert_datetime('Policy Start Date')\n",
    "        self.to_categorical(self.df.select_dtypes(include=['object']).columns.tolist()+\\\n",
    "                             ['Number of Dependents','Previous Claims','Insurance Duration'])\n",
    "        self.handle_missing()\n",
    "        return self.df\n",
    "        "
   ]
  },
  {
   "cell_type": "code",
   "execution_count": 84,
   "id": "aa9d3de7-238b-47bb-b4ae-c6b5a7bd5274",
   "metadata": {},
   "outputs": [],
   "source": [
    "preprocessor = InsuranceDataCleaning(df)\n",
    "cleaned_df = preprocessor.preprocess()"
   ]
  },
  {
   "cell_type": "code",
   "execution_count": 85,
   "id": "a2121938-62bf-4078-a9bd-dabc786ec060",
   "metadata": {},
   "outputs": [
    {
     "data": {
      "text/plain": [
       "(257319, 20)"
      ]
     },
     "execution_count": 85,
     "metadata": {},
     "output_type": "execute_result"
    }
   ],
   "source": [
    "cleaned_df.shape"
   ]
  },
  {
   "cell_type": "code",
   "execution_count": 90,
   "id": "ae99c48c-89c6-4ca2-bdd5-910973629169",
   "metadata": {},
   "outputs": [
    {
     "name": "stdout",
     "output_type": "stream",
     "text": [
      "<class 'pandas.core.frame.DataFrame'>\n",
      "RangeIndex: 257319 entries, 0 to 257318\n",
      "Data columns (total 20 columns):\n",
      " #   Column                Non-Null Count   Dtype         \n",
      "---  ------                --------------   -----         \n",
      " 0   Age                   257319 non-null  float64       \n",
      " 1   Gender                257319 non-null  category      \n",
      " 2   Annual Income         257319 non-null  float64       \n",
      " 3   Marital Status        257319 non-null  category      \n",
      " 4   Number of Dependents  257319 non-null  category      \n",
      " 5   Education Level       257319 non-null  category      \n",
      " 6   Occupation            257319 non-null  category      \n",
      " 7   Health Score          257319 non-null  float64       \n",
      " 8   Location              257319 non-null  category      \n",
      " 9   Policy Type           257319 non-null  category      \n",
      " 10  Previous Claims       257319 non-null  category      \n",
      " 11  Vehicle Age           257319 non-null  int64         \n",
      " 12  Credit Score          257319 non-null  float64       \n",
      " 13  Insurance Duration    257319 non-null  category      \n",
      " 14  Premium Amount        257319 non-null  float64       \n",
      " 15  Policy Start Date     257319 non-null  datetime64[ns]\n",
      " 16  Customer Feedback     257319 non-null  category      \n",
      " 17  Smoking Status        257319 non-null  category      \n",
      " 18  Exercise Frequency    257319 non-null  category      \n",
      " 19  Property Type         257319 non-null  category      \n",
      "dtypes: category(13), datetime64[ns](1), float64(5), int64(1)\n",
      "memory usage: 16.9 MB\n"
     ]
    }
   ],
   "source": [
    "cleaned_df.info()"
   ]
  },
  {
   "cell_type": "code",
   "execution_count": 93,
   "id": "24845f14-b7b4-4c24-ad62-120d33f489a8",
   "metadata": {},
   "outputs": [
    {
     "name": "stdout",
     "output_type": "stream",
     "text": [
      "datetime64[ns]\n",
      "{'Age': 'float64', 'Gender': 'category', 'Annual Income': 'float64', 'Marital Status': 'category', 'Number of Dependents': 'category', 'Education Level': 'category', 'Occupation': 'category', 'Health Score': 'float64', 'Location': 'category', 'Policy Type': 'category', 'Previous Claims': 'category', 'Vehicle Age': 'int64', 'Credit Score': 'float64', 'Insurance Duration': 'category', 'Premium Amount': 'float64', 'Customer Feedback': 'category', 'Smoking Status': 'category', 'Exercise Frequency': 'category', 'Property Type': 'category'}\n"
     ]
    }
   ],
   "source": [
    "import json\n",
    "    \n",
    "dtype_dict = cleaned_df.dtypes.apply(lambda x: x.name).to_dict()\n",
    "print(dtype_dict.pop('Policy Start Date'))\n",
    "print(dtype_dict)\n",
    "with open('dtypes.json', 'w') as f:\n",
    "    json.dump(dtype_dict, f)"
   ]
  },
  {
   "cell_type": "code",
   "execution_count": 89,
   "id": "85552079-eafe-45c1-8059-f3737c6927f3",
   "metadata": {},
   "outputs": [],
   "source": [
    "cleaned_df.to_csv('cleaned_df_insurance.csv', index = False)"
   ]
  },
  {
   "cell_type": "code",
   "execution_count": null,
   "id": "ef570c55-defb-4e1b-ade2-6f3b4b2a4178",
   "metadata": {},
   "outputs": [],
   "source": []
  },
  {
   "cell_type": "code",
   "execution_count": null,
   "id": "516187a2-20f4-4e7f-b4e5-fa3aac3bb65c",
   "metadata": {},
   "outputs": [],
   "source": []
  },
  {
   "cell_type": "code",
   "execution_count": null,
   "id": "0ceb1b31-3ee9-4fbd-8549-fa128bc607c1",
   "metadata": {},
   "outputs": [],
   "source": []
  },
  {
   "cell_type": "code",
   "execution_count": 88,
   "id": "2867977e-1e41-492c-a7e4-3dfb302c4104",
   "metadata": {},
   "outputs": [
    {
     "data": {
      "text/plain": [
       "7.724664706304239"
      ]
     },
     "execution_count": 88,
     "metadata": {},
     "output_type": "execute_result"
    }
   ],
   "source": [
    "((278860 - 257319)/278860)*100"
   ]
  },
  {
   "cell_type": "code",
   "execution_count": 86,
   "id": "6a8f1456-b210-44c2-b297-1b56786f2082",
   "metadata": {},
   "outputs": [
    {
     "data": {
      "text/plain": [
       "Age                     0\n",
       "Gender                  0\n",
       "Annual Income           0\n",
       "Marital Status          0\n",
       "Number of Dependents    0\n",
       "Education Level         0\n",
       "Occupation              0\n",
       "Health Score            0\n",
       "Location                0\n",
       "Policy Type             0\n",
       "Previous Claims         0\n",
       "Vehicle Age             0\n",
       "Credit Score            0\n",
       "Insurance Duration      0\n",
       "Premium Amount          0\n",
       "Policy Start Date       0\n",
       "Customer Feedback       0\n",
       "Smoking Status          0\n",
       "Exercise Frequency      0\n",
       "Property Type           0\n",
       "dtype: int64"
      ]
     },
     "execution_count": 86,
     "metadata": {},
     "output_type": "execute_result"
    }
   ],
   "source": [
    "cleaned_df.isna().sum()"
   ]
  },
  {
   "cell_type": "code",
   "execution_count": null,
   "id": "fb24d15d-3d3e-47be-876e-8be8e54d8340",
   "metadata": {},
   "outputs": [],
   "source": []
  },
  {
   "cell_type": "code",
   "execution_count": null,
   "id": "4aaafdff-09b6-4d95-983b-1703ad9e7e3d",
   "metadata": {},
   "outputs": [],
   "source": [
    "class InsuranceFeatureEngineering:\n",
    "    def __init__(self, df):\n",
    "        self.df = df.copy()\n",
    "        "
   ]
  },
  {
   "cell_type": "code",
   "execution_count": null,
   "id": "5d4cdbeb-0167-45f8-9a3e-4b094130ad80",
   "metadata": {},
   "outputs": [],
   "source": []
  },
  {
   "cell_type": "code",
   "execution_count": null,
   "id": "e72066db-271b-43d4-abce-16879b3a8d45",
   "metadata": {},
   "outputs": [],
   "source": []
  },
  {
   "cell_type": "code",
   "execution_count": null,
   "id": "58dc9600-5791-44fb-9d98-82bba1edd9e7",
   "metadata": {},
   "outputs": [],
   "source": []
  },
  {
   "cell_type": "code",
   "execution_count": null,
   "id": "44a3f8df-2d02-4af7-a852-a2ee44890766",
   "metadata": {},
   "outputs": [],
   "source": []
  },
  {
   "cell_type": "code",
   "execution_count": null,
   "id": "a2e7c8c6-2b98-4a18-a8b1-5cf598ec0055",
   "metadata": {},
   "outputs": [],
   "source": []
  },
  {
   "cell_type": "code",
   "execution_count": null,
   "id": "22db7c8d-0c11-4d96-9f2a-d9ad77f63fec",
   "metadata": {},
   "outputs": [],
   "source": []
  },
  {
   "cell_type": "code",
   "execution_count": null,
   "id": "67ab7476-acab-4a4f-a950-18127a4817c2",
   "metadata": {},
   "outputs": [],
   "source": []
  },
  {
   "cell_type": "code",
   "execution_count": null,
   "id": "7d3b928a-d48f-4c6a-a67e-e746eba7715c",
   "metadata": {},
   "outputs": [],
   "source": []
  },
  {
   "cell_type": "code",
   "execution_count": null,
   "id": "ad788ce7-586f-4ea7-85a6-3e71b2dbda4d",
   "metadata": {},
   "outputs": [],
   "source": []
  },
  {
   "cell_type": "code",
   "execution_count": null,
   "id": "253da907-b8c5-4806-a806-35fdad99221b",
   "metadata": {},
   "outputs": [],
   "source": []
  },
  {
   "cell_type": "code",
   "execution_count": null,
   "id": "771c684c-c9c3-4a18-8156-171589c75d85",
   "metadata": {},
   "outputs": [],
   "source": [
    "import pandas as pd\n",
    "from sklearn.impute import SimpleImputer\n",
    "from sklearn.preprocessing import LabelEncoder\n",
    "\n",
    "class InsuranceDataPreprocessor:\n",
    "    def __init__(self, df):\n",
    "        self.df = df.copy()\n",
    "        self.categorical_cols = self.df.select_dtypes(include=['object']).columns.tolist()\n",
    "        self.numerical_cols = self.df.select_dtypes(include=['number']).columns.tolist()\n",
    "        self.label_encoders = {}\n",
    "    \n",
    "    def handle_missing_values(self):\n",
    "        # Impute numerical columns with median\n",
    "        num_imputer = SimpleImputer(strategy='median')\n",
    "        self.df[self.numerical_cols] = num_imputer.fit_transform(self.df[self.numerical_cols])\n",
    "        \n",
    "        # Impute categorical columns with the most frequent value\n",
    "        cat_imputer = SimpleImputer(strategy='most_frequent')\n",
    "        self.df[self.categorical_cols] = cat_imputer.fit_transform(self.df[self.categorical_cols])\n",
    "    \n",
    "    def encode_categorical_features(self):\n",
    "        # Label encoding for categorical features\n",
    "        for col in self.categorical_cols:\n",
    "            le = LabelEncoder()\n",
    "            self.df[col] = le.fit_transform(self.df[col])\n",
    "            self.label_encoders[col] = le\n",
    "    \n",
    "    def convert_dates(self):\n",
    "        # Convert date columns to datetime format\n",
    "        if 'Policy Start Date' in self.df.columns:\n",
    "            self.df['Policy Start Date'] = pd.to_datetime(self.df['Policy Start Date'], errors='coerce')\n",
    "            self.df['Policy Start Year'] = self.df['Policy Start Date'].dt.year\n",
    "            self.df['Policy Start Month'] = self.df['Policy Start Date'].dt.month\n",
    "            self.df['Policy Start Day'] = self.df['Policy Start Date'].dt.day\n",
    "            self.df.drop(columns=['Policy Start Date'], inplace=True)\n",
    "    \n",
    "    def preprocess(self):\n",
    "        self.handle_missing_values()\n",
    "        self.encode_categorical_features()\n",
    "        self.convert_dates()\n",
    "        return self.df\n",
    "\n",
    "# Usage Example\n",
    "# df = pd.read_csv('insurance_data.csv')\n",
    "# preprocessor = InsuranceDataPreprocessor(df)\n",
    "# cleaned_df = preprocessor.preprocess()\n",
    "# print(cleaned_df.head())\n"
   ]
  }
 ],
 "metadata": {
  "kernelspec": {
   "display_name": "Python 3 (ipykernel)",
   "language": "python",
   "name": "python3"
  },
  "language_info": {
   "codemirror_mode": {
    "name": "ipython",
    "version": 3
   },
   "file_extension": ".py",
   "mimetype": "text/x-python",
   "name": "python",
   "nbconvert_exporter": "python",
   "pygments_lexer": "ipython3",
   "version": "3.10.16"
  }
 },
 "nbformat": 4,
 "nbformat_minor": 5
}
