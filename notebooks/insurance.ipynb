{
 "cells": [
  {
   "cell_type": "code",
   "execution_count": 1,
   "id": "3ced1d33-c794-40be-ac02-957f2f3ca617",
   "metadata": {},
   "outputs": [
    {
     "name": "stdout",
     "output_type": "stream",
     "text": [
      "Thu Feb 27 12:04:27 2025       \n",
      "+-----------------------------------------------------------------------------+\n",
      "| NVIDIA-SMI 470.82.01    Driver Version: 470.82.01    CUDA Version: 11.4     |\n",
      "|-------------------------------+----------------------+----------------------+\n",
      "| GPU  Name        Persistence-M| Bus-Id        Disp.A | Volatile Uncorr. ECC |\n",
      "| Fan  Temp  Perf  Pwr:Usage/Cap|         Memory-Usage | GPU-Util  Compute M. |\n",
      "|                               |                      |               MIG M. |\n",
      "|===============================+======================+======================|\n",
      "|   0  Tesla K40m          Off  | 00000000:0B:00.0 Off |                    0 |\n",
      "| N/A   35C    P0    69W / 235W |      0MiB / 11441MiB |     97%      Default |\n",
      "|                               |                      |                  N/A |\n",
      "+-------------------------------+----------------------+----------------------+\n",
      "                                                                               \n",
      "+-----------------------------------------------------------------------------+\n",
      "| Processes:                                                                  |\n",
      "|  GPU   GI   CI        PID   Type   Process name                  GPU Memory |\n",
      "|        ID   ID                                                   Usage      |\n",
      "|=============================================================================|\n",
      "|  No running processes found                                                 |\n",
      "+-----------------------------------------------------------------------------+\n"
     ]
    }
   ],
   "source": [
    "!nvidia-smi"
   ]
  },
  {
   "cell_type": "code",
   "execution_count": 2,
   "id": "bcacd749-31d8-45f0-a892-2a2fc17a55b9",
   "metadata": {},
   "outputs": [],
   "source": [
    "import os\n",
    "import numpy as np\n",
    "import pandas as pd\n",
    "import matplotlib.pyplot as plt\n",
    "pd.options.display.max_rows = 100\n",
    "pd.options.display.max_columns = 100\n",
    "pd.set_option('display.max_colwidth', None)\n",
    "from scipy.spatial.distance import cdist\n",
    "import warnings\n",
    "warnings.filterwarnings('ignore')"
   ]
  },
  {
   "cell_type": "code",
   "execution_count": 6,
   "id": "e68e97e4-5c50-40e6-abbe-3cceef7d599a",
   "metadata": {},
   "outputs": [],
   "source": [
    "train = pd.read_csv('insurancePrediction.csv')"
   ]
  },
  {
   "cell_type": "code",
   "execution_count": 7,
   "id": "96157b3e-2597-4f4d-b159-c5a128ece9dd",
   "metadata": {},
   "outputs": [
    {
     "data": {
      "text/plain": [
       "(278860, 20)"
      ]
     },
     "execution_count": 7,
     "metadata": {},
     "output_type": "execute_result"
    }
   ],
   "source": [
    "train.shape"
   ]
  },
  {
   "cell_type": "code",
   "execution_count": 8,
   "id": "c1bde63c-33df-4ac0-b540-528142a6d028",
   "metadata": {},
   "outputs": [
    {
     "data": {
      "text/html": [
       "<div>\n",
       "<style scoped>\n",
       "    .dataframe tbody tr th:only-of-type {\n",
       "        vertical-align: middle;\n",
       "    }\n",
       "\n",
       "    .dataframe tbody tr th {\n",
       "        vertical-align: top;\n",
       "    }\n",
       "\n",
       "    .dataframe thead th {\n",
       "        text-align: right;\n",
       "    }\n",
       "</style>\n",
       "<table border=\"1\" class=\"dataframe\">\n",
       "  <thead>\n",
       "    <tr style=\"text-align: right;\">\n",
       "      <th></th>\n",
       "      <th>Age</th>\n",
       "      <th>Gender</th>\n",
       "      <th>Annual Income</th>\n",
       "      <th>Marital Status</th>\n",
       "      <th>Number of Dependents</th>\n",
       "      <th>Education Level</th>\n",
       "      <th>Occupation</th>\n",
       "      <th>Health Score</th>\n",
       "      <th>Location</th>\n",
       "      <th>Policy Type</th>\n",
       "      <th>Previous Claims</th>\n",
       "      <th>Vehicle Age</th>\n",
       "      <th>Credit Score</th>\n",
       "      <th>Insurance Duration</th>\n",
       "      <th>Premium Amount</th>\n",
       "      <th>Policy Start Date</th>\n",
       "      <th>Customer Feedback</th>\n",
       "      <th>Smoking Status</th>\n",
       "      <th>Exercise Frequency</th>\n",
       "      <th>Property Type</th>\n",
       "    </tr>\n",
       "  </thead>\n",
       "  <tbody>\n",
       "    <tr>\n",
       "      <th>0</th>\n",
       "      <td>56.0</td>\n",
       "      <td>Male</td>\n",
       "      <td>99990.0</td>\n",
       "      <td>Married</td>\n",
       "      <td>1.0</td>\n",
       "      <td>Master's</td>\n",
       "      <td>NaN</td>\n",
       "      <td>31.074627</td>\n",
       "      <td>Urban</td>\n",
       "      <td>Comprehensive</td>\n",
       "      <td>NaN</td>\n",
       "      <td>13</td>\n",
       "      <td>320.0</td>\n",
       "      <td>5</td>\n",
       "      <td>308.0</td>\n",
       "      <td>2022-12-10 15:21:39.078837</td>\n",
       "      <td>Poor</td>\n",
       "      <td>Yes</td>\n",
       "      <td>Daily</td>\n",
       "      <td>Condo</td>\n",
       "    </tr>\n",
       "    <tr>\n",
       "      <th>1</th>\n",
       "      <td>46.0</td>\n",
       "      <td>Male</td>\n",
       "      <td>2867.0</td>\n",
       "      <td>Single</td>\n",
       "      <td>1.0</td>\n",
       "      <td>Bachelor's</td>\n",
       "      <td>NaN</td>\n",
       "      <td>50.271335</td>\n",
       "      <td>Urban</td>\n",
       "      <td>Comprehensive</td>\n",
       "      <td>NaN</td>\n",
       "      <td>3</td>\n",
       "      <td>694.0</td>\n",
       "      <td>4</td>\n",
       "      <td>517.0</td>\n",
       "      <td>2023-01-31 15:21:39.078837</td>\n",
       "      <td>Good</td>\n",
       "      <td>Yes</td>\n",
       "      <td>Monthly</td>\n",
       "      <td>House</td>\n",
       "    </tr>\n",
       "    <tr>\n",
       "      <th>2</th>\n",
       "      <td>32.0</td>\n",
       "      <td>Female</td>\n",
       "      <td>30154.0</td>\n",
       "      <td>Divorced</td>\n",
       "      <td>3.0</td>\n",
       "      <td>Bachelor's</td>\n",
       "      <td>NaN</td>\n",
       "      <td>14.714909</td>\n",
       "      <td>Suburban</td>\n",
       "      <td>Comprehensive</td>\n",
       "      <td>2.0</td>\n",
       "      <td>16</td>\n",
       "      <td>652.0</td>\n",
       "      <td>8</td>\n",
       "      <td>849.0</td>\n",
       "      <td>2023-11-26 15:21:39.078837</td>\n",
       "      <td>Poor</td>\n",
       "      <td>No</td>\n",
       "      <td>Monthly</td>\n",
       "      <td>House</td>\n",
       "    </tr>\n",
       "    <tr>\n",
       "      <th>3</th>\n",
       "      <td>60.0</td>\n",
       "      <td>Female</td>\n",
       "      <td>48371.0</td>\n",
       "      <td>Divorced</td>\n",
       "      <td>0.0</td>\n",
       "      <td>PhD</td>\n",
       "      <td>Self-Employed</td>\n",
       "      <td>25.346926</td>\n",
       "      <td>Rural</td>\n",
       "      <td>Comprehensive</td>\n",
       "      <td>1.0</td>\n",
       "      <td>11</td>\n",
       "      <td>330.0</td>\n",
       "      <td>7</td>\n",
       "      <td>927.0</td>\n",
       "      <td>2023-02-27 15:21:39.078837</td>\n",
       "      <td>Poor</td>\n",
       "      <td>No</td>\n",
       "      <td>Rarely</td>\n",
       "      <td>Condo</td>\n",
       "    </tr>\n",
       "    <tr>\n",
       "      <th>4</th>\n",
       "      <td>25.0</td>\n",
       "      <td>Female</td>\n",
       "      <td>54174.0</td>\n",
       "      <td>Divorced</td>\n",
       "      <td>0.0</td>\n",
       "      <td>High School</td>\n",
       "      <td>Self-Employed</td>\n",
       "      <td>6.659499</td>\n",
       "      <td>Urban</td>\n",
       "      <td>Comprehensive</td>\n",
       "      <td>NaN</td>\n",
       "      <td>9</td>\n",
       "      <td>NaN</td>\n",
       "      <td>8</td>\n",
       "      <td>303.0</td>\n",
       "      <td>2020-11-25 15:21:39.078837</td>\n",
       "      <td>Poor</td>\n",
       "      <td>No</td>\n",
       "      <td>Rarely</td>\n",
       "      <td>Condo</td>\n",
       "    </tr>\n",
       "  </tbody>\n",
       "</table>\n",
       "</div>"
      ],
      "text/plain": [
       "    Age  Gender  Annual Income Marital Status  Number of Dependents  \\\n",
       "0  56.0    Male        99990.0        Married                   1.0   \n",
       "1  46.0    Male         2867.0         Single                   1.0   \n",
       "2  32.0  Female        30154.0       Divorced                   3.0   \n",
       "3  60.0  Female        48371.0       Divorced                   0.0   \n",
       "4  25.0  Female        54174.0       Divorced                   0.0   \n",
       "\n",
       "  Education Level     Occupation  Health Score  Location    Policy Type  \\\n",
       "0        Master's            NaN     31.074627     Urban  Comprehensive   \n",
       "1      Bachelor's            NaN     50.271335     Urban  Comprehensive   \n",
       "2      Bachelor's            NaN     14.714909  Suburban  Comprehensive   \n",
       "3             PhD  Self-Employed     25.346926     Rural  Comprehensive   \n",
       "4     High School  Self-Employed      6.659499     Urban  Comprehensive   \n",
       "\n",
       "   Previous Claims  Vehicle Age  Credit Score  Insurance Duration  \\\n",
       "0              NaN           13         320.0                   5   \n",
       "1              NaN            3         694.0                   4   \n",
       "2              2.0           16         652.0                   8   \n",
       "3              1.0           11         330.0                   7   \n",
       "4              NaN            9           NaN                   8   \n",
       "\n",
       "   Premium Amount           Policy Start Date Customer Feedback  \\\n",
       "0           308.0  2022-12-10 15:21:39.078837              Poor   \n",
       "1           517.0  2023-01-31 15:21:39.078837              Good   \n",
       "2           849.0  2023-11-26 15:21:39.078837              Poor   \n",
       "3           927.0  2023-02-27 15:21:39.078837              Poor   \n",
       "4           303.0  2020-11-25 15:21:39.078837              Poor   \n",
       "\n",
       "  Smoking Status Exercise Frequency Property Type  \n",
       "0            Yes              Daily         Condo  \n",
       "1            Yes            Monthly         House  \n",
       "2             No            Monthly         House  \n",
       "3             No             Rarely         Condo  \n",
       "4             No             Rarely         Condo  "
      ]
     },
     "execution_count": 8,
     "metadata": {},
     "output_type": "execute_result"
    }
   ],
   "source": [
    "train.head()"
   ]
  },
  {
   "cell_type": "code",
   "execution_count": 9,
   "id": "b9846c51-4e90-4396-b105-343a819088fe",
   "metadata": {},
   "outputs": [
    {
     "name": "stdout",
     "output_type": "stream",
     "text": [
      "<class 'pandas.core.frame.DataFrame'>\n",
      "RangeIndex: 278860 entries, 0 to 278859\n",
      "Data columns (total 20 columns):\n",
      " #   Column                Non-Null Count   Dtype  \n",
      "---  ------                --------------   -----  \n",
      " 0   Age                   274175 non-null  float64\n",
      " 1   Gender                278860 non-null  object \n",
      " 2   Annual Income         264905 non-null  float64\n",
      " 3   Marital Status        273841 non-null  object \n",
      " 4   Number of Dependents  250974 non-null  float64\n",
      " 5   Education Level       278860 non-null  object \n",
      " 6   Occupation            197572 non-null  object \n",
      " 7   Health Score          268263 non-null  float64\n",
      " 8   Location              278860 non-null  object \n",
      " 9   Policy Type           278860 non-null  object \n",
      " 10  Previous Claims       197572 non-null  float64\n",
      " 11  Vehicle Age           278860 non-null  int64  \n",
      " 12  Credit Score          250974 non-null  float64\n",
      " 13  Insurance Duration    278860 non-null  int64  \n",
      " 14  Premium Amount        277019 non-null  float64\n",
      " 15  Policy Start Date     278860 non-null  object \n",
      " 16  Customer Feedback     260511 non-null  object \n",
      " 17  Smoking Status        278860 non-null  object \n",
      " 18  Exercise Frequency    278860 non-null  object \n",
      " 19  Property Type         278860 non-null  object \n",
      "dtypes: float64(7), int64(2), object(11)\n",
      "memory usage: 42.6+ MB\n"
     ]
    }
   ],
   "source": [
    "train.info()"
   ]
  },
  {
   "cell_type": "code",
   "execution_count": 10,
   "id": "4a2628a6-d4ca-4757-b2c0-728aa62f5ef0",
   "metadata": {},
   "outputs": [
    {
     "data": {
      "text/html": [
       "<div>\n",
       "<style scoped>\n",
       "    .dataframe tbody tr th:only-of-type {\n",
       "        vertical-align: middle;\n",
       "    }\n",
       "\n",
       "    .dataframe tbody tr th {\n",
       "        vertical-align: top;\n",
       "    }\n",
       "\n",
       "    .dataframe thead th {\n",
       "        text-align: right;\n",
       "    }\n",
       "</style>\n",
       "<table border=\"1\" class=\"dataframe\">\n",
       "  <thead>\n",
       "    <tr style=\"text-align: right;\">\n",
       "      <th></th>\n",
       "      <th>Age</th>\n",
       "      <th>Annual Income</th>\n",
       "      <th>Number of Dependents</th>\n",
       "      <th>Health Score</th>\n",
       "      <th>Previous Claims</th>\n",
       "      <th>Vehicle Age</th>\n",
       "      <th>Credit Score</th>\n",
       "      <th>Insurance Duration</th>\n",
       "      <th>Premium Amount</th>\n",
       "    </tr>\n",
       "  </thead>\n",
       "  <tbody>\n",
       "    <tr>\n",
       "      <th>count</th>\n",
       "      <td>274175.000000</td>\n",
       "      <td>264905.000000</td>\n",
       "      <td>250974.000000</td>\n",
       "      <td>268263.000000</td>\n",
       "      <td>197572.000000</td>\n",
       "      <td>278860.000000</td>\n",
       "      <td>250974.000000</td>\n",
       "      <td>278860.000000</td>\n",
       "      <td>277019.000000</td>\n",
       "    </tr>\n",
       "    <tr>\n",
       "      <th>mean</th>\n",
       "      <td>41.020771</td>\n",
       "      <td>42089.085329</td>\n",
       "      <td>1.998048</td>\n",
       "      <td>28.584290</td>\n",
       "      <td>0.998117</td>\n",
       "      <td>9.520283</td>\n",
       "      <td>574.362049</td>\n",
       "      <td>5.007764</td>\n",
       "      <td>966.118667</td>\n",
       "    </tr>\n",
       "    <tr>\n",
       "      <th>std</th>\n",
       "      <td>13.549683</td>\n",
       "      <td>35444.517255</td>\n",
       "      <td>1.412312</td>\n",
       "      <td>15.966208</td>\n",
       "      <td>1.000795</td>\n",
       "      <td>5.767915</td>\n",
       "      <td>158.792037</td>\n",
       "      <td>2.581349</td>\n",
       "      <td>909.404567</td>\n",
       "    </tr>\n",
       "    <tr>\n",
       "      <th>min</th>\n",
       "      <td>18.000000</td>\n",
       "      <td>0.000000</td>\n",
       "      <td>0.000000</td>\n",
       "      <td>0.035436</td>\n",
       "      <td>0.000000</td>\n",
       "      <td>0.000000</td>\n",
       "      <td>300.000000</td>\n",
       "      <td>1.000000</td>\n",
       "      <td>0.000000</td>\n",
       "    </tr>\n",
       "    <tr>\n",
       "      <th>25%</th>\n",
       "      <td>29.000000</td>\n",
       "      <td>13588.000000</td>\n",
       "      <td>1.000000</td>\n",
       "      <td>16.149890</td>\n",
       "      <td>0.000000</td>\n",
       "      <td>5.000000</td>\n",
       "      <td>437.000000</td>\n",
       "      <td>3.000000</td>\n",
       "      <td>286.000000</td>\n",
       "    </tr>\n",
       "    <tr>\n",
       "      <th>50%</th>\n",
       "      <td>41.000000</td>\n",
       "      <td>32191.000000</td>\n",
       "      <td>2.000000</td>\n",
       "      <td>26.451244</td>\n",
       "      <td>1.000000</td>\n",
       "      <td>10.000000</td>\n",
       "      <td>575.000000</td>\n",
       "      <td>5.000000</td>\n",
       "      <td>688.000000</td>\n",
       "    </tr>\n",
       "    <tr>\n",
       "      <th>75%</th>\n",
       "      <td>53.000000</td>\n",
       "      <td>62164.000000</td>\n",
       "      <td>3.000000</td>\n",
       "      <td>38.966369</td>\n",
       "      <td>2.000000</td>\n",
       "      <td>15.000000</td>\n",
       "      <td>712.000000</td>\n",
       "      <td>7.000000</td>\n",
       "      <td>1367.000000</td>\n",
       "    </tr>\n",
       "    <tr>\n",
       "      <th>max</th>\n",
       "      <td>64.000000</td>\n",
       "      <td>149997.000000</td>\n",
       "      <td>4.000000</td>\n",
       "      <td>93.876090</td>\n",
       "      <td>9.000000</td>\n",
       "      <td>19.000000</td>\n",
       "      <td>849.000000</td>\n",
       "      <td>9.000000</td>\n",
       "      <td>4999.000000</td>\n",
       "    </tr>\n",
       "  </tbody>\n",
       "</table>\n",
       "</div>"
      ],
      "text/plain": [
       "                 Age  Annual Income  Number of Dependents   Health Score  \\\n",
       "count  274175.000000  264905.000000         250974.000000  268263.000000   \n",
       "mean       41.020771   42089.085329              1.998048      28.584290   \n",
       "std        13.549683   35444.517255              1.412312      15.966208   \n",
       "min        18.000000       0.000000              0.000000       0.035436   \n",
       "25%        29.000000   13588.000000              1.000000      16.149890   \n",
       "50%        41.000000   32191.000000              2.000000      26.451244   \n",
       "75%        53.000000   62164.000000              3.000000      38.966369   \n",
       "max        64.000000  149997.000000              4.000000      93.876090   \n",
       "\n",
       "       Previous Claims    Vehicle Age   Credit Score  Insurance Duration  \\\n",
       "count    197572.000000  278860.000000  250974.000000       278860.000000   \n",
       "mean          0.998117       9.520283     574.362049            5.007764   \n",
       "std           1.000795       5.767915     158.792037            2.581349   \n",
       "min           0.000000       0.000000     300.000000            1.000000   \n",
       "25%           0.000000       5.000000     437.000000            3.000000   \n",
       "50%           1.000000      10.000000     575.000000            5.000000   \n",
       "75%           2.000000      15.000000     712.000000            7.000000   \n",
       "max           9.000000      19.000000     849.000000            9.000000   \n",
       "\n",
       "       Premium Amount  \n",
       "count   277019.000000  \n",
       "mean       966.118667  \n",
       "std        909.404567  \n",
       "min          0.000000  \n",
       "25%        286.000000  \n",
       "50%        688.000000  \n",
       "75%       1367.000000  \n",
       "max       4999.000000  "
      ]
     },
     "execution_count": 10,
     "metadata": {},
     "output_type": "execute_result"
    }
   ],
   "source": [
    "train.describe()"
   ]
  },
  {
   "cell_type": "code",
   "execution_count": 11,
   "id": "0df21e55-e25d-479f-9320-f5c445d0c2e6",
   "metadata": {},
   "outputs": [
    {
     "data": {
      "text/plain": [
       "Age                      4685\n",
       "Gender                      0\n",
       "Annual Income           13955\n",
       "Marital Status           5019\n",
       "Number of Dependents    27886\n",
       "Education Level             0\n",
       "Occupation              81288\n",
       "Health Score            10597\n",
       "Location                    0\n",
       "Policy Type                 0\n",
       "Previous Claims         81288\n",
       "Vehicle Age                 0\n",
       "Credit Score            27886\n",
       "Insurance Duration          0\n",
       "Premium Amount           1841\n",
       "Policy Start Date           0\n",
       "Customer Feedback       18349\n",
       "Smoking Status              0\n",
       "Exercise Frequency          0\n",
       "Property Type               0\n",
       "dtype: int64"
      ]
     },
     "execution_count": 11,
     "metadata": {},
     "output_type": "execute_result"
    }
   ],
   "source": [
    "train.isna().sum()"
   ]
  },
  {
   "cell_type": "code",
   "execution_count": 12,
   "id": "1849be84-2094-4080-ad67-407d076af3e5",
   "metadata": {},
   "outputs": [
    {
     "data": {
      "text/html": [
       "<div>\n",
       "<style scoped>\n",
       "    .dataframe tbody tr th:only-of-type {\n",
       "        vertical-align: middle;\n",
       "    }\n",
       "\n",
       "    .dataframe tbody tr th {\n",
       "        vertical-align: top;\n",
       "    }\n",
       "\n",
       "    .dataframe thead th {\n",
       "        text-align: right;\n",
       "    }\n",
       "</style>\n",
       "<table border=\"1\" class=\"dataframe\">\n",
       "  <thead>\n",
       "    <tr style=\"text-align: right;\">\n",
       "      <th></th>\n",
       "      <th>count</th>\n",
       "      <th>mean</th>\n",
       "      <th>std</th>\n",
       "      <th>min</th>\n",
       "      <th>25%</th>\n",
       "      <th>50%</th>\n",
       "      <th>75%</th>\n",
       "      <th>max</th>\n",
       "    </tr>\n",
       "    <tr>\n",
       "      <th>Location</th>\n",
       "      <th></th>\n",
       "      <th></th>\n",
       "      <th></th>\n",
       "      <th></th>\n",
       "      <th></th>\n",
       "      <th></th>\n",
       "      <th></th>\n",
       "      <th></th>\n",
       "    </tr>\n",
       "  </thead>\n",
       "  <tbody>\n",
       "    <tr>\n",
       "      <th>Rural</th>\n",
       "      <td>92036.0</td>\n",
       "      <td>966.011354</td>\n",
       "      <td>912.423220</td>\n",
       "      <td>0.0</td>\n",
       "      <td>285.0</td>\n",
       "      <td>686.0</td>\n",
       "      <td>1365.0</td>\n",
       "      <td>4997.0</td>\n",
       "    </tr>\n",
       "    <tr>\n",
       "      <th>Suburban</th>\n",
       "      <td>92873.0</td>\n",
       "      <td>965.407966</td>\n",
       "      <td>905.653692</td>\n",
       "      <td>0.0</td>\n",
       "      <td>286.0</td>\n",
       "      <td>691.0</td>\n",
       "      <td>1369.0</td>\n",
       "      <td>4999.0</td>\n",
       "    </tr>\n",
       "    <tr>\n",
       "      <th>Urban</th>\n",
       "      <td>92110.0</td>\n",
       "      <td>966.942482</td>\n",
       "      <td>910.166374</td>\n",
       "      <td>0.0</td>\n",
       "      <td>287.0</td>\n",
       "      <td>688.0</td>\n",
       "      <td>1366.0</td>\n",
       "      <td>4999.0</td>\n",
       "    </tr>\n",
       "  </tbody>\n",
       "</table>\n",
       "</div>"
      ],
      "text/plain": [
       "            count        mean         std  min    25%    50%     75%     max\n",
       "Location                                                                    \n",
       "Rural     92036.0  966.011354  912.423220  0.0  285.0  686.0  1365.0  4997.0\n",
       "Suburban  92873.0  965.407966  905.653692  0.0  286.0  691.0  1369.0  4999.0\n",
       "Urban     92110.0  966.942482  910.166374  0.0  287.0  688.0  1366.0  4999.0"
      ]
     },
     "execution_count": 12,
     "metadata": {},
     "output_type": "execute_result"
    }
   ],
   "source": [
    "train.groupby('Location')['Premium Amount'].describe()"
   ]
  },
  {
   "cell_type": "code",
   "execution_count": null,
   "id": "7faf2ea3-5336-486a-b398-73f2398c1a61",
   "metadata": {},
   "outputs": [],
   "source": []
  },
  {
   "cell_type": "code",
   "execution_count": 13,
   "id": "8c68b9a3-5111-401a-80be-deba045d5c2e",
   "metadata": {},
   "outputs": [
    {
     "data": {
      "image/png": "[encoded data removed]",
      "text/plain": [
       "<Figure size 640x480 with 1 Axes>"
      ]
     },
     "metadata": {},
     "output_type": "display_data"
    }
   ],
   "source": [
    "plt.hist(train['Age'], bins=10)\n",
    "plt.xlabel('Age')\n",
    "plt.ylabel('Frequency')\n",
    "plt.title('Frequency Plot')\n",
    "plt.show()"
   ]
  },
  {
   "cell_type": "markdown",
   "id": "b53aa87a-cd76-4d55-a6a4-8360fb54e6bb",
   "metadata": {},
   "source": [
    "## Even Age distribution"
   ]
  },
  {
   "cell_type": "code",
   "execution_count": 14,
   "id": "3785e4be-6207-440f-840d-e323c4d6937e",
   "metadata": {},
   "outputs": [
    {
     "data": {
      "text/plain": [
       "<Axes: xlabel='Gender'>"
      ]
     },
     "execution_count": 14,
     "metadata": {},
     "output_type": "execute_result"
    },
    {
     "data": {
      "image/png": "[encoded data removed]",
      "text/plain": [
       "<Figure size 640x480 with 1 Axes>"
      ]
     },
     "metadata": {},
     "output_type": "display_data"
    }
   ],
   "source": [
    "train['Gender'].value_counts().plot(kind='bar',color='skyblue')"
   ]
  },
  {
   "cell_type": "markdown",
   "id": "24754321-fa70-408e-a9ce-6f4b61e691fd",
   "metadata": {},
   "source": [
    "## Even gender distribution"
   ]
  },
  {
   "cell_type": "code",
   "execution_count": 15,
   "id": "3094715c-0705-4ede-9e8c-64cfa21490cc",
   "metadata": {},
   "outputs": [
    {
     "data": {
      "image/png": "[encoded data removed]",
      "text/plain": [
       "<Figure size 1200x800 with 1 Axes>"
      ]
     },
     "metadata": {},
     "output_type": "display_data"
    }
   ],
   "source": [
    "plt.figure(figsize=(12,8))\n",
    "plt.hist(train['Annual Income'],bins=20)\n",
    "plt.xlabel('Annual Income')\n",
    "plt.ylabel('Frequency')\n",
    "plt.title('Frequency Plot')\n",
    "plt.show()"
   ]
  },
  {
   "cell_type": "code",
   "execution_count": 16,
   "id": "295194b1-cd22-4133-ac9b-038a8ab56573",
   "metadata": {},
   "outputs": [
    {
     "data": {
      "image/png": "[encoded data removed]",
      "text/plain": [
       "<Figure size 1200x800 with 1 Axes>"
      ]
     },
     "metadata": {},
     "output_type": "display_data"
    }
   ],
   "source": [
    "plt.figure(figsize=(12,8))\n",
    "plt.hist(np.log1p(train['Annual Income']),bins=20)\n",
    "plt.xlabel('Annual Income')\n",
    "plt.ylabel('Frequency')\n",
    "plt.title('Frequency Plot')\n",
    "plt.show()"
   ]
  },
  {
   "cell_type": "code",
   "execution_count": 17,
   "id": "cdf6b8cc-fb7f-4d13-b88a-1b2f7c08835c",
   "metadata": {},
   "outputs": [
    {
     "data": {
      "text/plain": [
       "<Axes: xlabel='Marital Status'>"
      ]
     },
     "execution_count": 17,
     "metadata": {},
     "output_type": "execute_result"
    },
    {
     "data": {
      "image/png": "[encoded data removed]",
      "text/plain": [
       "<Figure size 640x480 with 1 Axes>"
      ]
     },
     "metadata": {},
     "output_type": "display_data"
    }
   ],
   "source": [
    "train['Marital Status'].value_counts().plot(kind='bar',color='skyblue')"
   ]
  },
  {
   "cell_type": "code",
   "execution_count": 18,
   "id": "18bbb29e-38cf-4f3b-b215-2c7c8f24936d",
   "metadata": {},
   "outputs": [
    {
     "data": {
      "text/plain": [
       "<Axes: xlabel='Number of Dependents'>"
      ]
     },
     "execution_count": 18,
     "metadata": {},
     "output_type": "execute_result"
    },
    {
     "data": {
      "image/png": "[encoded data removed]",
      "text/plain": [
       "<Figure size 640x480 with 1 Axes>"
      ]
     },
     "metadata": {},
     "output_type": "display_data"
    }
   ],
   "source": [
    "train['Number of Dependents'].value_counts().plot(kind='bar',color='skyblue')"
   ]
  },
  {
   "cell_type": "code",
   "execution_count": 19,
   "id": "62e96285-3ee2-42c3-8d00-f26fcb48cb96",
   "metadata": {},
   "outputs": [
    {
     "data": {
      "text/plain": [
       "<Axes: xlabel='Education Level'>"
      ]
     },
     "execution_count": 19,
     "metadata": {},
     "output_type": "execute_result"
    },
    {
     "data": {
      "image/png": "[encoded data removed]",
      "text/plain": [
       "<Figure size 640x480 with 1 Axes>"
      ]
     },
     "metadata": {},
     "output_type": "display_data"
    }
   ],
   "source": [
    "train['Education Level'].value_counts().plot(kind='bar',color='skyblue')"
   ]
  },
  {
   "cell_type": "code",
   "execution_count": 20,
   "id": "189e90b7-87bf-477f-ac05-3e6e8167c0eb",
   "metadata": {},
   "outputs": [
    {
     "data": {
      "text/plain": [
       "<Axes: xlabel='Occupation'>"
      ]
     },
     "execution_count": 20,
     "metadata": {},
     "output_type": "execute_result"
    },
    {
     "data": {
      "image/png": "[encoded data removed]",
      "text/plain": [
       "<Figure size 640x480 with 1 Axes>"
      ]
     },
     "metadata": {},
     "output_type": "display_data"
    }
   ],
   "source": [
    "train['Occupation'].value_counts().plot(kind='bar',color='skyblue')"
   ]
  },
  {
   "cell_type": "code",
   "execution_count": 21,
   "id": "eaac4df2-c0e8-47c4-8377-641607bfd7af",
   "metadata": {},
   "outputs": [
    {
     "data": {
      "text/plain": [
       "<Axes: xlabel='Location'>"
      ]
     },
     "execution_count": 21,
     "metadata": {},
     "output_type": "execute_result"
    },
    {
     "data": {
      "image/png": "[encoded data removed]",
      "text/plain": [
       "<Figure size 640x480 with 1 Axes>"
      ]
     },
     "metadata": {},
     "output_type": "display_data"
    }
   ],
   "source": [
    "train['Location'].value_counts().plot(kind='bar',color='skyblue')"
   ]
  },
  {
   "cell_type": "code",
   "execution_count": 22,
   "id": "7c687a17-e37c-4941-b8d3-3a654804b1d0",
   "metadata": {},
   "outputs": [
    {
     "data": {
      "text/plain": [
       "Location\n",
       "Suburban    93482\n",
       "Urban       92719\n",
       "Rural       92659\n",
       "Name: count, dtype: int64"
      ]
     },
     "execution_count": 22,
     "metadata": {},
     "output_type": "execute_result"
    }
   ],
   "source": [
    "train['Location'].value_counts()"
   ]
  },
  {
   "cell_type": "code",
   "execution_count": 23,
   "id": "39b9b7f0-5eb6-43c8-ae26-2f245d977810",
   "metadata": {},
   "outputs": [
    {
     "data": {
      "text/plain": [
       "<Axes: xlabel='Policy Type'>"
      ]
     },
     "execution_count": 23,
     "metadata": {},
     "output_type": "execute_result"
    },
    {
     "data": {
      "image/png": "[encoded data removed]",
      "text/plain": [
       "<Figure size 640x480 with 1 Axes>"
      ]
     },
     "metadata": {},
     "output_type": "display_data"
    }
   ],
   "source": [
    "train['Policy Type'].value_counts().plot(kind='bar',color='skyblue')"
   ]
  },
  {
   "cell_type": "code",
   "execution_count": 24,
   "id": "dc561fee-4923-4dd4-9790-2e8cd6ad2bf5",
   "metadata": {},
   "outputs": [
    {
     "data": {
      "image/png": "[encoded data removed]",
      "text/plain": [
       "<Figure size 1200x800 with 1 Axes>"
      ]
     },
     "metadata": {},
     "output_type": "display_data"
    }
   ],
   "source": [
    "plt.figure(figsize=(12,8))\n",
    "plt.hist(train['Health Score'],bins=50)\n",
    "plt.xlabel('Health Score')\n",
    "plt.ylabel('Frequency')\n",
    "plt.title('Frequency Plot')\n",
    "plt.show()"
   ]
  },
  {
   "cell_type": "code",
   "execution_count": 25,
   "id": "34e7d0a6-4294-4f53-8a40-1e6305e8b87a",
   "metadata": {},
   "outputs": [
    {
     "data": {
      "image/png": "[encoded data removed]",
      "text/plain": [
       "<Figure size 1200x800 with 1 Axes>"
      ]
     },
     "metadata": {},
     "output_type": "display_data"
    }
   ],
   "source": [
    "plt.figure(figsize=(12,8))\n",
    "plt.hist(np.log1p(train['Health Score']),bins=50)\n",
    "plt.xlabel('Health Score')\n",
    "plt.ylabel('Frequency')\n",
    "plt.title('Frequency Plot')\n",
    "plt.show()"
   ]
  },
  {
   "cell_type": "code",
   "execution_count": 26,
   "id": "bd9f9b00-4d04-4061-941e-31010a62a7c9",
   "metadata": {},
   "outputs": [
    {
     "data": {
      "text/plain": [
       "Index(['Age', 'Gender', 'Annual Income', 'Marital Status',\n",
       "       'Number of Dependents', 'Education Level', 'Occupation', 'Health Score',\n",
       "       'Location', 'Policy Type', 'Previous Claims', 'Vehicle Age',\n",
       "       'Credit Score', 'Insurance Duration', 'Premium Amount',\n",
       "       'Policy Start Date', 'Customer Feedback', 'Smoking Status',\n",
       "       'Exercise Frequency', 'Property Type'],\n",
       "      dtype='object')"
      ]
     },
     "execution_count": 26,
     "metadata": {},
     "output_type": "execute_result"
    }
   ],
   "source": [
    "train.columns"
   ]
  },
  {
   "cell_type": "code",
   "execution_count": null,
   "id": "5585529d-afd4-487b-bcf1-af6d2507fc42",
   "metadata": {},
   "outputs": [],
   "source": [
    "plt.figure(figsize=(12,8))\n",
    "train['Previous Claims'].value_counts().plot(kind='bar',color='red')"
   ]
  },
  {
   "cell_type": "code",
   "execution_count": 27,
   "id": "16e9f07b-d354-4554-8a9d-58d2f0a8f935",
   "metadata": {},
   "outputs": [
    {
     "data": {
      "text/plain": [
       "<Axes: xlabel='Vehicle Age'>"
      ]
     },
     "execution_count": 27,
     "metadata": {},
     "output_type": "execute_result"
    },
    {
     "data": {
      "image/png": "[encoded data removed]",
      "text/plain": [
       "<Figure size 640x480 with 1 Axes>"
      ]
     },
     "metadata": {},
     "output_type": "display_data"
    }
   ],
   "source": [
    "train['Vehicle Age'].value_counts().plot(kind='bar',color='red')"
   ]
  },
  {
   "cell_type": "code",
   "execution_count": 28,
   "id": "c3c7bbaf-faec-426c-8a71-c032105ecb42",
   "metadata": {},
   "outputs": [
    {
     "data": {
      "image/png": "[encoded data removed]",
      "text/plain": [
       "<Figure size 1200x800 with 1 Axes>"
      ]
     },
     "metadata": {},
     "output_type": "display_data"
    }
   ],
   "source": [
    "plt.figure(figsize=(12,8))\n",
    "plt.hist(train['Credit Score'],bins=10)\n",
    "plt.xlabel('Credit Score')\n",
    "plt.ylabel('Frequency')\n",
    "plt.title('Frequency Plot')\n",
    "plt.show()"
   ]
  },
  {
   "cell_type": "code",
   "execution_count": 29,
   "id": "13e25cd7-faca-450d-bcd4-705d59ddbdba",
   "metadata": {},
   "outputs": [
    {
     "data": {
      "image/png": "[encoded data removed]",
      "text/plain": [
       "<Figure size 1200x800 with 1 Axes>"
      ]
     },
     "metadata": {},
     "output_type": "display_data"
    }
   ],
   "source": [
    "plt.figure(figsize=(12,8))\n",
    "plt.hist(np.log1p(train['Credit Score']),bins=10)\n",
    "plt.xlabel('Premium Amount log(y+1)')\n",
    "plt.ylabel('Frequency')\n",
    "plt.title('Frequency Plot')\n",
    "plt.show()"
   ]
  },
  {
   "cell_type": "code",
   "execution_count": null,
   "id": "99d07a85-b5c2-405d-b6bb-e60b6c0b937f",
   "metadata": {},
   "outputs": [],
   "source": [
    "train['Insurance Duration'].value_counts().plot(kind='bar',color='skyblue')"
   ]
  },
  {
   "cell_type": "code",
   "execution_count": null,
   "id": "54466f94-5d96-4021-b6b8-a5cb71201554",
   "metadata": {},
   "outputs": [],
   "source": [
    "train.head()"
   ]
  },
  {
   "cell_type": "code",
   "execution_count": null,
   "id": "14d3fd75-951b-4f9d-adc7-f69f36c8f138",
   "metadata": {},
   "outputs": [],
   "source": [
    "train['Customer Feedback'].value_counts().plot(kind='bar',color='skyblue')"
   ]
  },
  {
   "cell_type": "code",
   "execution_count": null,
   "id": "4517ac95-d231-4744-a544-ff270f18a249",
   "metadata": {},
   "outputs": [],
   "source": [
    "train['Smoking Status'].value_counts().plot(kind='bar',color='skyblue')"
   ]
  },
  {
   "cell_type": "code",
   "execution_count": null,
   "id": "4fde54d0-3ab7-417a-8c9a-1a14ce236717",
   "metadata": {},
   "outputs": [],
   "source": [
    "train['Exercise Frequency'].value_counts().plot(kind='bar',color='skyblue')"
   ]
  },
  {
   "cell_type": "code",
   "execution_count": null,
   "id": "4fefc758-b182-46f4-9322-8edf20c0dead",
   "metadata": {},
   "outputs": [],
   "source": [
    "train['Property Type'].value_counts().plot(kind='bar',color='skyblue')"
   ]
  },
  {
   "cell_type": "code",
   "execution_count": 30,
   "id": "a1dde147-2700-4686-8310-74733b7c2bbb",
   "metadata": {},
   "outputs": [
    {
     "data": {
      "image/png": "[encoded data removed]",
      "text/plain": [
       "<Figure size 1200x800 with 1 Axes>"
      ]
     },
     "metadata": {},
     "output_type": "display_data"
    }
   ],
   "source": [
    "plt.figure(figsize=(12,8))\n",
    "plt.hist(train['Premium Amount'],bins=10)\n",
    "plt.xlabel('Premium Amount')\n",
    "plt.ylabel('Frequency')\n",
    "plt.title('Frequency Plot')\n",
    "plt.show()"
   ]
  },
  {
   "cell_type": "code",
   "execution_count": 31,
   "id": "2bc67ad3-6552-47f7-8548-5ede83fbd95c",
   "metadata": {},
   "outputs": [
    {
     "data": {
      "image/png": "[encoded data removed]",
      "text/plain": [
       "<Figure size 1200x800 with 1 Axes>"
      ]
     },
     "metadata": {},
     "output_type": "display_data"
    }
   ],
   "source": [
    "plt.figure(figsize=(12,8))\n",
    "plt.hist(np.log1p(train['Premium Amount']),bins=50)\n",
    "plt.xlabel('Premium Amount log(y+1)')\n",
    "plt.ylabel('Frequency')\n",
    "plt.title('Frequency Plot')\n",
    "plt.show()"
   ]
  },
  {
   "cell_type": "code",
   "execution_count": null,
   "id": "d0280fb8-3797-476e-be71-df8d011ff5b9",
   "metadata": {},
   "outputs": [],
   "source": [
    "# # Dataset Feature Distributions (train)\n",
    "# fig, axes = plt.subplots(nrows=5, ncols=4, figsize=(10, 8))\n",
    "# columns_to_plot = train.columns\n",
    "# for i, column in enumerate(columns_to_plot):\n",
    "#     ax = axes.flatten()[i]\n",
    "#     train[column].hist(ax=ax, bins=20, color='skyblue', edgecolor='black', linewidth=0.5)\n",
    "#     ax.set_title(column, fontsize=9)\n",
    "#     ax.tick_params(axis='both', which='major', labelsize=6)\n",
    "# plt.suptitle('Dataset Feature Distributions (train)', fontsize=11)\n",
    "# plt.tight_layout()\n",
    "# plt.show()"
   ]
  },
  {
   "cell_type": "code",
   "execution_count": 16,
   "id": "81f7979e-a6c4-4b5b-8915-0712a571f9db",
   "metadata": {},
   "outputs": [
    {
     "data": {
      "text/html": [
       "<div>\n",
       "<style scoped>\n",
       "    .dataframe tbody tr th:only-of-type {\n",
       "        vertical-align: middle;\n",
       "    }\n",
       "\n",
       "    .dataframe tbody tr th {\n",
       "        vertical-align: top;\n",
       "    }\n",
       "\n",
       "    .dataframe thead th {\n",
       "        text-align: right;\n",
       "    }\n",
       "</style>\n",
       "<table border=\"1\" class=\"dataframe\">\n",
       "  <thead>\n",
       "    <tr style=\"text-align: right;\">\n",
       "      <th></th>\n",
       "      <th>id</th>\n",
       "      <th>Age</th>\n",
       "      <th>Gender</th>\n",
       "      <th>Annual Income</th>\n",
       "      <th>Marital Status</th>\n",
       "      <th>Number of Dependents</th>\n",
       "      <th>Education Level</th>\n",
       "      <th>Occupation</th>\n",
       "      <th>Health Score</th>\n",
       "      <th>Location</th>\n",
       "      <th>Policy Type</th>\n",
       "      <th>Previous Claims</th>\n",
       "      <th>Vehicle Age</th>\n",
       "      <th>Credit Score</th>\n",
       "      <th>Insurance Duration</th>\n",
       "      <th>Policy Start Date</th>\n",
       "      <th>Customer Feedback</th>\n",
       "      <th>Smoking Status</th>\n",
       "      <th>Exercise Frequency</th>\n",
       "      <th>Property Type</th>\n",
       "      <th>Premium Amount</th>\n",
       "    </tr>\n",
       "  </thead>\n",
       "  <tbody>\n",
       "    <tr>\n",
       "      <th>0</th>\n",
       "      <td>0</td>\n",
       "      <td>19.0</td>\n",
       "      <td>Female</td>\n",
       "      <td>10049.0</td>\n",
       "      <td>Married</td>\n",
       "      <td>1.0</td>\n",
       "      <td>Bachelor's</td>\n",
       "      <td>Self-Employed</td>\n",
       "      <td>22.598761</td>\n",
       "      <td>Urban</td>\n",
       "      <td>Premium</td>\n",
       "      <td>2.0</td>\n",
       "      <td>17.0</td>\n",
       "      <td>372.0</td>\n",
       "      <td>5.0</td>\n",
       "      <td>2023-12-23 15:21:39.134960</td>\n",
       "      <td>Poor</td>\n",
       "      <td>No</td>\n",
       "      <td>Weekly</td>\n",
       "      <td>House</td>\n",
       "      <td>2869.0</td>\n",
       "    </tr>\n",
       "    <tr>\n",
       "      <th>1</th>\n",
       "      <td>1</td>\n",
       "      <td>39.0</td>\n",
       "      <td>Female</td>\n",
       "      <td>31678.0</td>\n",
       "      <td>Divorced</td>\n",
       "      <td>3.0</td>\n",
       "      <td>Master's</td>\n",
       "      <td>NaN</td>\n",
       "      <td>15.569731</td>\n",
       "      <td>Rural</td>\n",
       "      <td>Comprehensive</td>\n",
       "      <td>1.0</td>\n",
       "      <td>12.0</td>\n",
       "      <td>694.0</td>\n",
       "      <td>2.0</td>\n",
       "      <td>2023-06-12 15:21:39.111551</td>\n",
       "      <td>Average</td>\n",
       "      <td>Yes</td>\n",
       "      <td>Monthly</td>\n",
       "      <td>House</td>\n",
       "      <td>1483.0</td>\n",
       "    </tr>\n",
       "    <tr>\n",
       "      <th>2</th>\n",
       "      <td>2</td>\n",
       "      <td>23.0</td>\n",
       "      <td>Male</td>\n",
       "      <td>25602.0</td>\n",
       "      <td>Divorced</td>\n",
       "      <td>3.0</td>\n",
       "      <td>High School</td>\n",
       "      <td>Self-Employed</td>\n",
       "      <td>47.177549</td>\n",
       "      <td>Suburban</td>\n",
       "      <td>Premium</td>\n",
       "      <td>1.0</td>\n",
       "      <td>14.0</td>\n",
       "      <td>NaN</td>\n",
       "      <td>3.0</td>\n",
       "      <td>2023-09-30 15:21:39.221386</td>\n",
       "      <td>Good</td>\n",
       "      <td>Yes</td>\n",
       "      <td>Weekly</td>\n",
       "      <td>House</td>\n",
       "      <td>567.0</td>\n",
       "    </tr>\n",
       "    <tr>\n",
       "      <th>3</th>\n",
       "      <td>3</td>\n",
       "      <td>21.0</td>\n",
       "      <td>Male</td>\n",
       "      <td>141855.0</td>\n",
       "      <td>Married</td>\n",
       "      <td>2.0</td>\n",
       "      <td>Bachelor's</td>\n",
       "      <td>NaN</td>\n",
       "      <td>10.938144</td>\n",
       "      <td>Rural</td>\n",
       "      <td>Basic</td>\n",
       "      <td>1.0</td>\n",
       "      <td>0.0</td>\n",
       "      <td>367.0</td>\n",
       "      <td>1.0</td>\n",
       "      <td>2024-06-12 15:21:39.226954</td>\n",
       "      <td>Poor</td>\n",
       "      <td>Yes</td>\n",
       "      <td>Daily</td>\n",
       "      <td>Apartment</td>\n",
       "      <td>765.0</td>\n",
       "    </tr>\n",
       "    <tr>\n",
       "      <th>4</th>\n",
       "      <td>4</td>\n",
       "      <td>21.0</td>\n",
       "      <td>Male</td>\n",
       "      <td>39651.0</td>\n",
       "      <td>Single</td>\n",
       "      <td>1.0</td>\n",
       "      <td>Bachelor's</td>\n",
       "      <td>Self-Employed</td>\n",
       "      <td>20.376094</td>\n",
       "      <td>Rural</td>\n",
       "      <td>Premium</td>\n",
       "      <td>0.0</td>\n",
       "      <td>8.0</td>\n",
       "      <td>598.0</td>\n",
       "      <td>4.0</td>\n",
       "      <td>2021-12-01 15:21:39.252145</td>\n",
       "      <td>Poor</td>\n",
       "      <td>Yes</td>\n",
       "      <td>Weekly</td>\n",
       "      <td>House</td>\n",
       "      <td>2022.0</td>\n",
       "    </tr>\n",
       "  </tbody>\n",
       "</table>\n",
       "</div>"
      ],
      "text/plain": [
       "   id   Age  Gender  Annual Income Marital Status  Number of Dependents  \\\n",
       "0   0  19.0  Female        10049.0        Married                   1.0   \n",
       "1   1  39.0  Female        31678.0       Divorced                   3.0   \n",
       "2   2  23.0    Male        25602.0       Divorced                   3.0   \n",
       "3   3  21.0    Male       141855.0        Married                   2.0   \n",
       "4   4  21.0    Male        39651.0         Single                   1.0   \n",
       "\n",
       "  Education Level     Occupation  Health Score  Location    Policy Type  \\\n",
       "0      Bachelor's  Self-Employed     22.598761     Urban        Premium   \n",
       "1        Master's            NaN     15.569731     Rural  Comprehensive   \n",
       "2     High School  Self-Employed     47.177549  Suburban        Premium   \n",
       "3      Bachelor's            NaN     10.938144     Rural          Basic   \n",
       "4      Bachelor's  Self-Employed     20.376094     Rural        Premium   \n",
       "\n",
       "   Previous Claims  Vehicle Age  Credit Score  Insurance Duration  \\\n",
       "0              2.0         17.0         372.0                 5.0   \n",
       "1              1.0         12.0         694.0                 2.0   \n",
       "2              1.0         14.0           NaN                 3.0   \n",
       "3              1.0          0.0         367.0                 1.0   \n",
       "4              0.0          8.0         598.0                 4.0   \n",
       "\n",
       "            Policy Start Date Customer Feedback Smoking Status  \\\n",
       "0  2023-12-23 15:21:39.134960              Poor             No   \n",
       "1  2023-06-12 15:21:39.111551           Average            Yes   \n",
       "2  2023-09-30 15:21:39.221386              Good            Yes   \n",
       "3  2024-06-12 15:21:39.226954              Poor            Yes   \n",
       "4  2021-12-01 15:21:39.252145              Poor            Yes   \n",
       "\n",
       "  Exercise Frequency Property Type  Premium Amount  \n",
       "0             Weekly         House          2869.0  \n",
       "1            Monthly         House          1483.0  \n",
       "2             Weekly         House           567.0  \n",
       "3              Daily     Apartment           765.0  \n",
       "4             Weekly         House          2022.0  "
      ]
     },
     "execution_count": 16,
     "metadata": {},
     "output_type": "execute_result"
    }
   ],
   "source": [
    "train.head()"
   ]
  },
  {
   "cell_type": "code",
   "execution_count": 32,
   "id": "069c4736-375b-4c5c-b1dd-62948e06109c",
   "metadata": {},
   "outputs": [],
   "source": [
    "from datetime import datetime, date "
   ]
  },
  {
   "cell_type": "code",
   "execution_count": 33,
   "id": "c1b80d36-e10a-4da6-a040-8a3278a5777c",
   "metadata": {},
   "outputs": [],
   "source": [
    "def age(born): \n",
    "    born = str(born)\n",
    "    born = datetime.strptime(born, \"%Y-%m-%d %H:%M:%S.%f\").date() \n",
    "    today = date.today() \n",
    "    return today.year - born.year - ((today.month,  \n",
    "                                      today.day) < (born.month,  \n",
    "                                                    born.day)) \n"
   ]
  },
  {
   "cell_type": "code",
   "execution_count": 34,
   "id": "6e7ed8bd-5104-4692-ba3b-e29cd2790bdf",
   "metadata": {},
   "outputs": [],
   "source": [
    "train['Policy Age'] = train['Policy Start Date'].apply(age)"
   ]
  },
  {
   "cell_type": "code",
   "execution_count": 35,
   "id": "2fa9df89-392e-4b7e-aec9-b0b50f6afe73",
   "metadata": {},
   "outputs": [
    {
     "name": "stdout",
     "output_type": "stream",
     "text": [
      "<class 'pandas.core.frame.DataFrame'>\n",
      "RangeIndex: 278860 entries, 0 to 278859\n",
      "Data columns (total 21 columns):\n",
      " #   Column                Non-Null Count   Dtype  \n",
      "---  ------                --------------   -----  \n",
      " 0   Age                   274175 non-null  float64\n",
      " 1   Gender                278860 non-null  object \n",
      " 2   Annual Income         264905 non-null  float64\n",
      " 3   Marital Status        273841 non-null  object \n",
      " 4   Number of Dependents  250974 non-null  float64\n",
      " 5   Education Level       278860 non-null  object \n",
      " 6   Occupation            197572 non-null  object \n",
      " 7   Health Score          268263 non-null  float64\n",
      " 8   Location              278860 non-null  object \n",
      " 9   Policy Type           278860 non-null  object \n",
      " 10  Previous Claims       197572 non-null  float64\n",
      " 11  Vehicle Age           278860 non-null  int64  \n",
      " 12  Credit Score          250974 non-null  float64\n",
      " 13  Insurance Duration    278860 non-null  int64  \n",
      " 14  Premium Amount        277019 non-null  float64\n",
      " 15  Policy Start Date     278860 non-null  object \n",
      " 16  Customer Feedback     260511 non-null  object \n",
      " 17  Smoking Status        278860 non-null  object \n",
      " 18  Exercise Frequency    278860 non-null  object \n",
      " 19  Property Type         278860 non-null  object \n",
      " 20  Policy Age            278860 non-null  int64  \n",
      "dtypes: float64(7), int64(3), object(11)\n",
      "memory usage: 44.7+ MB\n"
     ]
    }
   ],
   "source": [
    "train.info()"
   ]
  },
  {
   "cell_type": "code",
   "execution_count": 36,
   "id": "2aeafe69-d31e-4931-9694-260923382af9",
   "metadata": {},
   "outputs": [],
   "source": [
    "def sort_columns(colList,df):\n",
    "    catColumn = []\n",
    "    numColumn = []\n",
    "    for col in colList:\n",
    "        if df[col].dtype == 'O':\n",
    "            catColumn.append(col)\n",
    "        else:\n",
    "            if df[col].nunique() > 25:\n",
    "                numColumn.append(col)\n",
    "            else:\n",
    "                catColumn.append(col)\n",
    "    return catColumn,numColumn\n",
    "\n",
    "catColumn,numColumn = sort_columns(train.columns,train)                \n",
    "    "
   ]
  },
  {
   "cell_type": "code",
   "execution_count": 37,
   "id": "19f5e357-7f79-4e44-9a6a-2881491d5d66",
   "metadata": {},
   "outputs": [
    {
     "data": {
      "text/plain": [
       "(['Gender',\n",
       "  'Marital Status',\n",
       "  'Number of Dependents',\n",
       "  'Education Level',\n",
       "  'Occupation',\n",
       "  'Location',\n",
       "  'Policy Type',\n",
       "  'Previous Claims',\n",
       "  'Vehicle Age',\n",
       "  'Insurance Duration',\n",
       "  'Policy Start Date',\n",
       "  'Customer Feedback',\n",
       "  'Smoking Status',\n",
       "  'Exercise Frequency',\n",
       "  'Property Type',\n",
       "  'Policy Age'],\n",
       " ['Age', 'Annual Income', 'Health Score', 'Credit Score', 'Premium Amount'])"
      ]
     },
     "execution_count": 37,
     "metadata": {},
     "output_type": "execute_result"
    }
   ],
   "source": [
    "catColumn,numColumn"
   ]
  },
  {
   "cell_type": "code",
   "execution_count": 38,
   "id": "b62e9ab7-c2f0-426f-80e8-a7371e29bc88",
   "metadata": {},
   "outputs": [],
   "source": [
    "train['Age'].fillna(train['Age'].mean(),inplace=True)\n",
    "train['Annual Income'].fillna(train['Annual Income'].mean(),inplace=True)\n",
    "train['Marital Status'].fillna('Single',inplace=True)\n",
    "train['Number of Dependents'].fillna(0.0,inplace=True)\n",
    "train['Occupation'].fillna('Unknown',inplace=True)\n",
    "train['Health Score'].fillna(train['Health Score'].mean(),inplace=True)\n",
    "train['Previous Claims'].fillna(0.0,inplace=True)\n",
    "train['Credit Score'].fillna(train['Credit Score'].mean(),inplace=True)\n",
    "train['Customer Feedback'].fillna('Average',inplace=True)"
   ]
  },
  {
   "cell_type": "code",
   "execution_count": 42,
   "id": "7d3961bf-5b1d-4c40-a449-e21b1a1e5283",
   "metadata": {},
   "outputs": [
    {
     "data": {
      "text/plain": [
       "Age                     0\n",
       "Gender                  0\n",
       "Annual Income           0\n",
       "Marital Status          0\n",
       "Number of Dependents    0\n",
       "Education Level         0\n",
       "Occupation              0\n",
       "Health Score            0\n",
       "Location                0\n",
       "Policy Type             0\n",
       "Previous Claims         0\n",
       "Vehicle Age             0\n",
       "Credit Score            0\n",
       "Insurance Duration      0\n",
       "Premium Amount          0\n",
       "Policy Start Date       0\n",
       "Customer Feedback       0\n",
       "Smoking Status          0\n",
       "Exercise Frequency      0\n",
       "Property Type           0\n",
       "Policy Age              0\n",
       "dtype: int64"
      ]
     },
     "execution_count": 42,
     "metadata": {},
     "output_type": "execute_result"
    }
   ],
   "source": [
    "train.isna().sum()"
   ]
  },
  {
   "cell_type": "code",
   "execution_count": 40,
   "id": "0d73d180-9152-4ede-8663-5aac147a2129",
   "metadata": {},
   "outputs": [],
   "source": [
    "train.dropna(how='any',inplace = True)"
   ]
  },
  {
   "cell_type": "code",
   "execution_count": 41,
   "id": "75e85843-b730-47cb-a9c2-29658e675d1a",
   "metadata": {},
   "outputs": [
    {
     "data": {
      "text/plain": [
       "(277019, 21)"
      ]
     },
     "execution_count": 41,
     "metadata": {},
     "output_type": "execute_result"
    }
   ],
   "source": [
    "train.shape"
   ]
  },
  {
   "cell_type": "code",
   "execution_count": 43,
   "id": "4e3cef03-ff52-4fa9-9d21-572585304039",
   "metadata": {},
   "outputs": [],
   "source": [
    "features = ['Gender', 'Marital Status', 'Number of Dependents', 'Education Level',\n",
    "       'Occupation', 'Location', 'Policy Type', 'Previous Claims',\n",
    "       'Vehicle Age', 'Insurance Duration', 'Customer Feedback',\n",
    "       'Smoking Status', 'Exercise Frequency', 'Property Type', 'Policy Age',\n",
    "       'Age', 'Annual Income', 'Health Score', 'Credit Score']"
   ]
  },
  {
   "cell_type": "code",
   "execution_count": 44,
   "id": "7a5a6f3a-36ce-4998-b6f8-ece16152c867",
   "metadata": {},
   "outputs": [],
   "source": [
    "X,y = train[features],train['Premium Amount']"
   ]
  },
  {
   "cell_type": "code",
   "execution_count": 45,
   "id": "0e73c215-13a4-4b55-bfb0-b3b7abbc6d99",
   "metadata": {},
   "outputs": [
    {
     "data": {
      "text/plain": [
       "((277019, 19), (277019,))"
      ]
     },
     "execution_count": 45,
     "metadata": {},
     "output_type": "execute_result"
    }
   ],
   "source": [
    "X.shape,y.shape"
   ]
  },
  {
   "cell_type": "code",
   "execution_count": 46,
   "id": "7b3555ca-e08c-4fe6-a5b6-699e3df7fd6f",
   "metadata": {},
   "outputs": [],
   "source": [
    "from sklearn.model_selection import train_test_split\n",
    "X_train, X_test, y_train, y_test = train_test_split(X, y, test_size=0.1, random_state=42)"
   ]
  },
  {
   "cell_type": "code",
   "execution_count": 47,
   "id": "0a35bf3e-3735-40f8-a7fd-d579030a7e0d",
   "metadata": {},
   "outputs": [
    {
     "data": {
      "text/plain": [
       "((249317, 19), (27702, 19), (249317,), (27702,))"
      ]
     },
     "execution_count": 47,
     "metadata": {},
     "output_type": "execute_result"
    }
   ],
   "source": [
    "X_train.shape, X_test.shape, y_train.shape, y_test.shape"
   ]
  },
  {
   "cell_type": "code",
   "execution_count": 48,
   "id": "85c90102-b029-47bb-ab7b-531c61b046d8",
   "metadata": {},
   "outputs": [
    {
     "data": {
      "text/html": [
       "<div>\n",
       "<style scoped>\n",
       "    .dataframe tbody tr th:only-of-type {\n",
       "        vertical-align: middle;\n",
       "    }\n",
       "\n",
       "    .dataframe tbody tr th {\n",
       "        vertical-align: top;\n",
       "    }\n",
       "\n",
       "    .dataframe thead th {\n",
       "        text-align: right;\n",
       "    }\n",
       "</style>\n",
       "<table border=\"1\" class=\"dataframe\">\n",
       "  <thead>\n",
       "    <tr style=\"text-align: right;\">\n",
       "      <th></th>\n",
       "      <th>Gender</th>\n",
       "      <th>Marital Status</th>\n",
       "      <th>Number of Dependents</th>\n",
       "      <th>Education Level</th>\n",
       "      <th>Occupation</th>\n",
       "      <th>Location</th>\n",
       "      <th>Policy Type</th>\n",
       "      <th>Previous Claims</th>\n",
       "      <th>Vehicle Age</th>\n",
       "      <th>Insurance Duration</th>\n",
       "      <th>Customer Feedback</th>\n",
       "      <th>Smoking Status</th>\n",
       "      <th>Exercise Frequency</th>\n",
       "      <th>Property Type</th>\n",
       "      <th>Policy Age</th>\n",
       "      <th>Age</th>\n",
       "      <th>Annual Income</th>\n",
       "      <th>Health Score</th>\n",
       "      <th>Credit Score</th>\n",
       "    </tr>\n",
       "  </thead>\n",
       "  <tbody>\n",
       "    <tr>\n",
       "      <th>54415</th>\n",
       "      <td>Female</td>\n",
       "      <td>Divorced</td>\n",
       "      <td>0.0</td>\n",
       "      <td>PhD</td>\n",
       "      <td>Unemployed</td>\n",
       "      <td>Urban</td>\n",
       "      <td>Premium</td>\n",
       "      <td>0.0</td>\n",
       "      <td>9</td>\n",
       "      <td>2</td>\n",
       "      <td>Average</td>\n",
       "      <td>Yes</td>\n",
       "      <td>Rarely</td>\n",
       "      <td>Apartment</td>\n",
       "      <td>1</td>\n",
       "      <td>38.0</td>\n",
       "      <td>165.000000</td>\n",
       "      <td>40.439584</td>\n",
       "      <td>703.0</td>\n",
       "    </tr>\n",
       "    <tr>\n",
       "      <th>101264</th>\n",
       "      <td>Male</td>\n",
       "      <td>Married</td>\n",
       "      <td>0.0</td>\n",
       "      <td>Bachelor's</td>\n",
       "      <td>Employed</td>\n",
       "      <td>Rural</td>\n",
       "      <td>Comprehensive</td>\n",
       "      <td>0.0</td>\n",
       "      <td>16</td>\n",
       "      <td>9</td>\n",
       "      <td>Good</td>\n",
       "      <td>Yes</td>\n",
       "      <td>Rarely</td>\n",
       "      <td>Condo</td>\n",
       "      <td>2</td>\n",
       "      <td>40.0</td>\n",
       "      <td>107446.000000</td>\n",
       "      <td>12.237150</td>\n",
       "      <td>480.0</td>\n",
       "    </tr>\n",
       "    <tr>\n",
       "      <th>217773</th>\n",
       "      <td>Male</td>\n",
       "      <td>Divorced</td>\n",
       "      <td>1.0</td>\n",
       "      <td>Bachelor's</td>\n",
       "      <td>Employed</td>\n",
       "      <td>Urban</td>\n",
       "      <td>Comprehensive</td>\n",
       "      <td>0.0</td>\n",
       "      <td>9</td>\n",
       "      <td>4</td>\n",
       "      <td>Poor</td>\n",
       "      <td>Yes</td>\n",
       "      <td>Weekly</td>\n",
       "      <td>Condo</td>\n",
       "      <td>0</td>\n",
       "      <td>26.0</td>\n",
       "      <td>20356.000000</td>\n",
       "      <td>1.924136</td>\n",
       "      <td>490.0</td>\n",
       "    </tr>\n",
       "    <tr>\n",
       "      <th>132758</th>\n",
       "      <td>Female</td>\n",
       "      <td>Single</td>\n",
       "      <td>0.0</td>\n",
       "      <td>Master's</td>\n",
       "      <td>Employed</td>\n",
       "      <td>Urban</td>\n",
       "      <td>Basic</td>\n",
       "      <td>0.0</td>\n",
       "      <td>2</td>\n",
       "      <td>9</td>\n",
       "      <td>Good</td>\n",
       "      <td>No</td>\n",
       "      <td>Weekly</td>\n",
       "      <td>House</td>\n",
       "      <td>1</td>\n",
       "      <td>35.0</td>\n",
       "      <td>42089.085329</td>\n",
       "      <td>18.600924</td>\n",
       "      <td>691.0</td>\n",
       "    </tr>\n",
       "    <tr>\n",
       "      <th>162273</th>\n",
       "      <td>Male</td>\n",
       "      <td>Divorced</td>\n",
       "      <td>1.0</td>\n",
       "      <td>Bachelor's</td>\n",
       "      <td>Employed</td>\n",
       "      <td>Suburban</td>\n",
       "      <td>Premium</td>\n",
       "      <td>2.0</td>\n",
       "      <td>2</td>\n",
       "      <td>1</td>\n",
       "      <td>Average</td>\n",
       "      <td>Yes</td>\n",
       "      <td>Weekly</td>\n",
       "      <td>Condo</td>\n",
       "      <td>4</td>\n",
       "      <td>23.0</td>\n",
       "      <td>65151.000000</td>\n",
       "      <td>20.845154</td>\n",
       "      <td>400.0</td>\n",
       "    </tr>\n",
       "  </tbody>\n",
       "</table>\n",
       "</div>"
      ],
      "text/plain": [
       "        Gender Marital Status  Number of Dependents Education Level  \\\n",
       "54415   Female       Divorced                   0.0             PhD   \n",
       "101264    Male        Married                   0.0      Bachelor's   \n",
       "217773    Male       Divorced                   1.0      Bachelor's   \n",
       "132758  Female         Single                   0.0        Master's   \n",
       "162273    Male       Divorced                   1.0      Bachelor's   \n",
       "\n",
       "        Occupation  Location    Policy Type  Previous Claims  Vehicle Age  \\\n",
       "54415   Unemployed     Urban        Premium              0.0            9   \n",
       "101264    Employed     Rural  Comprehensive              0.0           16   \n",
       "217773    Employed     Urban  Comprehensive              0.0            9   \n",
       "132758    Employed     Urban          Basic              0.0            2   \n",
       "162273    Employed  Suburban        Premium              2.0            2   \n",
       "\n",
       "        Insurance Duration Customer Feedback Smoking Status  \\\n",
       "54415                    2           Average            Yes   \n",
       "101264                   9              Good            Yes   \n",
       "217773                   4              Poor            Yes   \n",
       "132758                   9              Good             No   \n",
       "162273                   1           Average            Yes   \n",
       "\n",
       "       Exercise Frequency Property Type  Policy Age   Age  Annual Income  \\\n",
       "54415              Rarely     Apartment           1  38.0     165.000000   \n",
       "101264             Rarely         Condo           2  40.0  107446.000000   \n",
       "217773             Weekly         Condo           0  26.0   20356.000000   \n",
       "132758             Weekly         House           1  35.0   42089.085329   \n",
       "162273             Weekly         Condo           4  23.0   65151.000000   \n",
       "\n",
       "        Health Score  Credit Score  \n",
       "54415      40.439584         703.0  \n",
       "101264     12.237150         480.0  \n",
       "217773      1.924136         490.0  \n",
       "132758     18.600924         691.0  \n",
       "162273     20.845154         400.0  "
      ]
     },
     "execution_count": 48,
     "metadata": {},
     "output_type": "execute_result"
    }
   ],
   "source": [
    "X_train.head()"
   ]
  },
  {
   "cell_type": "code",
   "execution_count": 49,
   "id": "09316012-90bc-470d-a9a0-d1d7f59bf467",
   "metadata": {},
   "outputs": [],
   "source": [
    "from sklearn.pipeline import Pipeline\n",
    "from sklearn.preprocessing import StandardScaler\n",
    "from sklearn.preprocessing import OrdinalEncoder\n",
    "from sklearn import preprocessing "
   ]
  },
  {
   "cell_type": "code",
   "execution_count": 50,
   "id": "dc5c2403-e2c0-4347-9335-1754b5709827",
   "metadata": {},
   "outputs": [],
   "source": [
    "catColumn = ['Gender',\n",
    "  'Marital Status',\n",
    "  'Number of Dependents',\n",
    "  'Education Level',\n",
    "  'Occupation',\n",
    "  'Location',\n",
    "  'Policy Type',\n",
    "  'Previous Claims',\n",
    "  'Vehicle Age',\n",
    "  'Insurance Duration',\n",
    "  'Customer Feedback',\n",
    "  'Smoking Status',\n",
    "  'Exercise Frequency',\n",
    "  'Property Type',\n",
    "  'Policy Age']"
   ]
  },
  {
   "cell_type": "code",
   "execution_count": 51,
   "id": "d2657a5a-78ef-43d8-870b-9b4e91a414a0",
   "metadata": {},
   "outputs": [
    {
     "name": "stdout",
     "output_type": "stream",
     "text": [
      "<class 'pandas.core.frame.DataFrame'>\n",
      "Index: 249317 entries, 54415 to 122748\n",
      "Data columns (total 19 columns):\n",
      " #   Column                Non-Null Count   Dtype  \n",
      "---  ------                --------------   -----  \n",
      " 0   Gender                249317 non-null  object \n",
      " 1   Marital Status        249317 non-null  object \n",
      " 2   Number of Dependents  249317 non-null  float64\n",
      " 3   Education Level       249317 non-null  object \n",
      " 4   Occupation            249317 non-null  object \n",
      " 5   Location              249317 non-null  object \n",
      " 6   Policy Type           249317 non-null  object \n",
      " 7   Previous Claims       249317 non-null  float64\n",
      " 8   Vehicle Age           249317 non-null  int64  \n",
      " 9   Insurance Duration    249317 non-null  int64  \n",
      " 10  Customer Feedback     249317 non-null  object \n",
      " 11  Smoking Status        249317 non-null  object \n",
      " 12  Exercise Frequency    249317 non-null  object \n",
      " 13  Property Type         249317 non-null  object \n",
      " 14  Policy Age            249317 non-null  int64  \n",
      " 15  Age                   249317 non-null  float64\n",
      " 16  Annual Income         249317 non-null  float64\n",
      " 17  Health Score          249317 non-null  float64\n",
      " 18  Credit Score          249317 non-null  float64\n",
      "dtypes: float64(6), int64(3), object(10)\n",
      "memory usage: 38.0+ MB\n"
     ]
    }
   ],
   "source": [
    "X_train.info()"
   ]
  },
  {
   "cell_type": "code",
   "execution_count": 52,
   "id": "ef96d109-7943-4b8e-9fb1-687a1b5f1e18",
   "metadata": {},
   "outputs": [],
   "source": [
    "from sklearn.preprocessing import LabelEncoder\n",
    "\n",
    "object_columns = X_train.select_dtypes(include=['object']).columns\n",
    "for col in object_columns:\n",
    "    le = LabelEncoder()\n",
    "    X_train[col] = le.fit_transform(X_train[col])\n",
    "    X_test[col] = le.transform(X_test[col])\n",
    "    \n",
    "# for col in catColumn:\n",
    "#     encoder = OneHotEncoder()\n",
    "#     X_train[col] = encoder.fit_transform(X_train[col])\n",
    "#     X_test[col] = encoder.transform(X_test[col])"
   ]
  },
  {
   "cell_type": "code",
   "execution_count": 53,
   "id": "d2bba557-147d-4215-b5bd-2c2e7ea09799",
   "metadata": {},
   "outputs": [],
   "source": [
    "\n",
    "for col in X_train.columns:\n",
    "    X_train[col] = np.log1p(X_train[col])\n",
    "    X_test[col] = np.log1p(X_test[col])\n",
    "\n",
    "y_train = np.log1p(y_train)\n",
    "y_test = np.log1p(y_test)\n",
    "    "
   ]
  },
  {
   "cell_type": "code",
   "execution_count": null,
   "id": "a88b4179-5002-4633-a4bb-bacaaee147c1",
   "metadata": {},
   "outputs": [],
   "source": []
  },
  {
   "cell_type": "code",
   "execution_count": 55,
   "id": "833f6ffb-c089-44e4-8320-aa4f23d32f34",
   "metadata": {},
   "outputs": [
    {
     "data": {
      "text/html": [
       "<div>\n",
       "<style scoped>\n",
       "    .dataframe tbody tr th:only-of-type {\n",
       "        vertical-align: middle;\n",
       "    }\n",
       "\n",
       "    .dataframe tbody tr th {\n",
       "        vertical-align: top;\n",
       "    }\n",
       "\n",
       "    .dataframe thead th {\n",
       "        text-align: right;\n",
       "    }\n",
       "</style>\n",
       "<table border=\"1\" class=\"dataframe\">\n",
       "  <thead>\n",
       "    <tr style=\"text-align: right;\">\n",
       "      <th></th>\n",
       "      <th>Gender</th>\n",
       "      <th>Marital Status</th>\n",
       "      <th>Number of Dependents</th>\n",
       "      <th>Education Level</th>\n",
       "      <th>Occupation</th>\n",
       "      <th>Location</th>\n",
       "      <th>Policy Type</th>\n",
       "      <th>Previous Claims</th>\n",
       "      <th>Vehicle Age</th>\n",
       "      <th>Insurance Duration</th>\n",
       "      <th>Customer Feedback</th>\n",
       "      <th>Smoking Status</th>\n",
       "      <th>Exercise Frequency</th>\n",
       "      <th>Property Type</th>\n",
       "      <th>Policy Age</th>\n",
       "      <th>Age</th>\n",
       "      <th>Annual Income</th>\n",
       "      <th>Health Score</th>\n",
       "      <th>Credit Score</th>\n",
       "    </tr>\n",
       "  </thead>\n",
       "  <tbody>\n",
       "    <tr>\n",
       "      <th>54415</th>\n",
       "      <td>0.000000</td>\n",
       "      <td>0.000000</td>\n",
       "      <td>0.000000</td>\n",
       "      <td>1.386294</td>\n",
       "      <td>1.098612</td>\n",
       "      <td>1.098612</td>\n",
       "      <td>1.098612</td>\n",
       "      <td>0.000000</td>\n",
       "      <td>2.302585</td>\n",
       "      <td>1.098612</td>\n",
       "      <td>0.000000</td>\n",
       "      <td>0.693147</td>\n",
       "      <td>1.098612</td>\n",
       "      <td>0.000000</td>\n",
       "      <td>0.693147</td>\n",
       "      <td>3.663562</td>\n",
       "      <td>5.111988</td>\n",
       "      <td>3.724237</td>\n",
       "      <td>6.556778</td>\n",
       "    </tr>\n",
       "    <tr>\n",
       "      <th>101264</th>\n",
       "      <td>0.693147</td>\n",
       "      <td>0.693147</td>\n",
       "      <td>0.000000</td>\n",
       "      <td>0.000000</td>\n",
       "      <td>0.000000</td>\n",
       "      <td>0.000000</td>\n",
       "      <td>0.693147</td>\n",
       "      <td>0.000000</td>\n",
       "      <td>2.833213</td>\n",
       "      <td>2.302585</td>\n",
       "      <td>0.693147</td>\n",
       "      <td>0.693147</td>\n",
       "      <td>1.098612</td>\n",
       "      <td>0.693147</td>\n",
       "      <td>1.098612</td>\n",
       "      <td>3.713572</td>\n",
       "      <td>11.584753</td>\n",
       "      <td>2.583027</td>\n",
       "      <td>6.175867</td>\n",
       "    </tr>\n",
       "    <tr>\n",
       "      <th>217773</th>\n",
       "      <td>0.693147</td>\n",
       "      <td>0.000000</td>\n",
       "      <td>0.693147</td>\n",
       "      <td>0.000000</td>\n",
       "      <td>0.000000</td>\n",
       "      <td>1.098612</td>\n",
       "      <td>0.693147</td>\n",
       "      <td>0.000000</td>\n",
       "      <td>2.302585</td>\n",
       "      <td>1.609438</td>\n",
       "      <td>1.098612</td>\n",
       "      <td>0.693147</td>\n",
       "      <td>1.386294</td>\n",
       "      <td>0.693147</td>\n",
       "      <td>0.000000</td>\n",
       "      <td>3.295837</td>\n",
       "      <td>9.921180</td>\n",
       "      <td>1.072999</td>\n",
       "      <td>6.196444</td>\n",
       "    </tr>\n",
       "    <tr>\n",
       "      <th>132758</th>\n",
       "      <td>0.000000</td>\n",
       "      <td>1.098612</td>\n",
       "      <td>0.000000</td>\n",
       "      <td>1.098612</td>\n",
       "      <td>0.000000</td>\n",
       "      <td>1.098612</td>\n",
       "      <td>0.000000</td>\n",
       "      <td>0.000000</td>\n",
       "      <td>1.098612</td>\n",
       "      <td>2.302585</td>\n",
       "      <td>0.693147</td>\n",
       "      <td>0.000000</td>\n",
       "      <td>1.386294</td>\n",
       "      <td>1.098612</td>\n",
       "      <td>0.693147</td>\n",
       "      <td>3.583519</td>\n",
       "      <td>10.647567</td>\n",
       "      <td>2.975577</td>\n",
       "      <td>6.539586</td>\n",
       "    </tr>\n",
       "    <tr>\n",
       "      <th>162273</th>\n",
       "      <td>0.693147</td>\n",
       "      <td>0.000000</td>\n",
       "      <td>0.693147</td>\n",
       "      <td>0.000000</td>\n",
       "      <td>0.000000</td>\n",
       "      <td>0.693147</td>\n",
       "      <td>1.098612</td>\n",
       "      <td>1.098612</td>\n",
       "      <td>1.098612</td>\n",
       "      <td>0.693147</td>\n",
       "      <td>0.000000</td>\n",
       "      <td>0.693147</td>\n",
       "      <td>1.386294</td>\n",
       "      <td>0.693147</td>\n",
       "      <td>1.609438</td>\n",
       "      <td>3.178054</td>\n",
       "      <td>11.084478</td>\n",
       "      <td>3.083979</td>\n",
       "      <td>5.993961</td>\n",
       "    </tr>\n",
       "  </tbody>\n",
       "</table>\n",
       "</div>"
      ],
      "text/plain": [
       "          Gender  Marital Status  Number of Dependents  Education Level  \\\n",
       "54415   0.000000        0.000000              0.000000         1.386294   \n",
       "101264  0.693147        0.693147              0.000000         0.000000   \n",
       "217773  0.693147        0.000000              0.693147         0.000000   \n",
       "132758  0.000000        1.098612              0.000000         1.098612   \n",
       "162273  0.693147        0.000000              0.693147         0.000000   \n",
       "\n",
       "        Occupation  Location  Policy Type  Previous Claims  Vehicle Age  \\\n",
       "54415     1.098612  1.098612     1.098612         0.000000     2.302585   \n",
       "101264    0.000000  0.000000     0.693147         0.000000     2.833213   \n",
       "217773    0.000000  1.098612     0.693147         0.000000     2.302585   \n",
       "132758    0.000000  1.098612     0.000000         0.000000     1.098612   \n",
       "162273    0.000000  0.693147     1.098612         1.098612     1.098612   \n",
       "\n",
       "        Insurance Duration  Customer Feedback  Smoking Status  \\\n",
       "54415             1.098612           0.000000        0.693147   \n",
       "101264            2.302585           0.693147        0.693147   \n",
       "217773            1.609438           1.098612        0.693147   \n",
       "132758            2.302585           0.693147        0.000000   \n",
       "162273            0.693147           0.000000        0.693147   \n",
       "\n",
       "        Exercise Frequency  Property Type  Policy Age       Age  \\\n",
       "54415             1.098612       0.000000    0.693147  3.663562   \n",
       "101264            1.098612       0.693147    1.098612  3.713572   \n",
       "217773            1.386294       0.693147    0.000000  3.295837   \n",
       "132758            1.386294       1.098612    0.693147  3.583519   \n",
       "162273            1.386294       0.693147    1.609438  3.178054   \n",
       "\n",
       "        Annual Income  Health Score  Credit Score  \n",
       "54415        5.111988      3.724237      6.556778  \n",
       "101264      11.584753      2.583027      6.175867  \n",
       "217773       9.921180      1.072999      6.196444  \n",
       "132758      10.647567      2.975577      6.539586  \n",
       "162273      11.084478      3.083979      5.993961  "
      ]
     },
     "execution_count": 55,
     "metadata": {},
     "output_type": "execute_result"
    }
   ],
   "source": [
    "X_train.head()"
   ]
  },
  {
   "cell_type": "code",
   "execution_count": 56,
   "id": "90c4584c-1160-46fb-9f5d-028b7cc4e1a4",
   "metadata": {},
   "outputs": [
    {
     "data": {
      "text/html": [
       "<div>\n",
       "<style scoped>\n",
       "    .dataframe tbody tr th:only-of-type {\n",
       "        vertical-align: middle;\n",
       "    }\n",
       "\n",
       "    .dataframe tbody tr th {\n",
       "        vertical-align: top;\n",
       "    }\n",
       "\n",
       "    .dataframe thead th {\n",
       "        text-align: right;\n",
       "    }\n",
       "</style>\n",
       "<table border=\"1\" class=\"dataframe\">\n",
       "  <thead>\n",
       "    <tr style=\"text-align: right;\">\n",
       "      <th></th>\n",
       "      <th>Gender</th>\n",
       "      <th>Marital Status</th>\n",
       "      <th>Number of Dependents</th>\n",
       "      <th>Education Level</th>\n",
       "      <th>Occupation</th>\n",
       "      <th>Location</th>\n",
       "      <th>Policy Type</th>\n",
       "      <th>Previous Claims</th>\n",
       "      <th>Vehicle Age</th>\n",
       "      <th>Insurance Duration</th>\n",
       "      <th>Customer Feedback</th>\n",
       "      <th>Smoking Status</th>\n",
       "      <th>Exercise Frequency</th>\n",
       "      <th>Property Type</th>\n",
       "      <th>Policy Age</th>\n",
       "      <th>Age</th>\n",
       "      <th>Annual Income</th>\n",
       "      <th>Health Score</th>\n",
       "      <th>Credit Score</th>\n",
       "    </tr>\n",
       "  </thead>\n",
       "  <tbody>\n",
       "    <tr>\n",
       "      <th>123288</th>\n",
       "      <td>0.000000</td>\n",
       "      <td>0.000000</td>\n",
       "      <td>0.693147</td>\n",
       "      <td>1.386294</td>\n",
       "      <td>0.693147</td>\n",
       "      <td>0.000000</td>\n",
       "      <td>0.000000</td>\n",
       "      <td>0.000000</td>\n",
       "      <td>1.609438</td>\n",
       "      <td>1.609438</td>\n",
       "      <td>0.000000</td>\n",
       "      <td>0.000000</td>\n",
       "      <td>1.098612</td>\n",
       "      <td>0.000000</td>\n",
       "      <td>0.693147</td>\n",
       "      <td>4.043051</td>\n",
       "      <td>10.680286</td>\n",
       "      <td>2.577711</td>\n",
       "      <td>5.924256</td>\n",
       "    </tr>\n",
       "    <tr>\n",
       "      <th>53015</th>\n",
       "      <td>0.000000</td>\n",
       "      <td>0.693147</td>\n",
       "      <td>1.386294</td>\n",
       "      <td>0.693147</td>\n",
       "      <td>1.386294</td>\n",
       "      <td>0.693147</td>\n",
       "      <td>0.000000</td>\n",
       "      <td>0.000000</td>\n",
       "      <td>2.708050</td>\n",
       "      <td>1.098612</td>\n",
       "      <td>0.693147</td>\n",
       "      <td>0.693147</td>\n",
       "      <td>0.693147</td>\n",
       "      <td>0.000000</td>\n",
       "      <td>1.098612</td>\n",
       "      <td>4.025352</td>\n",
       "      <td>9.410993</td>\n",
       "      <td>1.365466</td>\n",
       "      <td>6.703188</td>\n",
       "    </tr>\n",
       "    <tr>\n",
       "      <th>227953</th>\n",
       "      <td>0.693147</td>\n",
       "      <td>1.098612</td>\n",
       "      <td>1.386294</td>\n",
       "      <td>1.098612</td>\n",
       "      <td>0.000000</td>\n",
       "      <td>0.693147</td>\n",
       "      <td>1.098612</td>\n",
       "      <td>0.693147</td>\n",
       "      <td>2.484907</td>\n",
       "      <td>1.791759</td>\n",
       "      <td>0.000000</td>\n",
       "      <td>0.693147</td>\n",
       "      <td>0.693147</td>\n",
       "      <td>0.693147</td>\n",
       "      <td>0.693147</td>\n",
       "      <td>3.737670</td>\n",
       "      <td>8.809564</td>\n",
       "      <td>3.897382</td>\n",
       "      <td>6.257668</td>\n",
       "    </tr>\n",
       "    <tr>\n",
       "      <th>243052</th>\n",
       "      <td>0.000000</td>\n",
       "      <td>0.693147</td>\n",
       "      <td>1.386294</td>\n",
       "      <td>1.098612</td>\n",
       "      <td>0.693147</td>\n",
       "      <td>0.693147</td>\n",
       "      <td>0.000000</td>\n",
       "      <td>0.000000</td>\n",
       "      <td>0.000000</td>\n",
       "      <td>2.302585</td>\n",
       "      <td>1.098612</td>\n",
       "      <td>0.693147</td>\n",
       "      <td>0.693147</td>\n",
       "      <td>1.098612</td>\n",
       "      <td>1.609438</td>\n",
       "      <td>3.178054</td>\n",
       "      <td>10.686361</td>\n",
       "      <td>3.358231</td>\n",
       "      <td>6.597146</td>\n",
       "    </tr>\n",
       "    <tr>\n",
       "      <th>197261</th>\n",
       "      <td>0.693147</td>\n",
       "      <td>0.000000</td>\n",
       "      <td>0.693147</td>\n",
       "      <td>1.386294</td>\n",
       "      <td>1.098612</td>\n",
       "      <td>0.000000</td>\n",
       "      <td>0.000000</td>\n",
       "      <td>0.000000</td>\n",
       "      <td>2.564949</td>\n",
       "      <td>1.609438</td>\n",
       "      <td>0.000000</td>\n",
       "      <td>0.693147</td>\n",
       "      <td>1.098612</td>\n",
       "      <td>0.693147</td>\n",
       "      <td>1.098612</td>\n",
       "      <td>2.995732</td>\n",
       "      <td>10.141244</td>\n",
       "      <td>2.681217</td>\n",
       "      <td>5.843544</td>\n",
       "    </tr>\n",
       "  </tbody>\n",
       "</table>\n",
       "</div>"
      ],
      "text/plain": [
       "          Gender  Marital Status  Number of Dependents  Education Level  \\\n",
       "123288  0.000000        0.000000              0.693147         1.386294   \n",
       "53015   0.000000        0.693147              1.386294         0.693147   \n",
       "227953  0.693147        1.098612              1.386294         1.098612   \n",
       "243052  0.000000        0.693147              1.386294         1.098612   \n",
       "197261  0.693147        0.000000              0.693147         1.386294   \n",
       "\n",
       "        Occupation  Location  Policy Type  Previous Claims  Vehicle Age  \\\n",
       "123288    0.693147  0.000000     0.000000         0.000000     1.609438   \n",
       "53015     1.386294  0.693147     0.000000         0.000000     2.708050   \n",
       "227953    0.000000  0.693147     1.098612         0.693147     2.484907   \n",
       "243052    0.693147  0.693147     0.000000         0.000000     0.000000   \n",
       "197261    1.098612  0.000000     0.000000         0.000000     2.564949   \n",
       "\n",
       "        Insurance Duration  Customer Feedback  Smoking Status  \\\n",
       "123288            1.609438           0.000000        0.000000   \n",
       "53015             1.098612           0.693147        0.693147   \n",
       "227953            1.791759           0.000000        0.693147   \n",
       "243052            2.302585           1.098612        0.693147   \n",
       "197261            1.609438           0.000000        0.693147   \n",
       "\n",
       "        Exercise Frequency  Property Type  Policy Age       Age  \\\n",
       "123288            1.098612       0.000000    0.693147  4.043051   \n",
       "53015             0.693147       0.000000    1.098612  4.025352   \n",
       "227953            0.693147       0.693147    0.693147  3.737670   \n",
       "243052            0.693147       1.098612    1.609438  3.178054   \n",
       "197261            1.098612       0.693147    1.098612  2.995732   \n",
       "\n",
       "        Annual Income  Health Score  Credit Score  \n",
       "123288      10.680286      2.577711      5.924256  \n",
       "53015        9.410993      1.365466      6.703188  \n",
       "227953       8.809564      3.897382      6.257668  \n",
       "243052      10.686361      3.358231      6.597146  \n",
       "197261      10.141244      2.681217      5.843544  "
      ]
     },
     "execution_count": 56,
     "metadata": {},
     "output_type": "execute_result"
    }
   ],
   "source": [
    "X_test.head()"
   ]
  },
  {
   "cell_type": "code",
   "execution_count": 57,
   "id": "20bf6774-f6c9-499d-92d2-6704244980cc",
   "metadata": {},
   "outputs": [
    {
     "data": {
      "text/plain": [
       "((249317, 19), (27702, 19), (249317,), (27702,))"
      ]
     },
     "execution_count": 57,
     "metadata": {},
     "output_type": "execute_result"
    }
   ],
   "source": [
    "X_train.shape, X_test.shape, y_train.shape, y_test.shape"
   ]
  },
  {
   "cell_type": "code",
   "execution_count": 59,
   "id": "aceffc20-7ee8-4220-9972-87ca63d62419",
   "metadata": {},
   "outputs": [
    {
     "name": "stdout",
     "output_type": "stream",
     "text": [
      "Collecting lightgbm\n",
      "  Using cached lightgbm-4.5.0.tar.gz (1.7 MB)\n",
      "  Installing build dependencies ... \u001b[?25ldone\n",
      "\u001b[?25h  Getting requirements to build wheel ... \u001b[?25ldone\n",
      "\u001b[?25h  Installing backend dependencies ... \u001b[?25ldone\n",
      "\u001b[?25h  Preparing metadata (pyproject.toml) ... \u001b[?25ldone\n",
      "\u001b[?25hRequirement already satisfied: numpy>=1.17.0 in /home/ghosh.shu/.conda/envs/my_env/lib/python3.10/site-packages (from lightgbm) (1.26.4)\n",
      "Requirement already satisfied: scipy in /home/ghosh.shu/.conda/envs/my_env/lib/python3.10/site-packages (from lightgbm) (1.15.1)\n",
      "Building wheels for collected packages: lightgbm\n",
      "  Building wheel for lightgbm (pyproject.toml) ... \u001b[?25ldone\n",
      "\u001b[?25h  Created wheel for lightgbm: filename=lightgbm-4.5.0-py3-none-linux_x86_64.whl size=3086024 sha256=56682dbe9ca62a468c2646e8a46799993301ef48d56b3466deac4eacbcbe1ee0\n",
      "  Stored in directory: /home/ghosh.shu/.cache/pip/wheels/7c/16/bf/61bc6295609c0752bc0f5b774a41f3413bca3afe3a73d2e47d\n",
      "Successfully built lightgbm\n",
      "Installing collected packages: lightgbm\n",
      "Successfully installed lightgbm-4.5.0\n"
     ]
    }
   ],
   "source": [
    "!pip install lightgbm"
   ]
  },
  {
   "cell_type": "code",
   "execution_count": 58,
   "id": "2b459a03-fefd-45a4-a3a7-185baa5286b5",
   "metadata": {},
   "outputs": [
    {
     "ename": "ModuleNotFoundError",
     "evalue": "No module named 'xgboost'",
     "output_type": "error",
     "traceback": [
      "\u001b[0;31m---------------------------------------------------------------------------\u001b[0m",
      "\u001b[0;31mModuleNotFoundError\u001b[0m                       Traceback (most recent call last)",
      "Cell \u001b[0;32mIn[58], line 4\u001b[0m\n\u001b[1;32m      2\u001b[0m \u001b[38;5;28;01mfrom\u001b[39;00m \u001b[38;5;21;01msklearn\u001b[39;00m\u001b[38;5;21;01m.\u001b[39;00m\u001b[38;5;21;01mpreprocessing\u001b[39;00m \u001b[38;5;28;01mimport\u001b[39;00m LabelEncoder\n\u001b[1;32m      3\u001b[0m \u001b[38;5;28;01mfrom\u001b[39;00m \u001b[38;5;21;01msklearn\u001b[39;00m\u001b[38;5;21;01m.\u001b[39;00m\u001b[38;5;21;01mpreprocessing\u001b[39;00m \u001b[38;5;28;01mimport\u001b[39;00m StandardScaler\n\u001b[0;32m----> 4\u001b[0m \u001b[38;5;28;01mfrom\u001b[39;00m \u001b[38;5;21;01mxgboost\u001b[39;00m \u001b[38;5;28;01mimport\u001b[39;00m XGBRegressor\n\u001b[1;32m      5\u001b[0m \u001b[38;5;28;01mfrom\u001b[39;00m \u001b[38;5;21;01msklearn\u001b[39;00m\u001b[38;5;21;01m.\u001b[39;00m\u001b[38;5;21;01mensemble\u001b[39;00m \u001b[38;5;28;01mimport\u001b[39;00m RandomForestRegressor\n",
      "\u001b[0;31mModuleNotFoundError\u001b[0m: No module named 'xgboost'"
     ]
    }
   ],
   "source": [
    "from sklearn.model_selection import GridSearchCV\n",
    "from sklearn.preprocessing import LabelEncoder\n",
    "from sklearn.preprocessing import StandardScaler\n",
    "# from xgboost import XGBRegressor\n",
    "from sklearn.ensemble import RandomForestRegressor"
   ]
  },
  {
   "cell_type": "code",
   "execution_count": 60,
   "id": "16ebf947-5dc1-44ca-868b-53d27e7ca1ef",
   "metadata": {},
   "outputs": [
    {
     "name": "stdout",
     "output_type": "stream",
     "text": [
      "Fitting 3 folds for each of 1 candidates, totalling 3 fits\n",
      "[LightGBM] [Warning] Found whitespace in feature_names, replace with underlines\n",
      "[LightGBM] [Info] Auto-choosing row-wise multi-threading, the overhead of testing was 0.003647 seconds.\n",
      "You can set `force_row_wise=true` to remove the overhead.\n",
      "And if memory is not enough, you can set `force_col_wise=true`.\n",
      "[LightGBM] [Info] Total Bins 894\n",
      "[LightGBM] [Info] Number of data points in the train set: 166211, number of used features: 19\n",
      "[LightGBM] [Info] Start training from score 6.320855\n",
      "[LightGBM] [Warning] No further splits with positive gain, best gain: -inf\n",
      "[LightGBM] [Warning] No further splits with positive gain, best gain: -inf\n",
      "[LightGBM] [Warning] No further splits with positive gain, best gain: -inf\n",
      "[LightGBM] [Warning] No further splits with positive gain, best gain: -inf\n",
      "[LightGBM] [Warning] No further splits with positive gain, best gain: -inf\n",
      "[LightGBM] [Warning] No further splits with positive gain, best gain: -inf\n",
      "[LightGBM] [Warning] No further splits with positive gain, best gain: -inf\n",
      "[CV 1/3] END boosting_type=gbdt, learning_rate=0.05, max_depth=7, n_estimators=150, num_leaves=70, objective=regression;, score=-1.256 total time=   1.6s\n",
      "[LightGBM] [Warning] Found whitespace in feature_names, replace with underlines\n",
      "[LightGBM] [Info] Auto-choosing row-wise multi-threading, the overhead of testing was 0.003019 seconds.\n",
      "You can set `force_row_wise=true` to remove the overhead.\n",
      "And if memory is not enough, you can set `force_col_wise=true`.\n",
      "[LightGBM] [Info] Total Bins 894\n",
      "[LightGBM] [Info] Number of data points in the train set: 166211, number of used features: 19\n",
      "[LightGBM] [Info] Start training from score 6.317210\n",
      "[LightGBM] [Warning] No further splits with positive gain, best gain: -inf\n",
      "[LightGBM] [Warning] No further splits with positive gain, best gain: -inf\n",
      "[LightGBM] [Warning] No further splits with positive gain, best gain: -inf\n",
      "[CV 2/3] END boosting_type=gbdt, learning_rate=0.05, max_depth=7, n_estimators=150, num_leaves=70, objective=regression;, score=-1.259 total time=   1.3s\n",
      "[LightGBM] [Warning] Found whitespace in feature_names, replace with underlines\n",
      "[LightGBM] [Info] Auto-choosing row-wise multi-threading, the overhead of testing was 0.003034 seconds.\n",
      "You can set `force_row_wise=true` to remove the overhead.\n",
      "And if memory is not enough, you can set `force_col_wise=true`.\n",
      "[LightGBM] [Info] Total Bins 893\n",
      "[LightGBM] [Info] Number of data points in the train set: 166212, number of used features: 19\n",
      "[LightGBM] [Info] Start training from score 6.320676\n",
      "[LightGBM] [Warning] No further splits with positive gain, best gain: -inf\n",
      "[LightGBM] [Warning] No further splits with positive gain, best gain: -inf\n",
      "[LightGBM] [Warning] No further splits with positive gain, best gain: -inf\n",
      "[LightGBM] [Warning] No further splits with positive gain, best gain: -inf\n",
      "[LightGBM] [Warning] No further splits with positive gain, best gain: -inf\n",
      "[LightGBM] [Warning] No further splits with positive gain, best gain: -inf\n",
      "[CV 3/3] END boosting_type=gbdt, learning_rate=0.05, max_depth=7, n_estimators=150, num_leaves=70, objective=regression;, score=-1.262 total time=   1.4s\n",
      "[LightGBM] [Warning] Found whitespace in feature_names, replace with underlines\n",
      "[LightGBM] [Info] Auto-choosing row-wise multi-threading, the overhead of testing was 0.004344 seconds.\n",
      "You can set `force_row_wise=true` to remove the overhead.\n",
      "And if memory is not enough, you can set `force_col_wise=true`.\n",
      "[LightGBM] [Info] Total Bins 894\n",
      "[LightGBM] [Info] Number of data points in the train set: 249317, number of used features: 19\n",
      "[LightGBM] [Info] Start training from score 6.319580\n",
      "[LightGBM] [Warning] No further splits with positive gain, best gain: -inf\n",
      "Best params:  {'boosting_type': 'gbdt', 'learning_rate': 0.05, 'max_depth': 7, 'n_estimators': 150, 'num_leaves': 70, 'objective': 'regression'}\n",
      "Best RMSLE:  1.259067768294251\n",
      "CPU times: user 20.3 s, sys: 611 ms, total: 20.9 s\n",
      "Wall time: 5.53 s\n"
     ]
    }
   ],
   "source": [
    "%%time\n",
    "# model = XGBRegressor(random_state=42)\n",
    "\n",
    "from lightgbm import LGBMRegressor\n",
    "\n",
    "# model = RandomForestRegressor(random_state=0)\n",
    "\n",
    "model = LGBMRegressor(random_state=42)\n",
    "\n",
    "\n",
    "# Hyperparameters for XGBoost tuning\n",
    "\n",
    "# params = {     \n",
    "#     'n_estimators': [150],\n",
    "#     'max_depth': [7],\n",
    "# }\n",
    "\n",
    "params = {     \n",
    "    'n_estimators': [150],\n",
    "    'max_depth': [7],       \n",
    "    'num_leaves': [70],\n",
    "    'objective': ['regression'],\n",
    "    'learning_rate': [0.05],\n",
    "    'boosting_type': ['gbdt']\n",
    "}\n",
    "\n",
    "# Set up GridSearchCV for hyperparameter tuning\n",
    "search = GridSearchCV(\n",
    "    estimator = model,              \n",
    "    param_grid = params,            \n",
    "    cv = 3,                 # k-fold cross-validation\n",
    "    verbose = 3,                    \n",
    "    scoring = \"neg_root_mean_squared_error\"  # evaluation metric\n",
    ")\n",
    "\n",
    "# Perform the grid search with cross-validation\n",
    "search.fit(X_train, y_train)\n",
    "\n",
    "print(\"Best params: \", search.best_params_)\n",
    "print(\"Best RMSLE: \", -search.best_score_)"
   ]
  },
  {
   "cell_type": "code",
   "execution_count": 35,
   "id": "c9e25dc8-5f88-4498-8bd5-b7b40cee32ea",
   "metadata": {},
   "outputs": [],
   "source": [
    "params_xgb = {}\n",
    "# 'lambda': 0.7044156083795233, 'alpha': 9.681476940192473, 'colsample_bytree': 0.3, 'subsample': 0.8,\n",
    "#            'learning_rate': 0.015, 'max_depth': 7,'random_state': 48,'n_estimators': 300\n",
    "\n",
    "params_lgb = {'reg_alpha': 4.973064761998367, 'reg_lambda': 0.06365096912006087,'colsample_bytree': 0.24,\n",
    "              'subsample': 0.8, 'learning_rate': 0.015, 'max_depth': 10,\n",
    "              'cat_smooth': 18,'metric': 'rmse', 'random_state': 48,'n_estimators': 400}\n"
   ]
  },
  {
   "cell_type": "code",
   "execution_count": 31,
   "id": "615a9c16-ca55-4638-911d-5922238216a8",
   "metadata": {},
   "outputs": [],
   "source": [
    "from sklearn.linear_model import ElasticNet, Lasso,LinearRegression,RidgeCV\n",
    "from sklearn.model_selection import KFold\n",
    "from sklearn.metrics import mean_squared_error\n",
    "import xgboost as xgb\n",
    "import lightgbm as lgb"
   ]
  },
  {
   "cell_type": "code",
   "execution_count": 37,
   "id": "11b2a3bb-adb8-4fb5-b234-86dbcf887d1c",
   "metadata": {},
   "outputs": [
    {
     "name": "stdout",
     "output_type": "stream",
     "text": [
      "fold: 1\n",
      "[LightGBM] [Warning] Found whitespace in feature_names, replace with underlines\n",
      "[LightGBM] [Info] Auto-choosing row-wise multi-threading, the overhead of testing was 0.017083 seconds.\n",
      "You can set `force_row_wise=true` to remove the overhead.\n",
      "And if memory is not enough, you can set `force_col_wise=true`.\n",
      "[LightGBM] [Info] Total Bins 892\n",
      "[LightGBM] [Info] Number of data points in the train set: 799195, number of used features: 19\n",
      "[LightGBM] [Warning] Found whitespace in feature_names, replace with underlines\n",
      "[LightGBM] [Info] Start training from score 6.594165\n",
      ": model1 rmse = 1.108810828157015\n",
      "[0]\tvalidation_0-rmse:1.07985\n",
      "[1]\tvalidation_0-rmse:1.07042\n",
      "[2]\tvalidation_0-rmse:1.06383\n",
      "[3]\tvalidation_0-rmse:1.06035\n",
      "[4]\tvalidation_0-rmse:1.05866\n",
      "[5]\tvalidation_0-rmse:1.05752\n",
      "[6]\tvalidation_0-rmse:1.05657\n",
      "[7]\tvalidation_0-rmse:1.05599\n",
      "[8]\tvalidation_0-rmse:1.05570\n",
      "[9]\tvalidation_0-rmse:1.05549\n",
      "[10]\tvalidation_0-rmse:1.05514\n",
      "[11]\tvalidation_0-rmse:1.05498\n",
      "[12]\tvalidation_0-rmse:1.05492\n",
      "[13]\tvalidation_0-rmse:1.05469\n",
      "[14]\tvalidation_0-rmse:1.05466\n",
      "[15]\tvalidation_0-rmse:1.05462\n",
      "[16]\tvalidation_0-rmse:1.05462\n",
      "[17]\tvalidation_0-rmse:1.05455\n",
      "[18]\tvalidation_0-rmse:1.05455\n",
      "[19]\tvalidation_0-rmse:1.05455\n",
      "[20]\tvalidation_0-rmse:1.05453\n",
      "[21]\tvalidation_0-rmse:1.05455\n",
      "[22]\tvalidation_0-rmse:1.05454\n",
      "[23]\tvalidation_0-rmse:1.05448\n",
      "[24]\tvalidation_0-rmse:1.05450\n",
      "[25]\tvalidation_0-rmse:1.05451\n",
      "[26]\tvalidation_0-rmse:1.05449\n",
      "[27]\tvalidation_0-rmse:1.05450\n",
      "[28]\tvalidation_0-rmse:1.05449\n",
      "[29]\tvalidation_0-rmse:1.05451\n",
      "[30]\tvalidation_0-rmse:1.05451\n",
      "[31]\tvalidation_0-rmse:1.05445\n",
      "[32]\tvalidation_0-rmse:1.05444\n",
      "[33]\tvalidation_0-rmse:1.05445\n",
      "[34]\tvalidation_0-rmse:1.05449\n",
      "[35]\tvalidation_0-rmse:1.05450\n",
      "[36]\tvalidation_0-rmse:1.05450\n",
      "[37]\tvalidation_0-rmse:1.05450\n",
      "[38]\tvalidation_0-rmse:1.05453\n",
      "[39]\tvalidation_0-rmse:1.05454\n",
      "[40]\tvalidation_0-rmse:1.05457\n",
      "[41]\tvalidation_0-rmse:1.05456\n",
      "[42]\tvalidation_0-rmse:1.05460\n",
      "[43]\tvalidation_0-rmse:1.05461\n",
      "[44]\tvalidation_0-rmse:1.05463\n",
      "[45]\tvalidation_0-rmse:1.05462\n",
      "[46]\tvalidation_0-rmse:1.05461\n",
      "[47]\tvalidation_0-rmse:1.05463\n",
      "[48]\tvalidation_0-rmse:1.05464\n",
      "[49]\tvalidation_0-rmse:1.05465\n",
      "[50]\tvalidation_0-rmse:1.05468\n",
      "[51]\tvalidation_0-rmse:1.05469\n",
      "[52]\tvalidation_0-rmse:1.05473\n",
      "[53]\tvalidation_0-rmse:1.05472\n",
      "[54]\tvalidation_0-rmse:1.05471\n",
      "[55]\tvalidation_0-rmse:1.05472\n",
      "[56]\tvalidation_0-rmse:1.05471\n",
      "[57]\tvalidation_0-rmse:1.05473\n",
      "[58]\tvalidation_0-rmse:1.05474\n",
      "[59]\tvalidation_0-rmse:1.05474\n",
      "[60]\tvalidation_0-rmse:1.05477\n",
      "[61]\tvalidation_0-rmse:1.05478\n",
      "[62]\tvalidation_0-rmse:1.05480\n",
      "[63]\tvalidation_0-rmse:1.05482\n",
      "[64]\tvalidation_0-rmse:1.05482\n",
      "[65]\tvalidation_0-rmse:1.05480\n",
      "[66]\tvalidation_0-rmse:1.05483\n",
      "[67]\tvalidation_0-rmse:1.05485\n",
      "[68]\tvalidation_0-rmse:1.05488\n",
      "[69]\tvalidation_0-rmse:1.05490\n",
      "[70]\tvalidation_0-rmse:1.05489\n",
      "[71]\tvalidation_0-rmse:1.05491\n",
      "[72]\tvalidation_0-rmse:1.05494\n",
      "[73]\tvalidation_0-rmse:1.05497\n",
      "[74]\tvalidation_0-rmse:1.05498\n",
      "[75]\tvalidation_0-rmse:1.05500\n",
      "[76]\tvalidation_0-rmse:1.05502\n",
      "[77]\tvalidation_0-rmse:1.05504\n",
      "[78]\tvalidation_0-rmse:1.05506\n",
      "[79]\tvalidation_0-rmse:1.05506\n",
      "[80]\tvalidation_0-rmse:1.05510\n",
      "[81]\tvalidation_0-rmse:1.05512\n",
      "[82]\tvalidation_0-rmse:1.05511\n",
      "[83]\tvalidation_0-rmse:1.05511\n",
      "[84]\tvalidation_0-rmse:1.05510\n",
      "[85]\tvalidation_0-rmse:1.05513\n",
      "[86]\tvalidation_0-rmse:1.05515\n",
      "[87]\tvalidation_0-rmse:1.05515\n",
      "[88]\tvalidation_0-rmse:1.05516\n",
      "[89]\tvalidation_0-rmse:1.05517\n",
      "[90]\tvalidation_0-rmse:1.05517\n",
      "[91]\tvalidation_0-rmse:1.05521\n",
      "[92]\tvalidation_0-rmse:1.05524\n",
      "[93]\tvalidation_0-rmse:1.05527\n",
      "[94]\tvalidation_0-rmse:1.05529\n",
      "[95]\tvalidation_0-rmse:1.05531\n",
      "[96]\tvalidation_0-rmse:1.05530\n",
      "[97]\tvalidation_0-rmse:1.05533\n",
      "[98]\tvalidation_0-rmse:1.05536\n",
      "[99]\tvalidation_0-rmse:1.05537\n",
      ": model4 rmse = 1.113809934857974\n",
      ": average all models rmse = 1.1113103815074945\n",
      "fold: 2\n",
      "[LightGBM] [Warning] Found whitespace in feature_names, replace with underlines\n",
      "[LightGBM] [Info] Auto-choosing row-wise multi-threading, the overhead of testing was 0.014174 seconds.\n",
      "You can set `force_row_wise=true` to remove the overhead.\n",
      "And if memory is not enough, you can set `force_col_wise=true`.\n",
      "[LightGBM] [Info] Total Bins 892\n",
      "[LightGBM] [Info] Number of data points in the train set: 799195, number of used features: 19\n",
      "[LightGBM] [Warning] Found whitespace in feature_names, replace with underlines\n",
      "[LightGBM] [Info] Start training from score 6.594851\n",
      ": model1 rmse = 1.1055854823036835\n",
      "[0]\tvalidation_0-rmse:1.07872\n",
      "[1]\tvalidation_0-rmse:1.06922\n",
      "[2]\tvalidation_0-rmse:1.06424\n",
      "[3]\tvalidation_0-rmse:1.05966\n",
      "[4]\tvalidation_0-rmse:1.05714\n",
      "[5]\tvalidation_0-rmse:1.05585\n",
      "[6]\tvalidation_0-rmse:1.05536\n",
      "[7]\tvalidation_0-rmse:1.05464\n",
      "[8]\tvalidation_0-rmse:1.05443\n",
      "[9]\tvalidation_0-rmse:1.05419\n",
      "[10]\tvalidation_0-rmse:1.05386\n",
      "[11]\tvalidation_0-rmse:1.05363\n",
      "[12]\tvalidation_0-rmse:1.05358\n",
      "[13]\tvalidation_0-rmse:1.05356\n",
      "[14]\tvalidation_0-rmse:1.05349\n",
      "[15]\tvalidation_0-rmse:1.05336\n",
      "[16]\tvalidation_0-rmse:1.05333\n",
      "[17]\tvalidation_0-rmse:1.05333\n",
      "[18]\tvalidation_0-rmse:1.05334\n",
      "[19]\tvalidation_0-rmse:1.05321\n",
      "[20]\tvalidation_0-rmse:1.05322\n",
      "[21]\tvalidation_0-rmse:1.05323\n",
      "[22]\tvalidation_0-rmse:1.05324\n",
      "[23]\tvalidation_0-rmse:1.05324\n",
      "[24]\tvalidation_0-rmse:1.05327\n",
      "[25]\tvalidation_0-rmse:1.05318\n",
      "[26]\tvalidation_0-rmse:1.05311\n",
      "[27]\tvalidation_0-rmse:1.05312\n",
      "[28]\tvalidation_0-rmse:1.05314\n",
      "[29]\tvalidation_0-rmse:1.05313\n",
      "[30]\tvalidation_0-rmse:1.05315\n",
      "[31]\tvalidation_0-rmse:1.05315\n",
      "[32]\tvalidation_0-rmse:1.05312\n",
      "[33]\tvalidation_0-rmse:1.05315\n",
      "[34]\tvalidation_0-rmse:1.05312\n",
      "[35]\tvalidation_0-rmse:1.05312\n",
      "[36]\tvalidation_0-rmse:1.05313\n",
      "[37]\tvalidation_0-rmse:1.05316\n",
      "[38]\tvalidation_0-rmse:1.05316\n",
      "[39]\tvalidation_0-rmse:1.05317\n",
      "[40]\tvalidation_0-rmse:1.05316\n",
      "[41]\tvalidation_0-rmse:1.05319\n",
      "[42]\tvalidation_0-rmse:1.05323\n",
      "[43]\tvalidation_0-rmse:1.05327\n",
      "[44]\tvalidation_0-rmse:1.05329\n",
      "[45]\tvalidation_0-rmse:1.05329\n",
      "[46]\tvalidation_0-rmse:1.05331\n",
      "[47]\tvalidation_0-rmse:1.05333\n",
      "[48]\tvalidation_0-rmse:1.05330\n",
      "[49]\tvalidation_0-rmse:1.05332\n",
      "[50]\tvalidation_0-rmse:1.05331\n",
      "[51]\tvalidation_0-rmse:1.05332\n",
      "[52]\tvalidation_0-rmse:1.05333\n",
      "[53]\tvalidation_0-rmse:1.05337\n",
      "[54]\tvalidation_0-rmse:1.05335\n",
      "[55]\tvalidation_0-rmse:1.05337\n",
      "[56]\tvalidation_0-rmse:1.05339\n",
      "[57]\tvalidation_0-rmse:1.05340\n",
      "[58]\tvalidation_0-rmse:1.05342\n",
      "[59]\tvalidation_0-rmse:1.05342\n",
      "[60]\tvalidation_0-rmse:1.05343\n",
      "[61]\tvalidation_0-rmse:1.05346\n",
      "[62]\tvalidation_0-rmse:1.05340\n",
      "[63]\tvalidation_0-rmse:1.05343\n",
      "[64]\tvalidation_0-rmse:1.05346\n",
      "[65]\tvalidation_0-rmse:1.05348\n",
      "[66]\tvalidation_0-rmse:1.05350\n",
      "[67]\tvalidation_0-rmse:1.05350\n",
      "[68]\tvalidation_0-rmse:1.05352\n",
      "[69]\tvalidation_0-rmse:1.05358\n",
      "[70]\tvalidation_0-rmse:1.05359\n",
      "[71]\tvalidation_0-rmse:1.05364\n",
      "[72]\tvalidation_0-rmse:1.05367\n",
      "[73]\tvalidation_0-rmse:1.05370\n",
      "[74]\tvalidation_0-rmse:1.05371\n",
      "[75]\tvalidation_0-rmse:1.05372\n",
      "[76]\tvalidation_0-rmse:1.05374\n",
      "[77]\tvalidation_0-rmse:1.05374\n",
      "[78]\tvalidation_0-rmse:1.05381\n",
      "[79]\tvalidation_0-rmse:1.05383\n",
      "[80]\tvalidation_0-rmse:1.05385\n",
      "[81]\tvalidation_0-rmse:1.05387\n",
      "[82]\tvalidation_0-rmse:1.05390\n",
      "[83]\tvalidation_0-rmse:1.05393\n",
      "[84]\tvalidation_0-rmse:1.05393\n",
      "[85]\tvalidation_0-rmse:1.05395\n",
      "[86]\tvalidation_0-rmse:1.05395\n",
      "[87]\tvalidation_0-rmse:1.05396\n",
      "[88]\tvalidation_0-rmse:1.05399\n",
      "[89]\tvalidation_0-rmse:1.05400\n",
      "[90]\tvalidation_0-rmse:1.05401\n",
      "[91]\tvalidation_0-rmse:1.05403\n",
      "[92]\tvalidation_0-rmse:1.05404\n",
      "[93]\tvalidation_0-rmse:1.05405\n",
      "[94]\tvalidation_0-rmse:1.05407\n",
      "[95]\tvalidation_0-rmse:1.05409\n",
      "[96]\tvalidation_0-rmse:1.05409\n",
      "[97]\tvalidation_0-rmse:1.05412\n",
      "[98]\tvalidation_0-rmse:1.05416\n",
      "[99]\tvalidation_0-rmse:1.05417\n",
      ": model4 rmse = 1.1112849243158436\n",
      ": average all models rmse = 1.1084352033097635\n",
      "fold: 3\n",
      "[LightGBM] [Warning] Found whitespace in feature_names, replace with underlines\n",
      "[LightGBM] [Info] Auto-choosing row-wise multi-threading, the overhead of testing was 0.014716 seconds.\n",
      "You can set `force_row_wise=true` to remove the overhead.\n",
      "And if memory is not enough, you can set `force_col_wise=true`.\n",
      "[LightGBM] [Info] Total Bins 891\n",
      "[LightGBM] [Info] Number of data points in the train set: 799196, number of used features: 19\n",
      "[LightGBM] [Warning] Found whitespace in feature_names, replace with underlines\n",
      "[LightGBM] [Info] Start training from score 6.592818\n",
      "[LightGBM] [Warning] No further splits with positive gain, best gain: -inf\n",
      "[LightGBM] [Warning] No further splits with positive gain, best gain: -inf\n",
      ": model1 rmse = 1.1040036036461045\n",
      "[0]\tvalidation_0-rmse:1.07669\n",
      "[1]\tvalidation_0-rmse:1.06754\n",
      "[2]\tvalidation_0-rmse:1.06090\n",
      "[3]\tvalidation_0-rmse:1.05727\n",
      "[4]\tvalidation_0-rmse:1.05538\n",
      "[5]\tvalidation_0-rmse:1.05445\n",
      "[6]\tvalidation_0-rmse:1.05372\n",
      "[7]\tvalidation_0-rmse:1.05341\n",
      "[8]\tvalidation_0-rmse:1.05303\n",
      "[9]\tvalidation_0-rmse:1.05271\n",
      "[10]\tvalidation_0-rmse:1.05248\n",
      "[11]\tvalidation_0-rmse:1.05235\n",
      "[12]\tvalidation_0-rmse:1.05228\n",
      "[13]\tvalidation_0-rmse:1.05215\n",
      "[14]\tvalidation_0-rmse:1.05211\n",
      "[15]\tvalidation_0-rmse:1.05201\n",
      "[16]\tvalidation_0-rmse:1.05201\n",
      "[17]\tvalidation_0-rmse:1.05196\n",
      "[18]\tvalidation_0-rmse:1.05193\n",
      "[19]\tvalidation_0-rmse:1.05193\n",
      "[20]\tvalidation_0-rmse:1.05186\n",
      "[21]\tvalidation_0-rmse:1.05189\n",
      "[22]\tvalidation_0-rmse:1.05188\n",
      "[23]\tvalidation_0-rmse:1.05190\n",
      "[24]\tvalidation_0-rmse:1.05182\n",
      "[25]\tvalidation_0-rmse:1.05182\n",
      "[26]\tvalidation_0-rmse:1.05185\n",
      "[27]\tvalidation_0-rmse:1.05182\n",
      "[28]\tvalidation_0-rmse:1.05180\n",
      "[29]\tvalidation_0-rmse:1.05179\n",
      "[30]\tvalidation_0-rmse:1.05180\n",
      "[31]\tvalidation_0-rmse:1.05182\n",
      "[32]\tvalidation_0-rmse:1.05184\n",
      "[33]\tvalidation_0-rmse:1.05186\n",
      "[34]\tvalidation_0-rmse:1.05190\n",
      "[35]\tvalidation_0-rmse:1.05194\n",
      "[36]\tvalidation_0-rmse:1.05195\n",
      "[37]\tvalidation_0-rmse:1.05196\n",
      "[38]\tvalidation_0-rmse:1.05200\n",
      "[39]\tvalidation_0-rmse:1.05198\n",
      "[40]\tvalidation_0-rmse:1.05199\n",
      "[41]\tvalidation_0-rmse:1.05199\n",
      "[42]\tvalidation_0-rmse:1.05202\n",
      "[43]\tvalidation_0-rmse:1.05201\n",
      "[44]\tvalidation_0-rmse:1.05201\n",
      "[45]\tvalidation_0-rmse:1.05197\n",
      "[46]\tvalidation_0-rmse:1.05198\n",
      "[47]\tvalidation_0-rmse:1.05198\n",
      "[48]\tvalidation_0-rmse:1.05201\n",
      "[49]\tvalidation_0-rmse:1.05206\n",
      "[50]\tvalidation_0-rmse:1.05209\n",
      "[51]\tvalidation_0-rmse:1.05212\n",
      "[52]\tvalidation_0-rmse:1.05211\n",
      "[53]\tvalidation_0-rmse:1.05212\n",
      "[54]\tvalidation_0-rmse:1.05214\n",
      "[55]\tvalidation_0-rmse:1.05214\n",
      "[56]\tvalidation_0-rmse:1.05217\n",
      "[57]\tvalidation_0-rmse:1.05218\n",
      "[58]\tvalidation_0-rmse:1.05220\n",
      "[59]\tvalidation_0-rmse:1.05222\n",
      "[60]\tvalidation_0-rmse:1.05224\n",
      "[61]\tvalidation_0-rmse:1.05227\n",
      "[62]\tvalidation_0-rmse:1.05227\n",
      "[63]\tvalidation_0-rmse:1.05228\n",
      "[64]\tvalidation_0-rmse:1.05228\n",
      "[65]\tvalidation_0-rmse:1.05229\n",
      "[66]\tvalidation_0-rmse:1.05231\n",
      "[67]\tvalidation_0-rmse:1.05232\n",
      "[68]\tvalidation_0-rmse:1.05235\n",
      "[69]\tvalidation_0-rmse:1.05235\n",
      "[70]\tvalidation_0-rmse:1.05236\n",
      "[71]\tvalidation_0-rmse:1.05238\n",
      "[72]\tvalidation_0-rmse:1.05241\n",
      "[73]\tvalidation_0-rmse:1.05241\n",
      "[74]\tvalidation_0-rmse:1.05242\n",
      "[75]\tvalidation_0-rmse:1.05244\n",
      "[76]\tvalidation_0-rmse:1.05247\n",
      "[77]\tvalidation_0-rmse:1.05250\n",
      "[78]\tvalidation_0-rmse:1.05251\n",
      "[79]\tvalidation_0-rmse:1.05253\n",
      "[80]\tvalidation_0-rmse:1.05257\n",
      "[81]\tvalidation_0-rmse:1.05258\n",
      "[82]\tvalidation_0-rmse:1.05262\n",
      "[83]\tvalidation_0-rmse:1.05264\n",
      "[84]\tvalidation_0-rmse:1.05265\n",
      "[85]\tvalidation_0-rmse:1.05267\n",
      "[86]\tvalidation_0-rmse:1.05269\n",
      "[87]\tvalidation_0-rmse:1.05268\n",
      "[88]\tvalidation_0-rmse:1.05269\n",
      "[89]\tvalidation_0-rmse:1.05269\n",
      "[90]\tvalidation_0-rmse:1.05269\n",
      "[91]\tvalidation_0-rmse:1.05272\n",
      "[92]\tvalidation_0-rmse:1.05274\n",
      "[93]\tvalidation_0-rmse:1.05276\n",
      "[94]\tvalidation_0-rmse:1.05277\n",
      "[95]\tvalidation_0-rmse:1.05279\n",
      "[96]\tvalidation_0-rmse:1.05280\n",
      "[97]\tvalidation_0-rmse:1.05280\n",
      "[98]\tvalidation_0-rmse:1.05280\n",
      "[99]\tvalidation_0-rmse:1.05282\n",
      ": model4 rmse = 1.1084330480584583\n",
      ": average all models rmse = 1.1062183258522813\n",
      "CPU times: user 3min 17s, sys: 2.83 s, total: 3min 20s\n",
      "Wall time: 51 s\n"
     ]
    }
   ],
   "source": [
    "%%time\n",
    "pred1 = np.zeros(X_train.shape[0])\n",
    "pred2 = np.zeros(X_train.shape[0])\n",
    "pred3 = np.zeros(X_train.shape[0])\n",
    "pred4 = np.zeros(X_train.shape[0])\n",
    "\n",
    "test1 = np.zeros(X_test.shape[0])\n",
    "test2 = np.zeros(X_test.shape[0])\n",
    "test3 = np.zeros(X_test.shape[0])\n",
    "test4 = np.zeros(X_test.shape[0])\n",
    "\n",
    "kf = KFold(n_splits=3,random_state=48,shuffle=True)\n",
    "n=0\n",
    "\n",
    "for trn_idx, test_idx in kf.split(X_train,y_train):\n",
    "    print(f\"fold: {n+1}\")\n",
    "    X_tr,X_val=X_train.iloc[trn_idx],X_train.iloc[test_idx]\n",
    "    y_tr,y_val=y_train.iloc[trn_idx],y_train.iloc[test_idx]\n",
    "    \n",
    "    \n",
    "    model1 = lgb.LGBMRegressor(random_state=42,\n",
    "                     n_estimators=150,\n",
    "                     max_depth=7,\n",
    "                     num_leaves=70,\n",
    "                     objective='regression',\n",
    "                     learning_rate=0.05,\n",
    "                     boosting_type='gbdt')\n",
    "    model1.fit(X_tr,y_tr,eval_set=[(X_val,y_val)])\n",
    "    pred1[test_idx] = model1.predict(X_val)\n",
    "    test1 += model1.predict(X_test)/kf.n_splits\n",
    "    rmse1 = mean_squared_error(y_val, model1.predict(X_val))\n",
    "    print(\": model1 rmse = {}\".format(rmse1))\n",
    "\n",
    "#     model2 = ElasticNet(alpha=0.00001)\n",
    "#     model2.fit(X_tr,y_tr)\n",
    "#     pred2[test_idx] = model2.predict(X_val)\n",
    "#     test2 += model2.predict(X_test)/kf.n_splits\n",
    "#     rmse2 = mean_squared_error(y_val, model2.predict(X_val))\n",
    "#     print(\": model2 rmse = {}\".format(rmse2))\n",
    "    \n",
    "#     model3 = LinearRegression()\n",
    "#     model3.fit(X_tr,y_tr)\n",
    "#     pred3[test_idx] = model3.predict(X_val)\n",
    "#     test3 += model3.predict(X_test)/kf.n_splits\n",
    "#     rmse3 = mean_squared_error(y_val, model3.predict(X_val))\n",
    "#     print(\": model3 rmse = {}\".format(rmse3))\n",
    "    \n",
    "    model4 = xgb.XGBRegressor(**params_xgb)\n",
    "    model4.fit(X_tr,y_tr,eval_set=[(X_val,y_val)])\n",
    "    pred4[test_idx] = model4.predict(X_val)\n",
    "    test4 += model4.predict(X_test)/kf.n_splits\n",
    "    rmse4 = mean_squared_error(y_val, model4.predict(X_val))\n",
    "    print(\": model4 rmse = {}\".format(rmse4))\n",
    "    print(\": average all models rmse = {}\".format((rmse1+rmse4)/2))\n",
    "\n",
    "    n+=1\n"
   ]
  },
  {
   "cell_type": "code",
   "execution_count": 40,
   "id": "321f96a8-d9eb-48f9-bb74-765002d2c98f",
   "metadata": {},
   "outputs": [
    {
     "name": "stdout",
     "output_type": "stream",
     "text": [
      "[LightGBM] [Warning] Found whitespace in feature_names, replace with underlines\n",
      "[LightGBM] [Info] Auto-choosing row-wise multi-threading, the overhead of testing was 0.025565 seconds.\n",
      "You can set `force_row_wise=true` to remove the overhead.\n",
      "And if memory is not enough, you can set `force_col_wise=true`.\n",
      "[LightGBM] [Info] Total Bins 890\n",
      "[LightGBM] [Info] Number of data points in the train set: 1198793, number of used features: 19\n",
      "[LightGBM] [Info] Start training from score 6.593945\n"
     ]
    },
    {
     "data": {
      "text/plain": [
       "LGBMRegressor(learning_rate=0.05, max_depth=7, n_estimators=150, num_leaves=70,\n",
       "              objective='regression', random_state=42)"
      ]
     },
     "execution_count": 40,
     "metadata": {},
     "output_type": "execute_result"
    }
   ],
   "source": [
    "model = lgb.LGBMRegressor(random_state=42,\n",
    "                     n_estimators=150,\n",
    "                     max_depth=7,\n",
    "                     num_leaves=70,\n",
    "                     objective='regression',\n",
    "                     learning_rate=0.05,\n",
    "                     boosting_type='gbdt')\n",
    "model.fit(X_train,y_train)"
   ]
  },
  {
   "cell_type": "markdown",
   "id": "30c5d820-292f-424d-80c8-88178912f1cc",
   "metadata": {},
   "source": [
    "Best params:  {'learning_rate': 0.05, 'max_depth': 7, 'n_estimators': 100, 'reg_alpha': 0.01, 'reg_lambda': 1}\n",
    "Best RMSLE:  1.0529700400499271"
   ]
  },
  {
   "cell_type": "code",
   "execution_count": 41,
   "id": "e2837053-ff8b-4ea6-9ebb-79f0c21e94c1",
   "metadata": {},
   "outputs": [],
   "source": [
    "target_column = 'Premium Amount'"
   ]
  },
  {
   "cell_type": "code",
   "execution_count": 43,
   "id": "75013d92-6c75-47fb-9d53-50dd7af99f75",
   "metadata": {},
   "outputs": [
    {
     "data": {
      "image/png": "[encoded data removed]",
      "text/plain": [
       "<Figure size 504x360 with 2 Axes>"
      ]
     },
     "metadata": {
      "needs_background": "light"
     },
     "output_type": "display_data"
    }
   ],
   "source": [
    "# Scatter Plot of True and Predicted Values (Training Target)\n",
    "y_true = np.expm1(y_train)\n",
    "y_pred = np.expm1(model.predict(X_train))\n",
    "\n",
    "# Plot preparation\n",
    "plt.figure(figsize=(7, 5))\n",
    "plt.scatter(y_true, y_pred, c=y_pred, cmap='viridis', edgecolors='blue', s=20, alpha=0.7, linewidth=0.5)\n",
    "cb = plt.colorbar()\n",
    "cb.set_label('Prediction values')\n",
    "\n",
    "# Plot the diagonal line\n",
    "plt.plot([min(y_true), max(y_true)], [min(y_true), max(y_true)], color='red', linestyle='--', linewidth=1.0)\n",
    "plt.axis('equal')\n",
    "\n",
    "# # Add RMSLE text to the plot\n",
    "# rmsle_text = f'RMSLE : {round(-search.best_score_, 4)}'\n",
    "# plt.text(0.10, 0.90, rmsle_text, transform=plt.gca().transAxes, fontsize=11, color='brown')\n",
    "\n",
    "# Labels and title\n",
    "plt.xlabel(f'True values ({target_column})', fontsize=11)\n",
    "plt.ylabel(f'Predicted values ({target_column})', fontsize=11)\n",
    "plt.title('Scatter Plot of True and Predicted Values (train)', fontsize=12)\n",
    "plt.grid(True)\n",
    "plt.show()"
   ]
  },
  {
   "cell_type": "code",
   "execution_count": null,
   "id": "6440dce2-04eb-49c1-86b9-654e557e4724",
   "metadata": {},
   "outputs": [],
   "source": []
  },
  {
   "cell_type": "code",
   "execution_count": null,
   "id": "364aaed6-779f-4d3a-b82c-ae4490154ae6",
   "metadata": {},
   "outputs": [],
   "source": []
  },
  {
   "cell_type": "code",
   "execution_count": null,
   "id": "3c34bc2a-08be-41a6-b797-1278e48b6e60",
   "metadata": {},
   "outputs": [],
   "source": []
  },
  {
   "cell_type": "code",
   "execution_count": null,
   "id": "192e1bf6-4e4d-4efe-8513-b55676c12269",
   "metadata": {},
   "outputs": [],
   "source": []
  },
  {
   "cell_type": "code",
   "execution_count": 15,
   "id": "ea7978a1-6a21-415d-8453-5e0d405434df",
   "metadata": {},
   "outputs": [],
   "source": [
    "X_train,y_train = train[['Gender', 'Marital Status', 'Number of Dependents', 'Education Level',\n",
    "       'Occupation', 'Location', 'Policy Type', 'Previous Claims',\n",
    "       'Vehicle Age', 'Insurance Duration', 'Customer Feedback',\n",
    "       'Smoking Status', 'Exercise Frequency', 'Property Type', 'Policy Age',\n",
    "       'Age', 'Annual Income', 'Health Score', 'Credit Score']],train['Premium Amount']"
   ]
  },
  {
   "cell_type": "code",
   "execution_count": 16,
   "id": "8f5a713c-5712-423b-9571-bdbefdcba8e3",
   "metadata": {},
   "outputs": [],
   "source": [
    "X_test = pd.read_csv('test.csv')"
   ]
  },
  {
   "cell_type": "code",
   "execution_count": 17,
   "id": "31aea222-96dd-4340-8472-8fb6a10e97e4",
   "metadata": {},
   "outputs": [
    {
     "data": {
      "text/html": [
       "<div>\n",
       "<style scoped>\n",
       "    .dataframe tbody tr th:only-of-type {\n",
       "        vertical-align: middle;\n",
       "    }\n",
       "\n",
       "    .dataframe tbody tr th {\n",
       "        vertical-align: top;\n",
       "    }\n",
       "\n",
       "    .dataframe thead th {\n",
       "        text-align: right;\n",
       "    }\n",
       "</style>\n",
       "<table border=\"1\" class=\"dataframe\">\n",
       "  <thead>\n",
       "    <tr style=\"text-align: right;\">\n",
       "      <th></th>\n",
       "      <th>id</th>\n",
       "      <th>Age</th>\n",
       "      <th>Gender</th>\n",
       "      <th>Annual Income</th>\n",
       "      <th>Marital Status</th>\n",
       "      <th>Number of Dependents</th>\n",
       "      <th>Education Level</th>\n",
       "      <th>Occupation</th>\n",
       "      <th>Health Score</th>\n",
       "      <th>Location</th>\n",
       "      <th>Policy Type</th>\n",
       "      <th>Previous Claims</th>\n",
       "      <th>Vehicle Age</th>\n",
       "      <th>Credit Score</th>\n",
       "      <th>Insurance Duration</th>\n",
       "      <th>Policy Start Date</th>\n",
       "      <th>Customer Feedback</th>\n",
       "      <th>Smoking Status</th>\n",
       "      <th>Exercise Frequency</th>\n",
       "      <th>Property Type</th>\n",
       "    </tr>\n",
       "  </thead>\n",
       "  <tbody>\n",
       "    <tr>\n",
       "      <th>0</th>\n",
       "      <td>1200000</td>\n",
       "      <td>28.0</td>\n",
       "      <td>Female</td>\n",
       "      <td>2310.0</td>\n",
       "      <td>NaN</td>\n",
       "      <td>4.0</td>\n",
       "      <td>Bachelor's</td>\n",
       "      <td>Self-Employed</td>\n",
       "      <td>7.657981</td>\n",
       "      <td>Rural</td>\n",
       "      <td>Basic</td>\n",
       "      <td>NaN</td>\n",
       "      <td>19.0</td>\n",
       "      <td>NaN</td>\n",
       "      <td>1.0</td>\n",
       "      <td>2023-06-04 15:21:39.245086</td>\n",
       "      <td>Poor</td>\n",
       "      <td>Yes</td>\n",
       "      <td>Weekly</td>\n",
       "      <td>House</td>\n",
       "    </tr>\n",
       "    <tr>\n",
       "      <th>1</th>\n",
       "      <td>1200001</td>\n",
       "      <td>31.0</td>\n",
       "      <td>Female</td>\n",
       "      <td>126031.0</td>\n",
       "      <td>Married</td>\n",
       "      <td>2.0</td>\n",
       "      <td>Master's</td>\n",
       "      <td>Self-Employed</td>\n",
       "      <td>13.381379</td>\n",
       "      <td>Suburban</td>\n",
       "      <td>Premium</td>\n",
       "      <td>NaN</td>\n",
       "      <td>14.0</td>\n",
       "      <td>372.0</td>\n",
       "      <td>8.0</td>\n",
       "      <td>2024-04-22 15:21:39.224915</td>\n",
       "      <td>Good</td>\n",
       "      <td>Yes</td>\n",
       "      <td>Rarely</td>\n",
       "      <td>Apartment</td>\n",
       "    </tr>\n",
       "    <tr>\n",
       "      <th>2</th>\n",
       "      <td>1200002</td>\n",
       "      <td>47.0</td>\n",
       "      <td>Female</td>\n",
       "      <td>17092.0</td>\n",
       "      <td>Divorced</td>\n",
       "      <td>0.0</td>\n",
       "      <td>PhD</td>\n",
       "      <td>Unemployed</td>\n",
       "      <td>24.354527</td>\n",
       "      <td>Urban</td>\n",
       "      <td>Comprehensive</td>\n",
       "      <td>NaN</td>\n",
       "      <td>16.0</td>\n",
       "      <td>819.0</td>\n",
       "      <td>9.0</td>\n",
       "      <td>2023-04-05 15:21:39.134960</td>\n",
       "      <td>Average</td>\n",
       "      <td>Yes</td>\n",
       "      <td>Monthly</td>\n",
       "      <td>Condo</td>\n",
       "    </tr>\n",
       "    <tr>\n",
       "      <th>3</th>\n",
       "      <td>1200003</td>\n",
       "      <td>28.0</td>\n",
       "      <td>Female</td>\n",
       "      <td>30424.0</td>\n",
       "      <td>Divorced</td>\n",
       "      <td>3.0</td>\n",
       "      <td>PhD</td>\n",
       "      <td>Self-Employed</td>\n",
       "      <td>5.136225</td>\n",
       "      <td>Suburban</td>\n",
       "      <td>Comprehensive</td>\n",
       "      <td>1.0</td>\n",
       "      <td>3.0</td>\n",
       "      <td>770.0</td>\n",
       "      <td>5.0</td>\n",
       "      <td>2023-10-25 15:21:39.134960</td>\n",
       "      <td>Poor</td>\n",
       "      <td>Yes</td>\n",
       "      <td>Daily</td>\n",
       "      <td>House</td>\n",
       "    </tr>\n",
       "    <tr>\n",
       "      <th>4</th>\n",
       "      <td>1200004</td>\n",
       "      <td>24.0</td>\n",
       "      <td>Male</td>\n",
       "      <td>10863.0</td>\n",
       "      <td>Divorced</td>\n",
       "      <td>2.0</td>\n",
       "      <td>High School</td>\n",
       "      <td>Unemployed</td>\n",
       "      <td>11.844155</td>\n",
       "      <td>Suburban</td>\n",
       "      <td>Premium</td>\n",
       "      <td>NaN</td>\n",
       "      <td>14.0</td>\n",
       "      <td>755.0</td>\n",
       "      <td>7.0</td>\n",
       "      <td>2021-11-26 15:21:39.259788</td>\n",
       "      <td>Average</td>\n",
       "      <td>No</td>\n",
       "      <td>Weekly</td>\n",
       "      <td>House</td>\n",
       "    </tr>\n",
       "  </tbody>\n",
       "</table>\n",
       "</div>"
      ],
      "text/plain": [
       "        id   Age  Gender  Annual Income Marital Status  Number of Dependents  \\\n",
       "0  1200000  28.0  Female         2310.0            NaN                   4.0   \n",
       "1  1200001  31.0  Female       126031.0        Married                   2.0   \n",
       "2  1200002  47.0  Female        17092.0       Divorced                   0.0   \n",
       "3  1200003  28.0  Female        30424.0       Divorced                   3.0   \n",
       "4  1200004  24.0    Male        10863.0       Divorced                   2.0   \n",
       "\n",
       "  Education Level     Occupation  Health Score  Location    Policy Type  \\\n",
       "0      Bachelor's  Self-Employed      7.657981     Rural          Basic   \n",
       "1        Master's  Self-Employed     13.381379  Suburban        Premium   \n",
       "2             PhD     Unemployed     24.354527     Urban  Comprehensive   \n",
       "3             PhD  Self-Employed      5.136225  Suburban  Comprehensive   \n",
       "4     High School     Unemployed     11.844155  Suburban        Premium   \n",
       "\n",
       "   Previous Claims  Vehicle Age  Credit Score  Insurance Duration  \\\n",
       "0              NaN         19.0           NaN                 1.0   \n",
       "1              NaN         14.0         372.0                 8.0   \n",
       "2              NaN         16.0         819.0                 9.0   \n",
       "3              1.0          3.0         770.0                 5.0   \n",
       "4              NaN         14.0         755.0                 7.0   \n",
       "\n",
       "            Policy Start Date Customer Feedback Smoking Status  \\\n",
       "0  2023-06-04 15:21:39.245086              Poor            Yes   \n",
       "1  2024-04-22 15:21:39.224915              Good            Yes   \n",
       "2  2023-04-05 15:21:39.134960           Average            Yes   \n",
       "3  2023-10-25 15:21:39.134960              Poor            Yes   \n",
       "4  2021-11-26 15:21:39.259788           Average             No   \n",
       "\n",
       "  Exercise Frequency Property Type  \n",
       "0             Weekly         House  \n",
       "1             Rarely     Apartment  \n",
       "2            Monthly         Condo  \n",
       "3              Daily         House  \n",
       "4             Weekly         House  "
      ]
     },
     "execution_count": 17,
     "metadata": {},
     "output_type": "execute_result"
    }
   ],
   "source": [
    "X_test.head()"
   ]
  },
  {
   "cell_type": "code",
   "execution_count": 18,
   "id": "a5bea69d-8817-424f-ae32-929b70723d17",
   "metadata": {},
   "outputs": [
    {
     "data": {
      "text/plain": [
       "17.0"
      ]
     },
     "execution_count": 18,
     "metadata": {},
     "output_type": "execute_result"
    }
   ],
   "source": [
    "X_train['Vehicle Age'].mode()[0]"
   ]
  },
  {
   "cell_type": "code",
   "execution_count": 19,
   "id": "03e297c8-a02d-45b8-9a0f-b39d02130eb2",
   "metadata": {},
   "outputs": [
    {
     "data": {
      "text/plain": [
       "(800000, 20)"
      ]
     },
     "execution_count": 19,
     "metadata": {},
     "output_type": "execute_result"
    }
   ],
   "source": [
    "X_test.shape"
   ]
  },
  {
   "cell_type": "code",
   "execution_count": 20,
   "id": "3344fccc-3de9-450d-b805-2fcec13409e8",
   "metadata": {},
   "outputs": [],
   "source": [
    "X_test['Policy Age'] = X_test['Policy Start Date'].apply(age)"
   ]
  },
  {
   "cell_type": "code",
   "execution_count": 21,
   "id": "22600993-09dc-4b36-86db-242b5ba75f0c",
   "metadata": {},
   "outputs": [],
   "source": [
    "X_test['Age'].fillna(train['Age'].mean(),inplace=True)\n",
    "X_test['Annual Income'].fillna(train['Annual Income'].mean(),inplace=True)\n",
    "X_test['Marital Status'].fillna('Single',inplace=True)\n",
    "X_test['Number of Dependents'].fillna(0.0,inplace=True)\n",
    "X_test['Occupation'].fillna('Unknown',inplace=True)\n",
    "X_test['Health Score'].fillna(train['Health Score'].mean(),inplace=True)\n",
    "X_test['Previous Claims'].fillna(0.0,inplace=True)\n",
    "X_test['Credit Score'].fillna(train['Credit Score'].mean(),inplace=True)\n",
    "X_test['Customer Feedback'].fillna('Average',inplace=True)\n",
    "X_test['Vehicle Age'].fillna(train['Vehicle Age'].mode()[0],inplace=True)\n",
    "X_test['Insurance Duration'].fillna(train['Insurance Duration'].mode()[0],inplace=True)"
   ]
  },
  {
   "cell_type": "code",
   "execution_count": 22,
   "id": "2c0b98f9-1eb4-4539-b976-c260316549ba",
   "metadata": {},
   "outputs": [
    {
     "data": {
      "text/plain": [
       "id                      0\n",
       "Age                     0\n",
       "Gender                  0\n",
       "Annual Income           0\n",
       "Marital Status          0\n",
       "Number of Dependents    0\n",
       "Education Level         0\n",
       "Occupation              0\n",
       "Health Score            0\n",
       "Location                0\n",
       "Policy Type             0\n",
       "Previous Claims         0\n",
       "Vehicle Age             0\n",
       "Credit Score            0\n",
       "Insurance Duration      0\n",
       "Policy Start Date       0\n",
       "Customer Feedback       0\n",
       "Smoking Status          0\n",
       "Exercise Frequency      0\n",
       "Property Type           0\n",
       "Policy Age              0\n",
       "dtype: int64"
      ]
     },
     "execution_count": 22,
     "metadata": {},
     "output_type": "execute_result"
    }
   ],
   "source": [
    "X_test.isna().sum()"
   ]
  },
  {
   "cell_type": "code",
   "execution_count": 23,
   "id": "8d0f8f36-be33-4a01-9c13-7da956986c3a",
   "metadata": {},
   "outputs": [],
   "source": [
    "submissionDF = X_test['id']"
   ]
  },
  {
   "cell_type": "code",
   "execution_count": 24,
   "id": "9b34a64f-9899-44f4-9f67-0f4a3628b471",
   "metadata": {},
   "outputs": [],
   "source": [
    "X_test = X_test[['Gender', 'Marital Status', 'Number of Dependents', 'Education Level',\n",
    "       'Occupation', 'Location', 'Policy Type', 'Previous Claims',\n",
    "       'Vehicle Age', 'Insurance Duration', 'Customer Feedback',\n",
    "       'Smoking Status', 'Exercise Frequency', 'Property Type', 'Policy Age',\n",
    "       'Age', 'Annual Income', 'Health Score', 'Credit Score']]"
   ]
  },
  {
   "cell_type": "code",
   "execution_count": 25,
   "id": "6a1dfa32-a9bd-49f3-968d-aa177510e165",
   "metadata": {},
   "outputs": [
    {
     "data": {
      "text/plain": [
       "(800000,)"
      ]
     },
     "execution_count": 25,
     "metadata": {},
     "output_type": "execute_result"
    }
   ],
   "source": [
    "submissionDF.shape"
   ]
  },
  {
   "cell_type": "code",
   "execution_count": 38,
   "id": "08c085dd-7607-4a67-a231-06266f5496e1",
   "metadata": {},
   "outputs": [
    {
     "data": {
      "text/plain": [
       "pandas.core.series.Series"
      ]
     },
     "execution_count": 38,
     "metadata": {},
     "output_type": "execute_result"
    }
   ],
   "source": [
    "type(submissionDF)"
   ]
  },
  {
   "cell_type": "code",
   "execution_count": 27,
   "id": "c3aa721f-a7b0-4fe2-a838-c2eee620a43f",
   "metadata": {},
   "outputs": [
    {
     "name": "stdout",
     "output_type": "stream",
     "text": [
      "<class 'pandas.core.frame.DataFrame'>\n",
      "RangeIndex: 800000 entries, 0 to 799999\n",
      "Data columns (total 19 columns):\n",
      " #   Column                Non-Null Count   Dtype  \n",
      "---  ------                --------------   -----  \n",
      " 0   Gender                800000 non-null  object \n",
      " 1   Marital Status        800000 non-null  object \n",
      " 2   Number of Dependents  800000 non-null  float64\n",
      " 3   Education Level       800000 non-null  object \n",
      " 4   Occupation            800000 non-null  object \n",
      " 5   Location              800000 non-null  object \n",
      " 6   Policy Type           800000 non-null  object \n",
      " 7   Previous Claims       800000 non-null  float64\n",
      " 8   Vehicle Age           800000 non-null  float64\n",
      " 9   Insurance Duration    800000 non-null  float64\n",
      " 10  Customer Feedback     800000 non-null  object \n",
      " 11  Smoking Status        800000 non-null  object \n",
      " 12  Exercise Frequency    800000 non-null  object \n",
      " 13  Property Type         800000 non-null  object \n",
      " 14  Policy Age            800000 non-null  int64  \n",
      " 15  Age                   800000 non-null  float64\n",
      " 16  Annual Income         800000 non-null  float64\n",
      " 17  Health Score          800000 non-null  float64\n",
      " 18  Credit Score          800000 non-null  float64\n",
      "dtypes: float64(8), int64(1), object(10)\n",
      "memory usage: 116.0+ MB\n"
     ]
    }
   ],
   "source": [
    "X_test.info()"
   ]
  },
  {
   "cell_type": "code",
   "execution_count": 28,
   "id": "e4d69eb2-f7a6-4616-a496-ed2fbf075578",
   "metadata": {},
   "outputs": [],
   "source": [
    "from sklearn.preprocessing import LabelEncoder\n",
    "\n",
    "object_columns = X_train.select_dtypes(include=['object']).columns\n",
    "for col in object_columns:\n",
    "    le = LabelEncoder()\n",
    "    X_train[col] = le.fit_transform(X_train[col])\n",
    "    X_test[col] = le.transform(X_test[col])"
   ]
  },
  {
   "cell_type": "code",
   "execution_count": 29,
   "id": "fb1e0826-61fa-4a9f-a1e1-e5ce39e913f4",
   "metadata": {},
   "outputs": [],
   "source": [
    "for col in X_train.columns:\n",
    "    X_train[col] = np.log1p(X_train[col])\n",
    "    X_test[col] = np.log1p(X_test[col])\n",
    "y_train = np.log1p(y_train)"
   ]
  },
  {
   "cell_type": "code",
   "execution_count": 30,
   "id": "f7bda36c-9bea-402c-b105-a6e606c18dbd",
   "metadata": {},
   "outputs": [
    {
     "data": {
      "text/html": [
       "<div>\n",
       "<style scoped>\n",
       "    .dataframe tbody tr th:only-of-type {\n",
       "        vertical-align: middle;\n",
       "    }\n",
       "\n",
       "    .dataframe tbody tr th {\n",
       "        vertical-align: top;\n",
       "    }\n",
       "\n",
       "    .dataframe thead th {\n",
       "        text-align: right;\n",
       "    }\n",
       "</style>\n",
       "<table border=\"1\" class=\"dataframe\">\n",
       "  <thead>\n",
       "    <tr style=\"text-align: right;\">\n",
       "      <th></th>\n",
       "      <th>Gender</th>\n",
       "      <th>Marital Status</th>\n",
       "      <th>Number of Dependents</th>\n",
       "      <th>Education Level</th>\n",
       "      <th>Occupation</th>\n",
       "      <th>Location</th>\n",
       "      <th>Policy Type</th>\n",
       "      <th>Previous Claims</th>\n",
       "      <th>Vehicle Age</th>\n",
       "      <th>Insurance Duration</th>\n",
       "      <th>Customer Feedback</th>\n",
       "      <th>Smoking Status</th>\n",
       "      <th>Exercise Frequency</th>\n",
       "      <th>Property Type</th>\n",
       "      <th>Policy Age</th>\n",
       "      <th>Age</th>\n",
       "      <th>Annual Income</th>\n",
       "      <th>Health Score</th>\n",
       "      <th>Credit Score</th>\n",
       "    </tr>\n",
       "  </thead>\n",
       "  <tbody>\n",
       "    <tr>\n",
       "      <th>0</th>\n",
       "      <td>0.000000</td>\n",
       "      <td>0.693147</td>\n",
       "      <td>0.693147</td>\n",
       "      <td>0.000000</td>\n",
       "      <td>0.693147</td>\n",
       "      <td>1.098612</td>\n",
       "      <td>1.098612</td>\n",
       "      <td>1.098612</td>\n",
       "      <td>2.890372</td>\n",
       "      <td>1.791759</td>\n",
       "      <td>1.098612</td>\n",
       "      <td>0.000000</td>\n",
       "      <td>1.386294</td>\n",
       "      <td>1.098612</td>\n",
       "      <td>0.000000</td>\n",
       "      <td>2.995732</td>\n",
       "      <td>9.215328</td>\n",
       "      <td>3.161194</td>\n",
       "      <td>5.921578</td>\n",
       "    </tr>\n",
       "    <tr>\n",
       "      <th>1</th>\n",
       "      <td>0.000000</td>\n",
       "      <td>0.000000</td>\n",
       "      <td>1.386294</td>\n",
       "      <td>1.098612</td>\n",
       "      <td>1.386294</td>\n",
       "      <td>0.000000</td>\n",
       "      <td>0.693147</td>\n",
       "      <td>0.693147</td>\n",
       "      <td>2.564949</td>\n",
       "      <td>1.098612</td>\n",
       "      <td>0.000000</td>\n",
       "      <td>0.693147</td>\n",
       "      <td>0.693147</td>\n",
       "      <td>1.098612</td>\n",
       "      <td>0.693147</td>\n",
       "      <td>3.688879</td>\n",
       "      <td>10.363409</td>\n",
       "      <td>2.807578</td>\n",
       "      <td>6.543912</td>\n",
       "    </tr>\n",
       "    <tr>\n",
       "      <th>2</th>\n",
       "      <td>0.693147</td>\n",
       "      <td>0.000000</td>\n",
       "      <td>1.386294</td>\n",
       "      <td>0.693147</td>\n",
       "      <td>0.693147</td>\n",
       "      <td>0.693147</td>\n",
       "      <td>1.098612</td>\n",
       "      <td>0.693147</td>\n",
       "      <td>2.708050</td>\n",
       "      <td>1.386294</td>\n",
       "      <td>0.693147</td>\n",
       "      <td>0.693147</td>\n",
       "      <td>1.386294</td>\n",
       "      <td>1.098612</td>\n",
       "      <td>0.693147</td>\n",
       "      <td>3.178054</td>\n",
       "      <td>10.150465</td>\n",
       "      <td>3.874893</td>\n",
       "      <td>6.386752</td>\n",
       "    </tr>\n",
       "    <tr>\n",
       "      <th>3</th>\n",
       "      <td>0.693147</td>\n",
       "      <td>0.693147</td>\n",
       "      <td>1.098612</td>\n",
       "      <td>0.000000</td>\n",
       "      <td>1.386294</td>\n",
       "      <td>0.000000</td>\n",
       "      <td>0.000000</td>\n",
       "      <td>0.693147</td>\n",
       "      <td>0.000000</td>\n",
       "      <td>0.693147</td>\n",
       "      <td>1.098612</td>\n",
       "      <td>0.693147</td>\n",
       "      <td>0.000000</td>\n",
       "      <td>0.000000</td>\n",
       "      <td>0.000000</td>\n",
       "      <td>3.091042</td>\n",
       "      <td>11.862568</td>\n",
       "      <td>2.479739</td>\n",
       "      <td>5.908083</td>\n",
       "    </tr>\n",
       "    <tr>\n",
       "      <th>4</th>\n",
       "      <td>0.693147</td>\n",
       "      <td>1.098612</td>\n",
       "      <td>0.693147</td>\n",
       "      <td>0.000000</td>\n",
       "      <td>0.693147</td>\n",
       "      <td>0.000000</td>\n",
       "      <td>1.098612</td>\n",
       "      <td>0.000000</td>\n",
       "      <td>2.197225</td>\n",
       "      <td>1.609438</td>\n",
       "      <td>1.098612</td>\n",
       "      <td>0.693147</td>\n",
       "      <td>1.386294</td>\n",
       "      <td>1.098612</td>\n",
       "      <td>1.386294</td>\n",
       "      <td>3.091042</td>\n",
       "      <td>10.587897</td>\n",
       "      <td>3.062273</td>\n",
       "      <td>6.395262</td>\n",
       "    </tr>\n",
       "  </tbody>\n",
       "</table>\n",
       "</div>"
      ],
      "text/plain": [
       "     Gender  Marital Status  Number of Dependents  Education Level  \\\n",
       "0  0.000000        0.693147              0.693147         0.000000   \n",
       "1  0.000000        0.000000              1.386294         1.098612   \n",
       "2  0.693147        0.000000              1.386294         0.693147   \n",
       "3  0.693147        0.693147              1.098612         0.000000   \n",
       "4  0.693147        1.098612              0.693147         0.000000   \n",
       "\n",
       "   Occupation  Location  Policy Type  Previous Claims  Vehicle Age  \\\n",
       "0    0.693147  1.098612     1.098612         1.098612     2.890372   \n",
       "1    1.386294  0.000000     0.693147         0.693147     2.564949   \n",
       "2    0.693147  0.693147     1.098612         0.693147     2.708050   \n",
       "3    1.386294  0.000000     0.000000         0.693147     0.000000   \n",
       "4    0.693147  0.000000     1.098612         0.000000     2.197225   \n",
       "\n",
       "   Insurance Duration  Customer Feedback  Smoking Status  Exercise Frequency  \\\n",
       "0            1.791759           1.098612        0.000000            1.386294   \n",
       "1            1.098612           0.000000        0.693147            0.693147   \n",
       "2            1.386294           0.693147        0.693147            1.386294   \n",
       "3            0.693147           1.098612        0.693147            0.000000   \n",
       "4            1.609438           1.098612        0.693147            1.386294   \n",
       "\n",
       "   Property Type  Policy Age       Age  Annual Income  Health Score  \\\n",
       "0       1.098612    0.000000  2.995732       9.215328      3.161194   \n",
       "1       1.098612    0.693147  3.688879      10.363409      2.807578   \n",
       "2       1.098612    0.693147  3.178054      10.150465      3.874893   \n",
       "3       0.000000    0.000000  3.091042      11.862568      2.479739   \n",
       "4       1.098612    1.386294  3.091042      10.587897      3.062273   \n",
       "\n",
       "   Credit Score  \n",
       "0      5.921578  \n",
       "1      6.543912  \n",
       "2      6.386752  \n",
       "3      5.908083  \n",
       "4      6.395262  "
      ]
     },
     "execution_count": 30,
     "metadata": {},
     "output_type": "execute_result"
    }
   ],
   "source": [
    "X_train.head()"
   ]
  },
  {
   "cell_type": "code",
   "execution_count": 31,
   "id": "2785f7f6-a418-4bcd-8f7f-49009f6d8cf8",
   "metadata": {},
   "outputs": [
    {
     "data": {
      "text/html": [
       "<div>\n",
       "<style scoped>\n",
       "    .dataframe tbody tr th:only-of-type {\n",
       "        vertical-align: middle;\n",
       "    }\n",
       "\n",
       "    .dataframe tbody tr th {\n",
       "        vertical-align: top;\n",
       "    }\n",
       "\n",
       "    .dataframe thead th {\n",
       "        text-align: right;\n",
       "    }\n",
       "</style>\n",
       "<table border=\"1\" class=\"dataframe\">\n",
       "  <thead>\n",
       "    <tr style=\"text-align: right;\">\n",
       "      <th></th>\n",
       "      <th>Gender</th>\n",
       "      <th>Marital Status</th>\n",
       "      <th>Number of Dependents</th>\n",
       "      <th>Education Level</th>\n",
       "      <th>Occupation</th>\n",
       "      <th>Location</th>\n",
       "      <th>Policy Type</th>\n",
       "      <th>Previous Claims</th>\n",
       "      <th>Vehicle Age</th>\n",
       "      <th>Insurance Duration</th>\n",
       "      <th>Customer Feedback</th>\n",
       "      <th>Smoking Status</th>\n",
       "      <th>Exercise Frequency</th>\n",
       "      <th>Property Type</th>\n",
       "      <th>Policy Age</th>\n",
       "      <th>Age</th>\n",
       "      <th>Annual Income</th>\n",
       "      <th>Health Score</th>\n",
       "      <th>Credit Score</th>\n",
       "    </tr>\n",
       "  </thead>\n",
       "  <tbody>\n",
       "    <tr>\n",
       "      <th>0</th>\n",
       "      <td>0.000000</td>\n",
       "      <td>1.098612</td>\n",
       "      <td>1.609438</td>\n",
       "      <td>0.000000</td>\n",
       "      <td>0.693147</td>\n",
       "      <td>0.000000</td>\n",
       "      <td>0.000000</td>\n",
       "      <td>0.000000</td>\n",
       "      <td>2.995732</td>\n",
       "      <td>0.693147</td>\n",
       "      <td>1.098612</td>\n",
       "      <td>0.693147</td>\n",
       "      <td>1.386294</td>\n",
       "      <td>1.098612</td>\n",
       "      <td>0.693147</td>\n",
       "      <td>3.367296</td>\n",
       "      <td>7.745436</td>\n",
       "      <td>2.158482</td>\n",
       "      <td>6.386753</td>\n",
       "    </tr>\n",
       "    <tr>\n",
       "      <th>1</th>\n",
       "      <td>0.000000</td>\n",
       "      <td>0.693147</td>\n",
       "      <td>1.098612</td>\n",
       "      <td>1.098612</td>\n",
       "      <td>0.693147</td>\n",
       "      <td>0.693147</td>\n",
       "      <td>1.098612</td>\n",
       "      <td>0.000000</td>\n",
       "      <td>2.708050</td>\n",
       "      <td>2.197225</td>\n",
       "      <td>0.693147</td>\n",
       "      <td>0.693147</td>\n",
       "      <td>1.098612</td>\n",
       "      <td>0.000000</td>\n",
       "      <td>0.000000</td>\n",
       "      <td>3.465736</td>\n",
       "      <td>11.744291</td>\n",
       "      <td>2.665934</td>\n",
       "      <td>5.921578</td>\n",
       "    </tr>\n",
       "    <tr>\n",
       "      <th>2</th>\n",
       "      <td>0.000000</td>\n",
       "      <td>0.000000</td>\n",
       "      <td>0.000000</td>\n",
       "      <td>1.386294</td>\n",
       "      <td>1.098612</td>\n",
       "      <td>1.098612</td>\n",
       "      <td>0.693147</td>\n",
       "      <td>0.000000</td>\n",
       "      <td>2.833213</td>\n",
       "      <td>2.302585</td>\n",
       "      <td>0.000000</td>\n",
       "      <td>0.693147</td>\n",
       "      <td>0.693147</td>\n",
       "      <td>0.693147</td>\n",
       "      <td>0.693147</td>\n",
       "      <td>3.871201</td>\n",
       "      <td>9.746424</td>\n",
       "      <td>3.232957</td>\n",
       "      <td>6.709304</td>\n",
       "    </tr>\n",
       "    <tr>\n",
       "      <th>3</th>\n",
       "      <td>0.000000</td>\n",
       "      <td>0.000000</td>\n",
       "      <td>1.386294</td>\n",
       "      <td>1.386294</td>\n",
       "      <td>0.693147</td>\n",
       "      <td>0.693147</td>\n",
       "      <td>0.693147</td>\n",
       "      <td>0.693147</td>\n",
       "      <td>1.386294</td>\n",
       "      <td>1.791759</td>\n",
       "      <td>1.098612</td>\n",
       "      <td>0.693147</td>\n",
       "      <td>0.000000</td>\n",
       "      <td>1.098612</td>\n",
       "      <td>0.693147</td>\n",
       "      <td>3.367296</td>\n",
       "      <td>10.323020</td>\n",
       "      <td>1.814210</td>\n",
       "      <td>6.647688</td>\n",
       "    </tr>\n",
       "    <tr>\n",
       "      <th>4</th>\n",
       "      <td>0.693147</td>\n",
       "      <td>0.000000</td>\n",
       "      <td>1.098612</td>\n",
       "      <td>0.693147</td>\n",
       "      <td>1.098612</td>\n",
       "      <td>0.693147</td>\n",
       "      <td>1.098612</td>\n",
       "      <td>0.000000</td>\n",
       "      <td>2.708050</td>\n",
       "      <td>2.079442</td>\n",
       "      <td>0.000000</td>\n",
       "      <td>0.000000</td>\n",
       "      <td>1.386294</td>\n",
       "      <td>1.098612</td>\n",
       "      <td>1.386294</td>\n",
       "      <td>3.218876</td>\n",
       "      <td>9.293210</td>\n",
       "      <td>2.552889</td>\n",
       "      <td>6.628041</td>\n",
       "    </tr>\n",
       "  </tbody>\n",
       "</table>\n",
       "</div>"
      ],
      "text/plain": [
       "     Gender  Marital Status  Number of Dependents  Education Level  \\\n",
       "0  0.000000        1.098612              1.609438         0.000000   \n",
       "1  0.000000        0.693147              1.098612         1.098612   \n",
       "2  0.000000        0.000000              0.000000         1.386294   \n",
       "3  0.000000        0.000000              1.386294         1.386294   \n",
       "4  0.693147        0.000000              1.098612         0.693147   \n",
       "\n",
       "   Occupation  Location  Policy Type  Previous Claims  Vehicle Age  \\\n",
       "0    0.693147  0.000000     0.000000         0.000000     2.995732   \n",
       "1    0.693147  0.693147     1.098612         0.000000     2.708050   \n",
       "2    1.098612  1.098612     0.693147         0.000000     2.833213   \n",
       "3    0.693147  0.693147     0.693147         0.693147     1.386294   \n",
       "4    1.098612  0.693147     1.098612         0.000000     2.708050   \n",
       "\n",
       "   Insurance Duration  Customer Feedback  Smoking Status  Exercise Frequency  \\\n",
       "0            0.693147           1.098612        0.693147            1.386294   \n",
       "1            2.197225           0.693147        0.693147            1.098612   \n",
       "2            2.302585           0.000000        0.693147            0.693147   \n",
       "3            1.791759           1.098612        0.693147            0.000000   \n",
       "4            2.079442           0.000000        0.000000            1.386294   \n",
       "\n",
       "   Property Type  Policy Age       Age  Annual Income  Health Score  \\\n",
       "0       1.098612    0.693147  3.367296       7.745436      2.158482   \n",
       "1       0.000000    0.000000  3.465736      11.744291      2.665934   \n",
       "2       0.693147    0.693147  3.871201       9.746424      3.232957   \n",
       "3       1.098612    0.693147  3.367296      10.323020      1.814210   \n",
       "4       1.098612    1.386294  3.218876       9.293210      2.552889   \n",
       "\n",
       "   Credit Score  \n",
       "0      6.386753  \n",
       "1      5.921578  \n",
       "2      6.709304  \n",
       "3      6.647688  \n",
       "4      6.628041  "
      ]
     },
     "execution_count": 31,
     "metadata": {},
     "output_type": "execute_result"
    }
   ],
   "source": [
    "X_test.head()"
   ]
  },
  {
   "cell_type": "code",
   "execution_count": 32,
   "id": "66d26649-eeef-47fd-a33f-96a21f6cf783",
   "metadata": {},
   "outputs": [
    {
     "data": {
      "text/plain": [
       "0    7.962067\n",
       "1    7.302496\n",
       "2    6.342121\n",
       "3    6.641182\n",
       "4    7.612337\n",
       "Name: Premium Amount, dtype: float64"
      ]
     },
     "execution_count": 32,
     "metadata": {},
     "output_type": "execute_result"
    }
   ],
   "source": [
    "y_train[:5]"
   ]
  },
  {
   "cell_type": "code",
   "execution_count": 33,
   "id": "a5adef59-4ce9-4fe2-acc6-395071431909",
   "metadata": {},
   "outputs": [
    {
     "name": "stdout",
     "output_type": "stream",
     "text": [
      "[LightGBM] [Warning] Found whitespace in feature_names, replace with underlines\n",
      "[LightGBM] [Info] Auto-choosing row-wise multi-threading, the overhead of testing was 0.032213 seconds.\n",
      "You can set `force_row_wise=true` to remove the overhead.\n",
      "And if memory is not enough, you can set `force_col_wise=true`.\n",
      "[LightGBM] [Info] Total Bins 891\n",
      "[LightGBM] [Info] Number of data points in the train set: 1199993, number of used features: 19\n",
      "[LightGBM] [Info] Start training from score 6.593887\n",
      "CPU times: user 26.8 s, sys: 506 ms, total: 27.3 s\n",
      "Wall time: 8.59 s\n"
     ]
    },
    {
     "data": {
      "text/plain": [
       "LGBMRegressor(learning_rate=0.05, max_depth=7, n_estimators=150, num_leaves=70,\n",
       "              objective='regression', random_state=42)"
      ]
     },
     "execution_count": 33,
     "metadata": {},
     "output_type": "execute_result"
    }
   ],
   "source": [
    "%%time\n",
    "from lightgbm import LGBMRegressor\n",
    "model = LGBMRegressor(random_state=42,\n",
    "                     n_estimators=150,\n",
    "                     max_depth=7,\n",
    "                     num_leaves=70,\n",
    "                     objective='regression',\n",
    "                     learning_rate=0.05,\n",
    "                     boosting_type='gbdt')\n",
    "model.fit(X_train,y_train)"
   ]
  },
  {
   "cell_type": "code",
   "execution_count": 35,
   "id": "85f001a8-47a7-4473-9089-8c7a42a25d9b",
   "metadata": {},
   "outputs": [],
   "source": [
    "y_pred = np.expm1(model.predict(X_test))"
   ]
  },
  {
   "cell_type": "code",
   "execution_count": 36,
   "id": "8bebe6a1-dcfb-42c5-bf8e-4563021d0660",
   "metadata": {},
   "outputs": [
    {
     "data": {
      "text/plain": [
       "array([668.15370473, 802.24111155, 799.69978999, 801.74498509,\n",
       "       762.70737784, 746.57567437, 965.52200702, 648.96032875,\n",
       "       284.39870266, 825.55108975])"
      ]
     },
     "execution_count": 36,
     "metadata": {},
     "output_type": "execute_result"
    }
   ],
   "source": [
    "y_pred[:10]"
   ]
  },
  {
   "cell_type": "code",
   "execution_count": 37,
   "id": "5668c107-eb8c-461a-a9fa-b6a2fb22fbfa",
   "metadata": {},
   "outputs": [
    {
     "data": {
      "text/plain": [
       "numpy.ndarray"
      ]
     },
     "execution_count": 37,
     "metadata": {},
     "output_type": "execute_result"
    }
   ],
   "source": [
    "type(y_pred)"
   ]
  },
  {
   "cell_type": "code",
   "execution_count": 39,
   "id": "987b784f-96fa-4953-b303-f1c70257eb7e",
   "metadata": {},
   "outputs": [],
   "source": [
    "series = pd.Series(y_pred, name='Premium Amount')\n",
    "\n",
    "# Concatenate the DataFrame and Series along columns (axis=1)\n",
    "result = pd.concat([submissionDF, series], axis=1)"
   ]
  },
  {
   "cell_type": "code",
   "execution_count": 40,
   "id": "753c5971-83a9-4cfa-8ec8-35de395df3e9",
   "metadata": {},
   "outputs": [
    {
     "data": {
      "text/plain": [
       "(800000, 2)"
      ]
     },
     "execution_count": 40,
     "metadata": {},
     "output_type": "execute_result"
    }
   ],
   "source": [
    "result.shape"
   ]
  },
  {
   "cell_type": "code",
   "execution_count": 41,
   "id": "f5896ac8-319b-44d4-8168-759dda51a068",
   "metadata": {},
   "outputs": [
    {
     "data": {
      "text/html": [
       "<div>\n",
       "<style scoped>\n",
       "    .dataframe tbody tr th:only-of-type {\n",
       "        vertical-align: middle;\n",
       "    }\n",
       "\n",
       "    .dataframe tbody tr th {\n",
       "        vertical-align: top;\n",
       "    }\n",
       "\n",
       "    .dataframe thead th {\n",
       "        text-align: right;\n",
       "    }\n",
       "</style>\n",
       "<table border=\"1\" class=\"dataframe\">\n",
       "  <thead>\n",
       "    <tr style=\"text-align: right;\">\n",
       "      <th></th>\n",
       "      <th>id</th>\n",
       "      <th>Premium Amount</th>\n",
       "    </tr>\n",
       "  </thead>\n",
       "  <tbody>\n",
       "    <tr>\n",
       "      <th>0</th>\n",
       "      <td>1200000</td>\n",
       "      <td>668.153705</td>\n",
       "    </tr>\n",
       "    <tr>\n",
       "      <th>1</th>\n",
       "      <td>1200001</td>\n",
       "      <td>802.241112</td>\n",
       "    </tr>\n",
       "    <tr>\n",
       "      <th>2</th>\n",
       "      <td>1200002</td>\n",
       "      <td>799.699790</td>\n",
       "    </tr>\n",
       "    <tr>\n",
       "      <th>3</th>\n",
       "      <td>1200003</td>\n",
       "      <td>801.744985</td>\n",
       "    </tr>\n",
       "    <tr>\n",
       "      <th>4</th>\n",
       "      <td>1200004</td>\n",
       "      <td>762.707378</td>\n",
       "    </tr>\n",
       "  </tbody>\n",
       "</table>\n",
       "</div>"
      ],
      "text/plain": [
       "        id  Premium Amount\n",
       "0  1200000      668.153705\n",
       "1  1200001      802.241112\n",
       "2  1200002      799.699790\n",
       "3  1200003      801.744985\n",
       "4  1200004      762.707378"
      ]
     },
     "execution_count": 41,
     "metadata": {},
     "output_type": "execute_result"
    }
   ],
   "source": [
    "result.head()"
   ]
  },
  {
   "cell_type": "code",
   "execution_count": 42,
   "id": "fdf94135-f7d4-4685-9aca-7a59e86bfd8b",
   "metadata": {},
   "outputs": [],
   "source": [
    "result.to_csv('submission.csv',index=False)"
   ]
  },
  {
   "cell_type": "code",
   "execution_count": null,
   "id": "5e763015-f26d-4f3d-bb1f-286f60f3b43d",
   "metadata": {},
   "outputs": [],
   "source": []
  },
  {
   "cell_type": "code",
   "execution_count": null,
   "id": "92f43a32-abe1-42b0-98c1-3a9bb6229137",
   "metadata": {},
   "outputs": [],
   "source": []
  },
  {
   "cell_type": "code",
   "execution_count": null,
   "id": "832a8b44-53cc-4af8-9b10-6d0e169487e2",
   "metadata": {},
   "outputs": [],
   "source": []
  },
  {
   "cell_type": "code",
   "execution_count": null,
   "id": "d782353d-783a-4108-87eb-d6979ae00cf3",
   "metadata": {},
   "outputs": [],
   "source": []
  },
  {
   "cell_type": "code",
   "execution_count": null,
   "id": "d622ab43-cc1f-4a0d-a25d-05ed99335d29",
   "metadata": {},
   "outputs": [],
   "source": [
    "!pip install lightgbm"
   ]
  },
  {
   "cell_type": "code",
   "execution_count": null,
   "id": "4bbe270f-4f6a-4616-8319-423a60e9b644",
   "metadata": {},
   "outputs": [],
   "source": [
    "params = {\n",
    "    'objective': 'regression',\n",
    "    'metric': 'rmse',\n",
    "    'boosting_type': 'gbdt',\n",
    "    'num_leaves': 31,\n",
    "    'learning_rate': 0.05,\n",
    "    'feature_fraction': 0.9,\n",
    "}"
   ]
  },
  {
   "cell_type": "code",
   "execution_count": null,
   "id": "b6e9ef8f-27be-430d-bcde-6dea2ae56228",
   "metadata": {},
   "outputs": [],
   "source": [
    "%%time\n",
    "from sklearn.metrics import mean_squared_error as mse\n",
    "from lightgbm import LGBMRegressor\n",
    "\n",
    "model = LGBMRegressor(metric='rmse',\n",
    "                     objective= 'regression',\n",
    "    boosting_type= 'gbdt',\n",
    "    num_leaves= 31,\n",
    "    learning_rate= 0.05,\n",
    "    feature_fraction= 0.9,)\n",
    "\n",
    "model.fit(X_train, y_train)"
   ]
  },
  {
   "cell_type": "code",
   "execution_count": null,
   "id": "685630d8-88e0-4e9f-b96b-5807834c9a04",
   "metadata": {},
   "outputs": [],
   "source": [
    "pred_train = model.predict(X_train)\n",
    "pred_test = model.predict(X_test)"
   ]
  },
  {
   "cell_type": "code",
   "execution_count": null,
   "id": "80dca861-0b6f-4bf6-98de-39703ce4e196",
   "metadata": {},
   "outputs": [],
   "source": [
    "y_test[:10]"
   ]
  },
  {
   "cell_type": "code",
   "execution_count": null,
   "id": "fc12f659-5022-45bc-91b1-3f5551aed72f",
   "metadata": {},
   "outputs": [],
   "source": [
    "pd.Series(pred_test[:10])"
   ]
  },
  {
   "cell_type": "code",
   "execution_count": null,
   "id": "9692fe98-6135-444f-83c9-4e0913dd36ab",
   "metadata": {},
   "outputs": [],
   "source": [
    "print('Training RMSE:', np.sqrt(mse(y_train, pred_train)))\n",
    "print('Testing RMSE:', np.sqrt(mse(y_test, pred_test)))"
   ]
  },
  {
   "cell_type": "code",
   "execution_count": null,
   "id": "841dcb4c-b143-4d8b-abdb-d2e1ecc6dcaa",
   "metadata": {},
   "outputs": [],
   "source": []
  },
  {
   "cell_type": "code",
   "execution_count": null,
   "id": "9d1d20ea-0461-46f5-a5b6-037292ccadce",
   "metadata": {},
   "outputs": [],
   "source": []
  },
  {
   "cell_type": "code",
   "execution_count": null,
   "id": "8f178b8b-b0e9-4cfa-b585-b9201c8779b0",
   "metadata": {},
   "outputs": [],
   "source": []
  },
  {
   "cell_type": "code",
   "execution_count": null,
   "id": "58ae34c2-8da6-4a2f-a623-f7b838f22439",
   "metadata": {},
   "outputs": [],
   "source": []
  },
  {
   "cell_type": "code",
   "execution_count": null,
   "id": "49d9bba3-a424-4a9a-a5a8-507113985120",
   "metadata": {},
   "outputs": [],
   "source": []
  }
 ],
 "metadata": {
  "kernelspec": {
   "display_name": "Python 3 (ipykernel)",
   "language": "python",
   "name": "python3"
  },
  "language_info": {
   "codemirror_mode": {
    "name": "ipython",
    "version": 3
   },
   "file_extension": ".py",
   "mimetype": "text/x-python",
   "name": "python",
   "nbconvert_exporter": "python",
   "pygments_lexer": "ipython3",
   "version": "3.10.16"
  }
 },
 "nbformat": 4,
 "nbformat_minor": 5
}
